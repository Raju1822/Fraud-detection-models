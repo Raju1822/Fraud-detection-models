{
 "cells": [
  {
   "cell_type": "markdown",
   "metadata": {},
   "source": [
    "<div align='center'><font size='10' color='brick'> NY Property tax fraud</font></div>\n",
    "\n",
    "<br>\n",
    "\n",
    "<div align='left'><font size='4.3' color='black'>  HW 2 - Calculating all variables</font></div>"
   ]
  },
  {
   "cell_type": "markdown",
   "metadata": {},
   "source": [
    "# Loading Packages\n"
   ]
  },
  {
   "cell_type": "code",
   "execution_count": 1,
   "metadata": {
    "ExecuteTime": {
     "end_time": "2021-02-11T07:47:30.895420Z",
     "start_time": "2021-02-11T07:47:30.883926Z"
    }
   },
   "outputs": [],
   "source": [
    "#! pip install keras\n",
    "#! pip install tensorflow"
   ]
  },
  {
   "cell_type": "code",
   "execution_count": 2,
   "metadata": {
    "ExecuteTime": {
     "end_time": "2021-02-11T07:47:40.469106Z",
     "start_time": "2021-02-11T07:47:30.899495Z"
    }
   },
   "outputs": [],
   "source": [
    "import pandas as pd\n",
    "import numpy as np\n",
    "pd.set_option('max_columns', None)\n",
    "import matplotlib.pyplot as plt\n",
    "from keras.models import Model\n",
    "from keras.layers import Input, Dense\n",
    "from sklearn.decomposition import PCA\n",
    "import seaborn as sns"
   ]
  },
  {
   "cell_type": "markdown",
   "metadata": {},
   "source": [
    "# Loading Data\n",
    "\n",
    "I decided not to use `RECORD` as the index at this step. Even though it is a unique identifier, I found that it caused an error while indexing since the RECORD field starts from 1,2,.. while Python indexes from 0,1,2,..."
   ]
  },
  {
   "cell_type": "code",
   "execution_count": 3,
   "metadata": {
    "ExecuteTime": {
     "end_time": "2021-02-11T07:47:46.652069Z",
     "start_time": "2021-02-11T07:47:40.474105Z"
    }
   },
   "outputs": [
    {
     "data": {
      "text/html": [
       "<div>\n",
       "<style scoped>\n",
       "    .dataframe tbody tr th:only-of-type {\n",
       "        vertical-align: middle;\n",
       "    }\n",
       "\n",
       "    .dataframe tbody tr th {\n",
       "        vertical-align: top;\n",
       "    }\n",
       "\n",
       "    .dataframe thead th {\n",
       "        text-align: right;\n",
       "    }\n",
       "</style>\n",
       "<table border=\"1\" class=\"dataframe\">\n",
       "  <thead>\n",
       "    <tr style=\"text-align: right;\">\n",
       "      <th></th>\n",
       "      <th>RECORD</th>\n",
       "      <th>BBLE</th>\n",
       "      <th>B</th>\n",
       "      <th>BLOCK</th>\n",
       "      <th>LOT</th>\n",
       "      <th>EASEMENT</th>\n",
       "      <th>OWNER</th>\n",
       "      <th>BLDGCL</th>\n",
       "      <th>TAXCLASS</th>\n",
       "      <th>LTFRONT</th>\n",
       "      <th>LTDEPTH</th>\n",
       "      <th>EXT</th>\n",
       "      <th>STORIES</th>\n",
       "      <th>FULLVAL</th>\n",
       "      <th>AVLAND</th>\n",
       "      <th>AVTOT</th>\n",
       "      <th>EXLAND</th>\n",
       "      <th>EXTOT</th>\n",
       "      <th>EXCD1</th>\n",
       "      <th>STADDR</th>\n",
       "      <th>ZIP</th>\n",
       "      <th>EXMPTCL</th>\n",
       "      <th>BLDFRONT</th>\n",
       "      <th>BLDDEPTH</th>\n",
       "      <th>AVLAND2</th>\n",
       "      <th>AVTOT2</th>\n",
       "      <th>EXLAND2</th>\n",
       "      <th>EXTOT2</th>\n",
       "      <th>EXCD2</th>\n",
       "      <th>PERIOD</th>\n",
       "      <th>YEAR</th>\n",
       "      <th>VALTYPE</th>\n",
       "    </tr>\n",
       "  </thead>\n",
       "  <tbody>\n",
       "    <tr>\n",
       "      <th>0</th>\n",
       "      <td>1</td>\n",
       "      <td>1000010101</td>\n",
       "      <td>1</td>\n",
       "      <td>1</td>\n",
       "      <td>101</td>\n",
       "      <td>NaN</td>\n",
       "      <td>U S GOVT LAND &amp; BLDGS</td>\n",
       "      <td>P7</td>\n",
       "      <td>4</td>\n",
       "      <td>500</td>\n",
       "      <td>1046</td>\n",
       "      <td>NaN</td>\n",
       "      <td>NaN</td>\n",
       "      <td>21400000.0</td>\n",
       "      <td>4225500.0</td>\n",
       "      <td>9630000.0</td>\n",
       "      <td>4225500.0</td>\n",
       "      <td>9630000.0</td>\n",
       "      <td>4600.0</td>\n",
       "      <td>1 LIBERTY ISLAND</td>\n",
       "      <td>10004.0</td>\n",
       "      <td>X3</td>\n",
       "      <td>0</td>\n",
       "      <td>0</td>\n",
       "      <td>3775500.0</td>\n",
       "      <td>8613000.0</td>\n",
       "      <td>3775500.0</td>\n",
       "      <td>8613000.0</td>\n",
       "      <td>NaN</td>\n",
       "      <td>FINAL</td>\n",
       "      <td>2010/11</td>\n",
       "      <td>AC-TR</td>\n",
       "    </tr>\n",
       "    <tr>\n",
       "      <th>1</th>\n",
       "      <td>2</td>\n",
       "      <td>1000010201</td>\n",
       "      <td>1</td>\n",
       "      <td>1</td>\n",
       "      <td>201</td>\n",
       "      <td>NaN</td>\n",
       "      <td>U S GOVT LAND &amp; BLDGS</td>\n",
       "      <td>Z9</td>\n",
       "      <td>4</td>\n",
       "      <td>27</td>\n",
       "      <td>0</td>\n",
       "      <td>NaN</td>\n",
       "      <td>NaN</td>\n",
       "      <td>193800000.0</td>\n",
       "      <td>14310000.0</td>\n",
       "      <td>87210000.0</td>\n",
       "      <td>14310000.0</td>\n",
       "      <td>87210000.0</td>\n",
       "      <td>4600.0</td>\n",
       "      <td>1 ELLIS ISLAND</td>\n",
       "      <td>10004.0</td>\n",
       "      <td>X3</td>\n",
       "      <td>0</td>\n",
       "      <td>0</td>\n",
       "      <td>11111400.0</td>\n",
       "      <td>80690400.0</td>\n",
       "      <td>11111400.0</td>\n",
       "      <td>80690400.0</td>\n",
       "      <td>NaN</td>\n",
       "      <td>FINAL</td>\n",
       "      <td>2010/11</td>\n",
       "      <td>AC-TR</td>\n",
       "    </tr>\n",
       "    <tr>\n",
       "      <th>2</th>\n",
       "      <td>3</td>\n",
       "      <td>1000020001</td>\n",
       "      <td>1</td>\n",
       "      <td>2</td>\n",
       "      <td>1</td>\n",
       "      <td>NaN</td>\n",
       "      <td>DEPT OF GENERAL SERVI</td>\n",
       "      <td>Y7</td>\n",
       "      <td>4</td>\n",
       "      <td>709</td>\n",
       "      <td>564</td>\n",
       "      <td>E</td>\n",
       "      <td>3.0</td>\n",
       "      <td>104686000.0</td>\n",
       "      <td>39008700.0</td>\n",
       "      <td>47108700.0</td>\n",
       "      <td>39008700.0</td>\n",
       "      <td>47108700.0</td>\n",
       "      <td>2191.0</td>\n",
       "      <td>MARGINAL STREET</td>\n",
       "      <td>10004.0</td>\n",
       "      <td>X1</td>\n",
       "      <td>709</td>\n",
       "      <td>564</td>\n",
       "      <td>32321790.0</td>\n",
       "      <td>40179510.0</td>\n",
       "      <td>32321790.0</td>\n",
       "      <td>40179510.0</td>\n",
       "      <td>NaN</td>\n",
       "      <td>FINAL</td>\n",
       "      <td>2010/11</td>\n",
       "      <td>AC-TR</td>\n",
       "    </tr>\n",
       "    <tr>\n",
       "      <th>3</th>\n",
       "      <td>4</td>\n",
       "      <td>1000020023</td>\n",
       "      <td>1</td>\n",
       "      <td>2</td>\n",
       "      <td>23</td>\n",
       "      <td>NaN</td>\n",
       "      <td>DEPARTMENT OF BUSINES</td>\n",
       "      <td>T2</td>\n",
       "      <td>4</td>\n",
       "      <td>793</td>\n",
       "      <td>551</td>\n",
       "      <td>NaN</td>\n",
       "      <td>2.0</td>\n",
       "      <td>39200000.0</td>\n",
       "      <td>15255000.0</td>\n",
       "      <td>17640000.0</td>\n",
       "      <td>15255000.0</td>\n",
       "      <td>17640000.0</td>\n",
       "      <td>2191.0</td>\n",
       "      <td>PIER 6</td>\n",
       "      <td>10004.0</td>\n",
       "      <td>X1</td>\n",
       "      <td>85</td>\n",
       "      <td>551</td>\n",
       "      <td>13644000.0</td>\n",
       "      <td>15750000.0</td>\n",
       "      <td>13644000.0</td>\n",
       "      <td>15750000.0</td>\n",
       "      <td>NaN</td>\n",
       "      <td>FINAL</td>\n",
       "      <td>2010/11</td>\n",
       "      <td>AC-TR</td>\n",
       "    </tr>\n",
       "    <tr>\n",
       "      <th>4</th>\n",
       "      <td>5</td>\n",
       "      <td>1000030001</td>\n",
       "      <td>1</td>\n",
       "      <td>3</td>\n",
       "      <td>1</td>\n",
       "      <td>NaN</td>\n",
       "      <td>PARKS AND RECREATION</td>\n",
       "      <td>Q1</td>\n",
       "      <td>4</td>\n",
       "      <td>323</td>\n",
       "      <td>1260</td>\n",
       "      <td>NaN</td>\n",
       "      <td>1.0</td>\n",
       "      <td>272300000.0</td>\n",
       "      <td>121050000.0</td>\n",
       "      <td>122535000.0</td>\n",
       "      <td>121050000.0</td>\n",
       "      <td>122535000.0</td>\n",
       "      <td>2231.0</td>\n",
       "      <td>BATTERY PARK</td>\n",
       "      <td>10004.0</td>\n",
       "      <td>X1</td>\n",
       "      <td>89</td>\n",
       "      <td>57</td>\n",
       "      <td>106348680.0</td>\n",
       "      <td>107758350.0</td>\n",
       "      <td>106348680.0</td>\n",
       "      <td>107758350.0</td>\n",
       "      <td>NaN</td>\n",
       "      <td>FINAL</td>\n",
       "      <td>2010/11</td>\n",
       "      <td>AC-TR</td>\n",
       "    </tr>\n",
       "  </tbody>\n",
       "</table>\n",
       "</div>"
      ],
      "text/plain": [
       "   RECORD        BBLE  B  BLOCK  LOT EASEMENT                  OWNER BLDGCL  \\\n",
       "0       1  1000010101  1      1  101      NaN  U S GOVT LAND & BLDGS     P7   \n",
       "1       2  1000010201  1      1  201      NaN  U S GOVT LAND & BLDGS     Z9   \n",
       "2       3  1000020001  1      2    1      NaN  DEPT OF GENERAL SERVI     Y7   \n",
       "3       4  1000020023  1      2   23      NaN  DEPARTMENT OF BUSINES     T2   \n",
       "4       5  1000030001  1      3    1      NaN   PARKS AND RECREATION     Q1   \n",
       "\n",
       "  TAXCLASS  LTFRONT  LTDEPTH  EXT  STORIES      FULLVAL       AVLAND  \\\n",
       "0        4      500     1046  NaN      NaN   21400000.0    4225500.0   \n",
       "1        4       27        0  NaN      NaN  193800000.0   14310000.0   \n",
       "2        4      709      564    E      3.0  104686000.0   39008700.0   \n",
       "3        4      793      551  NaN      2.0   39200000.0   15255000.0   \n",
       "4        4      323     1260  NaN      1.0  272300000.0  121050000.0   \n",
       "\n",
       "         AVTOT       EXLAND        EXTOT   EXCD1            STADDR      ZIP  \\\n",
       "0    9630000.0    4225500.0    9630000.0  4600.0  1 LIBERTY ISLAND  10004.0   \n",
       "1   87210000.0   14310000.0   87210000.0  4600.0    1 ELLIS ISLAND  10004.0   \n",
       "2   47108700.0   39008700.0   47108700.0  2191.0   MARGINAL STREET  10004.0   \n",
       "3   17640000.0   15255000.0   17640000.0  2191.0            PIER 6  10004.0   \n",
       "4  122535000.0  121050000.0  122535000.0  2231.0      BATTERY PARK  10004.0   \n",
       "\n",
       "  EXMPTCL  BLDFRONT  BLDDEPTH      AVLAND2       AVTOT2      EXLAND2  \\\n",
       "0      X3         0         0    3775500.0    8613000.0    3775500.0   \n",
       "1      X3         0         0   11111400.0   80690400.0   11111400.0   \n",
       "2      X1       709       564   32321790.0   40179510.0   32321790.0   \n",
       "3      X1        85       551   13644000.0   15750000.0   13644000.0   \n",
       "4      X1        89        57  106348680.0  107758350.0  106348680.0   \n",
       "\n",
       "        EXTOT2  EXCD2 PERIOD     YEAR VALTYPE  \n",
       "0    8613000.0    NaN  FINAL  2010/11   AC-TR  \n",
       "1   80690400.0    NaN  FINAL  2010/11   AC-TR  \n",
       "2   40179510.0    NaN  FINAL  2010/11   AC-TR  \n",
       "3   15750000.0    NaN  FINAL  2010/11   AC-TR  \n",
       "4  107758350.0    NaN  FINAL  2010/11   AC-TR  "
      ]
     },
     "execution_count": 3,
     "metadata": {},
     "output_type": "execute_result"
    }
   ],
   "source": [
    "prop_df=pd.read_csv(\"NY property data.csv\")\n",
    "prop_df.head()"
   ]
  },
  {
   "cell_type": "code",
   "execution_count": 4,
   "metadata": {
    "ExecuteTime": {
     "end_time": "2021-02-11T07:47:46.661590Z",
     "start_time": "2021-02-11T07:47:46.655975Z"
    }
   },
   "outputs": [
    {
     "data": {
      "text/plain": [
       "(1070994, 32)"
      ]
     },
     "execution_count": 4,
     "metadata": {},
     "output_type": "execute_result"
    }
   ],
   "source": [
    "# Quickly looking at the shape of the data\n",
    "prop_df.shape"
   ]
  },
  {
   "cell_type": "code",
   "execution_count": 5,
   "metadata": {
    "ExecuteTime": {
     "end_time": "2021-02-11T07:47:47.934527Z",
     "start_time": "2021-02-11T07:47:46.664199Z"
    }
   },
   "outputs": [
    {
     "data": {
      "text/html": [
       "<div>\n",
       "<style scoped>\n",
       "    .dataframe tbody tr th:only-of-type {\n",
       "        vertical-align: middle;\n",
       "    }\n",
       "\n",
       "    .dataframe tbody tr th {\n",
       "        vertical-align: top;\n",
       "    }\n",
       "\n",
       "    .dataframe thead th {\n",
       "        text-align: right;\n",
       "    }\n",
       "</style>\n",
       "<table border=\"1\" class=\"dataframe\">\n",
       "  <thead>\n",
       "    <tr style=\"text-align: right;\">\n",
       "      <th></th>\n",
       "      <th>RECORD</th>\n",
       "      <th>B</th>\n",
       "      <th>BLOCK</th>\n",
       "      <th>LOT</th>\n",
       "      <th>LTFRONT</th>\n",
       "      <th>LTDEPTH</th>\n",
       "      <th>STORIES</th>\n",
       "      <th>FULLVAL</th>\n",
       "      <th>AVLAND</th>\n",
       "      <th>AVTOT</th>\n",
       "      <th>EXLAND</th>\n",
       "      <th>EXTOT</th>\n",
       "      <th>EXCD1</th>\n",
       "      <th>ZIP</th>\n",
       "      <th>BLDFRONT</th>\n",
       "      <th>BLDDEPTH</th>\n",
       "      <th>AVLAND2</th>\n",
       "      <th>AVTOT2</th>\n",
       "      <th>EXLAND2</th>\n",
       "      <th>EXTOT2</th>\n",
       "      <th>EXCD2</th>\n",
       "    </tr>\n",
       "  </thead>\n",
       "  <tbody>\n",
       "    <tr>\n",
       "      <th>count</th>\n",
       "      <td>1.07099e+06</td>\n",
       "      <td>1.07099e+06</td>\n",
       "      <td>1.07099e+06</td>\n",
       "      <td>1.07099e+06</td>\n",
       "      <td>1.07099e+06</td>\n",
       "      <td>1.07099e+06</td>\n",
       "      <td>1.01473e+06</td>\n",
       "      <td>1.07099e+06</td>\n",
       "      <td>1.07099e+06</td>\n",
       "      <td>1.07099e+06</td>\n",
       "      <td>1.07099e+06</td>\n",
       "      <td>1.07099e+06</td>\n",
       "      <td>638488</td>\n",
       "      <td>1.0411e+06</td>\n",
       "      <td>1.07099e+06</td>\n",
       "      <td>1.07099e+06</td>\n",
       "      <td>282726</td>\n",
       "      <td>282732</td>\n",
       "      <td>87449</td>\n",
       "      <td>130828</td>\n",
       "      <td>92948</td>\n",
       "    </tr>\n",
       "    <tr>\n",
       "      <th>mean</th>\n",
       "      <td>535498</td>\n",
       "      <td>3.21543</td>\n",
       "      <td>4757.24</td>\n",
       "      <td>364.722</td>\n",
       "      <td>36.6353</td>\n",
       "      <td>88.8616</td>\n",
       "      <td>5.00692</td>\n",
       "      <td>874265</td>\n",
       "      <td>85067.9</td>\n",
       "      <td>227238</td>\n",
       "      <td>36423.9</td>\n",
       "      <td>91187</td>\n",
       "      <td>1602.01</td>\n",
       "      <td>10924</td>\n",
       "      <td>23.0428</td>\n",
       "      <td>39.9228</td>\n",
       "      <td>246236</td>\n",
       "      <td>713911</td>\n",
       "      <td>351236</td>\n",
       "      <td>656768</td>\n",
       "      <td>1364.04</td>\n",
       "    </tr>\n",
       "    <tr>\n",
       "      <th>std</th>\n",
       "      <td>309169</td>\n",
       "      <td>1.2012</td>\n",
       "      <td>3676.58</td>\n",
       "      <td>853.215</td>\n",
       "      <td>74.0328</td>\n",
       "      <td>76.3963</td>\n",
       "      <td>8.36571</td>\n",
       "      <td>1.15824e+07</td>\n",
       "      <td>4.05726e+06</td>\n",
       "      <td>6.87753e+06</td>\n",
       "      <td>3.98158e+06</td>\n",
       "      <td>6.5084e+06</td>\n",
       "      <td>1384.23</td>\n",
       "      <td>528.421</td>\n",
       "      <td>35.5797</td>\n",
       "      <td>42.7072</td>\n",
       "      <td>6.17896e+06</td>\n",
       "      <td>1.16525e+07</td>\n",
       "      <td>1.08022e+07</td>\n",
       "      <td>1.60725e+07</td>\n",
       "      <td>1094.71</td>\n",
       "    </tr>\n",
       "    <tr>\n",
       "      <th>min</th>\n",
       "      <td>1</td>\n",
       "      <td>1</td>\n",
       "      <td>1</td>\n",
       "      <td>1</td>\n",
       "      <td>0</td>\n",
       "      <td>0</td>\n",
       "      <td>1</td>\n",
       "      <td>0</td>\n",
       "      <td>0</td>\n",
       "      <td>0</td>\n",
       "      <td>0</td>\n",
       "      <td>0</td>\n",
       "      <td>1010</td>\n",
       "      <td>10001</td>\n",
       "      <td>0</td>\n",
       "      <td>0</td>\n",
       "      <td>3</td>\n",
       "      <td>3</td>\n",
       "      <td>1</td>\n",
       "      <td>7</td>\n",
       "      <td>1011</td>\n",
       "    </tr>\n",
       "    <tr>\n",
       "      <th>25%</th>\n",
       "      <td>267749</td>\n",
       "      <td>3</td>\n",
       "      <td>1555</td>\n",
       "      <td>23</td>\n",
       "      <td>19</td>\n",
       "      <td>80</td>\n",
       "      <td>2</td>\n",
       "      <td>304000</td>\n",
       "      <td>9180</td>\n",
       "      <td>18374</td>\n",
       "      <td>0</td>\n",
       "      <td>0</td>\n",
       "      <td>1017</td>\n",
       "      <td>10314</td>\n",
       "      <td>15</td>\n",
       "      <td>26</td>\n",
       "      <td>5705</td>\n",
       "      <td>33912</td>\n",
       "      <td>2090</td>\n",
       "      <td>2870</td>\n",
       "      <td>1017</td>\n",
       "    </tr>\n",
       "    <tr>\n",
       "      <th>50%</th>\n",
       "      <td>535498</td>\n",
       "      <td>3</td>\n",
       "      <td>4047</td>\n",
       "      <td>49</td>\n",
       "      <td>25</td>\n",
       "      <td>100</td>\n",
       "      <td>2</td>\n",
       "      <td>447000</td>\n",
       "      <td>13678</td>\n",
       "      <td>25340</td>\n",
       "      <td>1620</td>\n",
       "      <td>1620</td>\n",
       "      <td>1017</td>\n",
       "      <td>11214</td>\n",
       "      <td>20</td>\n",
       "      <td>39</td>\n",
       "      <td>20145</td>\n",
       "      <td>79962.5</td>\n",
       "      <td>3048</td>\n",
       "      <td>37062</td>\n",
       "      <td>1017</td>\n",
       "    </tr>\n",
       "    <tr>\n",
       "      <th>75%</th>\n",
       "      <td>803246</td>\n",
       "      <td>4</td>\n",
       "      <td>6898</td>\n",
       "      <td>143</td>\n",
       "      <td>40</td>\n",
       "      <td>100</td>\n",
       "      <td>3</td>\n",
       "      <td>619000</td>\n",
       "      <td>19740</td>\n",
       "      <td>45438</td>\n",
       "      <td>1620</td>\n",
       "      <td>2090</td>\n",
       "      <td>1017</td>\n",
       "      <td>11364</td>\n",
       "      <td>24</td>\n",
       "      <td>50</td>\n",
       "      <td>62640</td>\n",
       "      <td>240551</td>\n",
       "      <td>31779</td>\n",
       "      <td>106841</td>\n",
       "      <td>1017</td>\n",
       "    </tr>\n",
       "    <tr>\n",
       "      <th>max</th>\n",
       "      <td>1.07099e+06</td>\n",
       "      <td>5</td>\n",
       "      <td>16350</td>\n",
       "      <td>9978</td>\n",
       "      <td>9999</td>\n",
       "      <td>9999</td>\n",
       "      <td>119</td>\n",
       "      <td>6.15e+09</td>\n",
       "      <td>2.6685e+09</td>\n",
       "      <td>4.66831e+09</td>\n",
       "      <td>2.6685e+09</td>\n",
       "      <td>4.66831e+09</td>\n",
       "      <td>7170</td>\n",
       "      <td>33803</td>\n",
       "      <td>7575</td>\n",
       "      <td>9393</td>\n",
       "      <td>2.37100e+09</td>\n",
       "      <td>4.50118e+09</td>\n",
       "      <td>2.37100e+09</td>\n",
       "      <td>4.50118e+09</td>\n",
       "      <td>7160</td>\n",
       "    </tr>\n",
       "  </tbody>\n",
       "</table>\n",
       "</div>"
      ],
      "text/plain": [
       "            RECORD            B        BLOCK          LOT      LTFRONT  \\\n",
       "count  1.07099e+06  1.07099e+06  1.07099e+06  1.07099e+06  1.07099e+06   \n",
       "mean        535498      3.21543      4757.24      364.722      36.6353   \n",
       "std         309169       1.2012      3676.58      853.215      74.0328   \n",
       "min              1            1            1            1            0   \n",
       "25%         267749            3         1555           23           19   \n",
       "50%         535498            3         4047           49           25   \n",
       "75%         803246            4         6898          143           40   \n",
       "max    1.07099e+06            5        16350         9978         9999   \n",
       "\n",
       "           LTDEPTH      STORIES      FULLVAL       AVLAND        AVTOT  \\\n",
       "count  1.07099e+06  1.01473e+06  1.07099e+06  1.07099e+06  1.07099e+06   \n",
       "mean       88.8616      5.00692       874265      85067.9       227238   \n",
       "std        76.3963      8.36571  1.15824e+07  4.05726e+06  6.87753e+06   \n",
       "min              0            1            0            0            0   \n",
       "25%             80            2       304000         9180        18374   \n",
       "50%            100            2       447000        13678        25340   \n",
       "75%            100            3       619000        19740        45438   \n",
       "max           9999          119     6.15e+09   2.6685e+09  4.66831e+09   \n",
       "\n",
       "            EXLAND        EXTOT    EXCD1         ZIP     BLDFRONT  \\\n",
       "count  1.07099e+06  1.07099e+06   638488  1.0411e+06  1.07099e+06   \n",
       "mean       36423.9        91187  1602.01       10924      23.0428   \n",
       "std    3.98158e+06   6.5084e+06  1384.23     528.421      35.5797   \n",
       "min              0            0     1010       10001            0   \n",
       "25%              0            0     1017       10314           15   \n",
       "50%           1620         1620     1017       11214           20   \n",
       "75%           1620         2090     1017       11364           24   \n",
       "max     2.6685e+09  4.66831e+09     7170       33803         7575   \n",
       "\n",
       "          BLDDEPTH      AVLAND2       AVTOT2      EXLAND2       EXTOT2  \\\n",
       "count  1.07099e+06       282726       282732        87449       130828   \n",
       "mean       39.9228       246236       713911       351236       656768   \n",
       "std        42.7072  6.17896e+06  1.16525e+07  1.08022e+07  1.60725e+07   \n",
       "min              0            3            3            1            7   \n",
       "25%             26         5705        33912         2090         2870   \n",
       "50%             39        20145      79962.5         3048        37062   \n",
       "75%             50        62640       240551        31779       106841   \n",
       "max           9393  2.37100e+09  4.50118e+09  2.37100e+09  4.50118e+09   \n",
       "\n",
       "         EXCD2  \n",
       "count    92948  \n",
       "mean   1364.04  \n",
       "std    1094.71  \n",
       "min       1011  \n",
       "25%       1017  \n",
       "50%       1017  \n",
       "75%       1017  \n",
       "max       7160  "
      ]
     },
     "execution_count": 5,
     "metadata": {},
     "output_type": "execute_result"
    }
   ],
   "source": [
    "# Basic statistics for each field\n",
    "prop_df.describe().apply(lambda s: s.apply(lambda x: format(x, 'g')))"
   ]
  },
  {
   "cell_type": "code",
   "execution_count": 6,
   "metadata": {
    "ExecuteTime": {
     "end_time": "2021-02-11T07:47:48.566849Z",
     "start_time": "2021-02-11T07:47:47.936854Z"
    }
   },
   "outputs": [
    {
     "name": "stdout",
     "output_type": "stream",
     "text": [
      "<class 'pandas.core.frame.DataFrame'>\n",
      "RangeIndex: 1070994 entries, 0 to 1070993\n",
      "Data columns (total 32 columns):\n",
      " #   Column    Non-Null Count    Dtype  \n",
      "---  ------    --------------    -----  \n",
      " 0   RECORD    1070994 non-null  int64  \n",
      " 1   BBLE      1070994 non-null  object \n",
      " 2   B         1070994 non-null  int64  \n",
      " 3   BLOCK     1070994 non-null  int64  \n",
      " 4   LOT       1070994 non-null  int64  \n",
      " 5   EASEMENT  4636 non-null     object \n",
      " 6   OWNER     1039249 non-null  object \n",
      " 7   BLDGCL    1070994 non-null  object \n",
      " 8   TAXCLASS  1070994 non-null  object \n",
      " 9   LTFRONT   1070994 non-null  int64  \n",
      " 10  LTDEPTH   1070994 non-null  int64  \n",
      " 11  EXT       354305 non-null   object \n",
      " 12  STORIES   1014730 non-null  float64\n",
      " 13  FULLVAL   1070994 non-null  float64\n",
      " 14  AVLAND    1070994 non-null  float64\n",
      " 15  AVTOT     1070994 non-null  float64\n",
      " 16  EXLAND    1070994 non-null  float64\n",
      " 17  EXTOT     1070994 non-null  float64\n",
      " 18  EXCD1     638488 non-null   float64\n",
      " 19  STADDR    1070318 non-null  object \n",
      " 20  ZIP       1041104 non-null  float64\n",
      " 21  EXMPTCL   15579 non-null    object \n",
      " 22  BLDFRONT  1070994 non-null  int64  \n",
      " 23  BLDDEPTH  1070994 non-null  int64  \n",
      " 24  AVLAND2   282726 non-null   float64\n",
      " 25  AVTOT2    282732 non-null   float64\n",
      " 26  EXLAND2   87449 non-null    float64\n",
      " 27  EXTOT2    130828 non-null   float64\n",
      " 28  EXCD2     92948 non-null    float64\n",
      " 29  PERIOD    1070994 non-null  object \n",
      " 30  YEAR      1070994 non-null  object \n",
      " 31  VALTYPE   1070994 non-null  object \n",
      "dtypes: float64(13), int64(8), object(11)\n",
      "memory usage: 261.5+ MB\n"
     ]
    }
   ],
   "source": [
    "prop_df.info()"
   ]
  },
  {
   "cell_type": "markdown",
   "metadata": {},
   "source": [
    "From the above data, we can see that there are certain fields with missing values."
   ]
  },
  {
   "cell_type": "markdown",
   "metadata": {},
   "source": [
    "# Data Cleaning"
   ]
  },
  {
   "cell_type": "markdown",
   "metadata": {},
   "source": [
    "Since in this case, we know what fields we will be working with, I decided to drop the other fields at this stage to marginally improve run time."
   ]
  },
  {
   "cell_type": "code",
   "execution_count": 7,
   "metadata": {
    "ExecuteTime": {
     "end_time": "2021-02-11T07:47:48.630363Z",
     "start_time": "2021-02-11T07:47:48.572328Z"
    }
   },
   "outputs": [],
   "source": [
    "data=prop_df.drop(columns=['BBLE', 'BLOCK', 'LOT', 'EASEMENT',\\\n",
    "                           'OWNER', 'BLDGCL', 'EXT', \\\n",
    "                           'EXLAND', 'EXTOT', 'EXCD1', 'STADDR', 'EXMPTCL', \\\n",
    "                           'AVLAND2', 'AVTOT2', 'EXLAND2', 'EXTOT2', 'EXCD2', 'PERIOD',\\\n",
    "                           'YEAR', 'VALTYPE'])"
   ]
  },
  {
   "cell_type": "code",
   "execution_count": 8,
   "metadata": {
    "ExecuteTime": {
     "end_time": "2021-02-11T07:47:48.725690Z",
     "start_time": "2021-02-11T07:47:48.680114Z"
    }
   },
   "outputs": [
    {
     "data": {
      "text/html": [
       "<div>\n",
       "<style scoped>\n",
       "    .dataframe tbody tr th:only-of-type {\n",
       "        vertical-align: middle;\n",
       "    }\n",
       "\n",
       "    .dataframe tbody tr th {\n",
       "        vertical-align: top;\n",
       "    }\n",
       "\n",
       "    .dataframe thead th {\n",
       "        text-align: right;\n",
       "    }\n",
       "</style>\n",
       "<table border=\"1\" class=\"dataframe\">\n",
       "  <thead>\n",
       "    <tr style=\"text-align: right;\">\n",
       "      <th></th>\n",
       "      <th>RECORD</th>\n",
       "      <th>B</th>\n",
       "      <th>TAXCLASS</th>\n",
       "      <th>LTFRONT</th>\n",
       "      <th>LTDEPTH</th>\n",
       "      <th>STORIES</th>\n",
       "      <th>FULLVAL</th>\n",
       "      <th>AVLAND</th>\n",
       "      <th>AVTOT</th>\n",
       "      <th>ZIP</th>\n",
       "      <th>BLDFRONT</th>\n",
       "      <th>BLDDEPTH</th>\n",
       "    </tr>\n",
       "  </thead>\n",
       "  <tbody>\n",
       "    <tr>\n",
       "      <th>0</th>\n",
       "      <td>1</td>\n",
       "      <td>1</td>\n",
       "      <td>4</td>\n",
       "      <td>500</td>\n",
       "      <td>1046</td>\n",
       "      <td>NaN</td>\n",
       "      <td>21400000.0</td>\n",
       "      <td>4225500.0</td>\n",
       "      <td>9630000.0</td>\n",
       "      <td>10004.0</td>\n",
       "      <td>0</td>\n",
       "      <td>0</td>\n",
       "    </tr>\n",
       "    <tr>\n",
       "      <th>1</th>\n",
       "      <td>2</td>\n",
       "      <td>1</td>\n",
       "      <td>4</td>\n",
       "      <td>27</td>\n",
       "      <td>0</td>\n",
       "      <td>NaN</td>\n",
       "      <td>193800000.0</td>\n",
       "      <td>14310000.0</td>\n",
       "      <td>87210000.0</td>\n",
       "      <td>10004.0</td>\n",
       "      <td>0</td>\n",
       "      <td>0</td>\n",
       "    </tr>\n",
       "    <tr>\n",
       "      <th>2</th>\n",
       "      <td>3</td>\n",
       "      <td>1</td>\n",
       "      <td>4</td>\n",
       "      <td>709</td>\n",
       "      <td>564</td>\n",
       "      <td>3.0</td>\n",
       "      <td>104686000.0</td>\n",
       "      <td>39008700.0</td>\n",
       "      <td>47108700.0</td>\n",
       "      <td>10004.0</td>\n",
       "      <td>709</td>\n",
       "      <td>564</td>\n",
       "    </tr>\n",
       "    <tr>\n",
       "      <th>3</th>\n",
       "      <td>4</td>\n",
       "      <td>1</td>\n",
       "      <td>4</td>\n",
       "      <td>793</td>\n",
       "      <td>551</td>\n",
       "      <td>2.0</td>\n",
       "      <td>39200000.0</td>\n",
       "      <td>15255000.0</td>\n",
       "      <td>17640000.0</td>\n",
       "      <td>10004.0</td>\n",
       "      <td>85</td>\n",
       "      <td>551</td>\n",
       "    </tr>\n",
       "    <tr>\n",
       "      <th>4</th>\n",
       "      <td>5</td>\n",
       "      <td>1</td>\n",
       "      <td>4</td>\n",
       "      <td>323</td>\n",
       "      <td>1260</td>\n",
       "      <td>1.0</td>\n",
       "      <td>272300000.0</td>\n",
       "      <td>121050000.0</td>\n",
       "      <td>122535000.0</td>\n",
       "      <td>10004.0</td>\n",
       "      <td>89</td>\n",
       "      <td>57</td>\n",
       "    </tr>\n",
       "  </tbody>\n",
       "</table>\n",
       "</div>"
      ],
      "text/plain": [
       "   RECORD  B TAXCLASS  LTFRONT  LTDEPTH  STORIES      FULLVAL       AVLAND  \\\n",
       "0       1  1        4      500     1046      NaN   21400000.0    4225500.0   \n",
       "1       2  1        4       27        0      NaN  193800000.0   14310000.0   \n",
       "2       3  1        4      709      564      3.0  104686000.0   39008700.0   \n",
       "3       4  1        4      793      551      2.0   39200000.0   15255000.0   \n",
       "4       5  1        4      323     1260      1.0  272300000.0  121050000.0   \n",
       "\n",
       "         AVTOT      ZIP  BLDFRONT  BLDDEPTH  \n",
       "0    9630000.0  10004.0         0         0  \n",
       "1   87210000.0  10004.0         0         0  \n",
       "2   47108700.0  10004.0       709       564  \n",
       "3   17640000.0  10004.0        85       551  \n",
       "4  122535000.0  10004.0        89        57  "
      ]
     },
     "execution_count": 8,
     "metadata": {},
     "output_type": "execute_result"
    }
   ],
   "source": [
    "data.head()"
   ]
  },
  {
   "cell_type": "code",
   "execution_count": 9,
   "metadata": {
    "ExecuteTime": {
     "end_time": "2021-02-11T07:47:48.875338Z",
     "start_time": "2021-02-11T07:47:48.738912Z"
    },
    "scrolled": true
   },
   "outputs": [
    {
     "name": "stdout",
     "output_type": "stream",
     "text": [
      "Shape of the new DataFrame: (1070994, 12)\n",
      "\n",
      "<class 'pandas.core.frame.DataFrame'>\n",
      "RangeIndex: 1070994 entries, 0 to 1070993\n",
      "Data columns (total 12 columns):\n",
      " #   Column    Non-Null Count    Dtype  \n",
      "---  ------    --------------    -----  \n",
      " 0   RECORD    1070994 non-null  int64  \n",
      " 1   B         1070994 non-null  int64  \n",
      " 2   TAXCLASS  1070994 non-null  object \n",
      " 3   LTFRONT   1070994 non-null  int64  \n",
      " 4   LTDEPTH   1070994 non-null  int64  \n",
      " 5   STORIES   1014730 non-null  float64\n",
      " 6   FULLVAL   1070994 non-null  float64\n",
      " 7   AVLAND    1070994 non-null  float64\n",
      " 8   AVTOT     1070994 non-null  float64\n",
      " 9   ZIP       1041104 non-null  float64\n",
      " 10  BLDFRONT  1070994 non-null  int64  \n",
      " 11  BLDDEPTH  1070994 non-null  int64  \n",
      "dtypes: float64(5), int64(6), object(1)\n",
      "memory usage: 98.1+ MB\n"
     ]
    }
   ],
   "source": [
    "print(f'Shape of the new DataFrame: {data.shape}\\n')\n",
    "data.info()"
   ]
  },
  {
   "cell_type": "markdown",
   "metadata": {},
   "source": [
    "<div align='left'><font size='2.3' color='brick'> From the above output, we can see outright that there are some values missing in STORIES and ZIP fields. We will also need to check if the numerical fields have 0 as an entry since this is also considered a missing value.</font></div>\n",
    "\n",
    "\n",
    "\n"
   ]
  },
  {
   "cell_type": "markdown",
   "metadata": {},
   "source": [
    "## ZIP \n",
    "<br>\n",
    "<div align='left'><font size='3' color='brick'>Cleaning the ZIP field</font></div>\n",
    "\n",
    "**Data Cleaning plan:**\n",
    "- We fill the missing values in ZIP with the below logic:\n",
    "   - If the ZIP of the entry above and below the missing row are the same, we fill the missing value with that zip.\n",
    "   - Otherwise, we fill the missing value with the ZIP of the row above it\n",
    "- A quick check of the datatypes reveals that ZIP is stored as a float. Since we need to extract Zip 3 fields from this field, we will later change it to string for easier extraction.\n"
   ]
  },
  {
   "cell_type": "code",
   "execution_count": 10,
   "metadata": {
    "ExecuteTime": {
     "end_time": "2021-02-11T07:47:48.893928Z",
     "start_time": "2021-02-11T07:47:48.883642Z"
    }
   },
   "outputs": [
    {
     "name": "stdout",
     "output_type": "stream",
     "text": [
      "There are 29890 missing ZIPs in this data set.\n"
     ]
    }
   ],
   "source": [
    "# pd.isnull returns TRUE wherever there are null values\n",
    "# np.where \n",
    "\n",
    "missing_zips=np.where(pd.isnull(data.ZIP))[0]\n",
    "print(f'There are {len(missing_zips)} missing ZIPs in this data set.')"
   ]
  },
  {
   "cell_type": "code",
   "execution_count": 11,
   "metadata": {
    "ExecuteTime": {
     "end_time": "2021-02-11T07:52:09.484999Z",
     "start_time": "2021-02-11T07:47:48.901859Z"
    }
   },
   "outputs": [
    {
     "name": "stdout",
     "output_type": "stream",
     "text": [
      "There are 0 missing ZIPs now.\n"
     ]
    }
   ],
   "source": [
    "# Replacing the missing values\n",
    "for i in missing_zips:\n",
    "    if(data.loc[i+1,\"ZIP\"]==data.loc[i-1,\"ZIP\"]):\n",
    "        data.loc[i,\"ZIP\"]=data.loc[i-1,\"ZIP\"]\n",
    "    else:\n",
    "        data.loc[i,\"ZIP\"]=data.loc[i-1,\"ZIP\"]\n",
    "\n",
    "print(f'There are {len(np.where(pd.isnull(data.ZIP))[0])} missing ZIPs now.')"
   ]
  },
  {
   "cell_type": "markdown",
   "metadata": {},
   "source": [
    "## STORIES\n",
    "<br>\n",
    "<div align='left'><font size='3' color='brick'>Next we look at the STORIES field.</font></div>\n",
    "\n",
    "Here, we will fill in the missing values with the mean of STORIES based on the Tax Class it belongs to."
   ]
  },
  {
   "cell_type": "code",
   "execution_count": 12,
   "metadata": {
    "ExecuteTime": {
     "end_time": "2021-02-11T07:52:09.667661Z",
     "start_time": "2021-02-11T07:52:09.490666Z"
    }
   },
   "outputs": [
    {
     "name": "stdout",
     "output_type": "stream",
     "text": [
      "There are 56264 missing STORIES.\n",
      "0 rows have 0 stories\n"
     ]
    }
   ],
   "source": [
    "print(f'There are {len(np.where(pd.isnull(data.STORIES))[0])} missing STORIES.\\n\\\n",
    "{sum(data[\"STORIES\"]==0)} rows have 0 stories')"
   ]
  },
  {
   "cell_type": "code",
   "execution_count": 13,
   "metadata": {
    "ExecuteTime": {
     "end_time": "2021-02-11T07:52:09.817327Z",
     "start_time": "2021-02-11T07:52:09.670450Z"
    }
   },
   "outputs": [
    {
     "name": "stdout",
     "output_type": "stream",
     "text": [
      "            STORIES\n",
      "TAXCLASS           \n",
      "1          2.111641\n",
      "1A         1.656837\n",
      "1B         4.000000\n",
      "1C         3.052748\n",
      "1D         1.068966\n",
      "2         16.095110\n",
      "2A         2.844574\n",
      "2B         4.004494\n",
      "2C         4.745097\n",
      "3          1.333333\n",
      "4          5.446968\n"
     ]
    },
    {
     "data": {
      "text/plain": [
       "2.1116406799385454"
      ]
     },
     "execution_count": 13,
     "metadata": {},
     "output_type": "execute_result"
    }
   ],
   "source": [
    "mean_stories=data.groupby(\"TAXCLASS\").agg({\"STORIES\":\"mean\"})\n",
    "print(mean_stories)\n",
    "mean_stories.loc[\"1\",\"STORIES\"]"
   ]
  },
  {
   "cell_type": "code",
   "execution_count": 14,
   "metadata": {
    "ExecuteTime": {
     "end_time": "2021-02-11T07:52:10.797606Z",
     "start_time": "2021-02-11T07:52:09.820876Z"
    }
   },
   "outputs": [],
   "source": [
    "# We will replace the missing values in STORIES first with 0 and then replace them with\n",
    "# the average number of stories for that Tax Class\n",
    "\n",
    "data[\"STORIES\"]=data[\"STORIES\"].fillna(0)\n",
    "for j in mean_stories.index:\n",
    "    data.loc[(data[\"STORIES\"]==0)&(data[\"TAXCLASS\"]==j),\"STORIES\"]=mean_stories.loc[j,\"STORIES\"]"
   ]
  },
  {
   "cell_type": "code",
   "execution_count": 15,
   "metadata": {
    "ExecuteTime": {
     "end_time": "2021-02-11T07:52:10.946827Z",
     "start_time": "2021-02-11T07:52:10.800514Z"
    }
   },
   "outputs": [
    {
     "name": "stdout",
     "output_type": "stream",
     "text": [
      "Now there are 0 missing values in the STORIES field\n"
     ]
    }
   ],
   "source": [
    "print(f'Now there are {sum(data[\"STORIES\"]==0)} missing values in the STORIES field')"
   ]
  },
  {
   "cell_type": "code",
   "execution_count": 16,
   "metadata": {
    "ExecuteTime": {
     "end_time": "2021-02-11T07:52:11.089576Z",
     "start_time": "2021-02-11T07:52:10.951001Z"
    }
   },
   "outputs": [
    {
     "data": {
      "text/plain": [
       "0"
      ]
     },
     "execution_count": 16,
     "metadata": {},
     "output_type": "execute_result"
    }
   ],
   "source": [
    "sum(pd.isnull(data.STORIES)) # Do any records have null values?"
   ]
  },
  {
   "cell_type": "code",
   "execution_count": 17,
   "metadata": {
    "ExecuteTime": {
     "end_time": "2021-02-11T07:52:11.137970Z",
     "start_time": "2021-02-11T07:52:11.092935Z"
    }
   },
   "outputs": [
    {
     "data": {
      "text/plain": [
       "count    1070994.0\n",
       "mean           5.0\n",
       "std            8.0\n",
       "min            1.0\n",
       "25%            2.0\n",
       "50%            2.0\n",
       "75%            4.0\n",
       "max          119.0\n",
       "Name: STORIES, dtype: float64"
      ]
     },
     "execution_count": 17,
     "metadata": {},
     "output_type": "execute_result"
    }
   ],
   "source": [
    "data.STORIES.describe().round()"
   ]
  },
  {
   "cell_type": "markdown",
   "metadata": {},
   "source": [
    "## FULLVAL, AVLAND, AVTOT\n",
    "<br>\n",
    "<div align='left'><font size='3' color='brick'>Next we look at the value fields.</font></div>\n",
    "\n",
    "We follow the same logic for filling in the missing values and 0s in these fields - by filling in the mean values of the Tax Class it belongs to."
   ]
  },
  {
   "cell_type": "code",
   "execution_count": 18,
   "metadata": {
    "ExecuteTime": {
     "end_time": "2021-02-11T07:52:12.542802Z",
     "start_time": "2021-02-11T07:52:11.140688Z"
    }
   },
   "outputs": [
    {
     "name": "stdout",
     "output_type": "stream",
     "text": [
      "FULLVAL field has 0 null values and 13007 zeroes\n",
      "AVLAND field has 0 null values and 13009 zeroes\n",
      "AVTOT field has 0 null values and 13007 zeroes\n",
      "\n"
     ]
    }
   ],
   "source": [
    "print(f'FULLVAL field has {sum(data.FULLVAL.isna())} null values and \\\n",
    "{sum(data[\"FULLVAL\"]==0)} zeroes\\n\\\n",
    "AVLAND field has {sum(data.AVLAND.isna())} null values and \\\n",
    "{sum(data[\"AVLAND\"]==0)} zeroes\\n\\\n",
    "AVTOT field has {sum(data.AVTOT.isna())} null values and \\\n",
    "{sum(data[\"AVTOT\"]==0)} zeroes\\n')\n",
    "\n",
    "# Extracting the rows which do not have 0 for FULLVAL\n",
    "temp_FULLVAL=data[data['FULLVAL']!=0]\n",
    "mean_FULLVAL=temp_FULLVAL.groupby(\"TAXCLASS\")[\"FULLVAL\"].mean()\n",
    "\n",
    "# Extracting the rows which do not have 0 for AVLAND\n",
    "temp_AVLAND=data[data['AVLAND']!=0]\n",
    "mean_AVLAND=temp_AVLAND.groupby(\"TAXCLASS\")[\"AVLAND\"].mean()\n",
    "    \n",
    "# Extracting the rows which do not have 0 for AVTOT\n",
    "temp_AVTOT=data[data['AVTOT']!=0]\n",
    "mean_AVTOT=temp_AVTOT.groupby(\"TAXCLASS\")[\"AVTOT\"].mean()"
   ]
  },
  {
   "cell_type": "code",
   "execution_count": 19,
   "metadata": {
    "ExecuteTime": {
     "end_time": "2021-02-11T07:52:14.930247Z",
     "start_time": "2021-02-11T07:52:12.552122Z"
    }
   },
   "outputs": [],
   "source": [
    "# Filling in the missing values in the respective fields\n",
    "\n",
    "for i in mean_FULLVAL.index:\n",
    "    data.loc[(data[\"FULLVAL\"]==0)&(data[\"TAXCLASS\"]==i),\"FULLVAL\"]=\\\n",
    "    mean_FULLVAL[i]\n",
    "    data.loc[(data[\"AVLAND\"]==0)&(data[\"TAXCLASS\"]==i),\"AVLAND\"]=\\\n",
    "    mean_AVLAND[i]\n",
    "    data.loc[(data[\"AVTOT\"]==0)&(data[\"TAXCLASS\"]==i),\"AVTOT\"]=\\\n",
    "    mean_AVTOT[i]\n",
    "\n"
   ]
  },
  {
   "cell_type": "code",
   "execution_count": 20,
   "metadata": {
    "ExecuteTime": {
     "end_time": "2021-02-11T07:52:15.707366Z",
     "start_time": "2021-02-11T07:52:14.939128Z"
    }
   },
   "outputs": [
    {
     "name": "stdout",
     "output_type": "stream",
     "text": [
      "Now, FULLVAL field has 0 null values and 0 zeroes\n",
      "AVLAND field has 0 null values and 0 zeroes\n",
      "AVTOT field has 0 null values and 0 zeroes\n",
      "\n"
     ]
    }
   ],
   "source": [
    "print(f'Now, FULLVAL field has {sum(data.FULLVAL.isna())} null values and \\\n",
    "{sum(data[\"FULLVAL\"]==0)} zeroes\\n\\\n",
    "AVLAND field has {sum(data.AVLAND.isna())} null values and \\\n",
    "{sum(data[\"AVLAND\"]==0)} zeroes\\n\\\n",
    "AVTOT field has {sum(data.AVTOT.isna())} null values and \\\n",
    "{sum(data[\"AVTOT\"]==0)} zeroes\\n')"
   ]
  },
  {
   "cell_type": "code",
   "execution_count": 21,
   "metadata": {
    "ExecuteTime": {
     "end_time": "2021-02-11T07:52:20.490925Z",
     "start_time": "2021-02-11T07:52:15.728976Z"
    }
   },
   "outputs": [],
   "source": [
    "# as these 4 values do not have NAs, we just need to replace 0s. \n",
    "# calculate groupwise average. 1st replace 0 by NAs so they are not counted in calculating mean.\n",
    "\n",
    "data.loc[data['LTFRONT']==0,'LTFRONT']=np.nan\n",
    "data.loc[data['LTDEPTH']==0,'LTDEPTH']=np.nan\n",
    "data.loc[data['BLDFRONT']==0,'BLDFRONT']=np.nan\n",
    "data.loc[data['BLDDEPTH']==0,'BLDDEPTH']=np.nan\n",
    "\n",
    "# calculate mean now (mean function ignores NAs but not 0s hence we converted 0 to NA)\n",
    "mean_LTFRONT=data.groupby(data['TAXCLASS'])['LTFRONT'].mean()\n",
    "mean_LTDEPTH=data.groupby(data['TAXCLASS'])['LTDEPTH'].mean()\n",
    "mean_BLDFRONT=data.groupby(data['TAXCLASS'])['BLDFRONT'].mean()\n",
    "mean_BLDDEPTH=data.groupby(data['TAXCLASS'])['BLDDEPTH'].mean()\n",
    "\n",
    "# impute values\n",
    "for index in mean_LTFRONT.index:\n",
    "    data.loc[(data['LTFRONT'].isnull())&(data['TAXCLASS']==index),'LTFRONT']=mean_LTFRONT[index]\n",
    "    data.loc[(data['LTDEPTH'].isnull())&(data['TAXCLASS']==index),'LTDEPTH']=mean_LTDEPTH[index]\n",
    "    data.loc[(data['BLDFRONT'].isnull())&(data['TAXCLASS']==index),'BLDFRONT']=mean_BLDFRONT[index]\n",
    "    data.loc[(data['BLDDEPTH'].isnull())&(data['TAXCLASS']==index),'BLDDEPTH']=mean_BLDDEPTH[index]\n",
    "\n",
    "\n"
   ]
  },
  {
   "cell_type": "markdown",
   "metadata": {},
   "source": [
    "Let's take one quick peek into our data now."
   ]
  },
  {
   "cell_type": "code",
   "execution_count": 22,
   "metadata": {
    "ExecuteTime": {
     "end_time": "2021-02-11T07:52:20.525087Z",
     "start_time": "2021-02-11T07:52:20.493277Z"
    }
   },
   "outputs": [
    {
     "data": {
      "text/html": [
       "<div>\n",
       "<style scoped>\n",
       "    .dataframe tbody tr th:only-of-type {\n",
       "        vertical-align: middle;\n",
       "    }\n",
       "\n",
       "    .dataframe tbody tr th {\n",
       "        vertical-align: top;\n",
       "    }\n",
       "\n",
       "    .dataframe thead th {\n",
       "        text-align: right;\n",
       "    }\n",
       "</style>\n",
       "<table border=\"1\" class=\"dataframe\">\n",
       "  <thead>\n",
       "    <tr style=\"text-align: right;\">\n",
       "      <th></th>\n",
       "      <th>RECORD</th>\n",
       "      <th>B</th>\n",
       "      <th>TAXCLASS</th>\n",
       "      <th>LTFRONT</th>\n",
       "      <th>LTDEPTH</th>\n",
       "      <th>STORIES</th>\n",
       "      <th>FULLVAL</th>\n",
       "      <th>AVLAND</th>\n",
       "      <th>AVTOT</th>\n",
       "      <th>ZIP</th>\n",
       "      <th>BLDFRONT</th>\n",
       "      <th>BLDDEPTH</th>\n",
       "    </tr>\n",
       "  </thead>\n",
       "  <tbody>\n",
       "    <tr>\n",
       "      <th>0</th>\n",
       "      <td>1</td>\n",
       "      <td>1</td>\n",
       "      <td>4</td>\n",
       "      <td>500.0</td>\n",
       "      <td>1046.000000</td>\n",
       "      <td>5.446968</td>\n",
       "      <td>21400000.0</td>\n",
       "      <td>4225500.0</td>\n",
       "      <td>9630000.0</td>\n",
       "      <td>10004.0</td>\n",
       "      <td>64.412214</td>\n",
       "      <td>87.795565</td>\n",
       "    </tr>\n",
       "    <tr>\n",
       "      <th>1</th>\n",
       "      <td>2</td>\n",
       "      <td>1</td>\n",
       "      <td>4</td>\n",
       "      <td>27.0</td>\n",
       "      <td>133.775536</td>\n",
       "      <td>5.446968</td>\n",
       "      <td>193800000.0</td>\n",
       "      <td>14310000.0</td>\n",
       "      <td>87210000.0</td>\n",
       "      <td>10004.0</td>\n",
       "      <td>64.412214</td>\n",
       "      <td>87.795565</td>\n",
       "    </tr>\n",
       "    <tr>\n",
       "      <th>2</th>\n",
       "      <td>3</td>\n",
       "      <td>1</td>\n",
       "      <td>4</td>\n",
       "      <td>709.0</td>\n",
       "      <td>564.000000</td>\n",
       "      <td>3.000000</td>\n",
       "      <td>104686000.0</td>\n",
       "      <td>39008700.0</td>\n",
       "      <td>47108700.0</td>\n",
       "      <td>10004.0</td>\n",
       "      <td>709.000000</td>\n",
       "      <td>564.000000</td>\n",
       "    </tr>\n",
       "    <tr>\n",
       "      <th>3</th>\n",
       "      <td>4</td>\n",
       "      <td>1</td>\n",
       "      <td>4</td>\n",
       "      <td>793.0</td>\n",
       "      <td>551.000000</td>\n",
       "      <td>2.000000</td>\n",
       "      <td>39200000.0</td>\n",
       "      <td>15255000.0</td>\n",
       "      <td>17640000.0</td>\n",
       "      <td>10004.0</td>\n",
       "      <td>85.000000</td>\n",
       "      <td>551.000000</td>\n",
       "    </tr>\n",
       "    <tr>\n",
       "      <th>4</th>\n",
       "      <td>5</td>\n",
       "      <td>1</td>\n",
       "      <td>4</td>\n",
       "      <td>323.0</td>\n",
       "      <td>1260.000000</td>\n",
       "      <td>1.000000</td>\n",
       "      <td>272300000.0</td>\n",
       "      <td>121050000.0</td>\n",
       "      <td>122535000.0</td>\n",
       "      <td>10004.0</td>\n",
       "      <td>89.000000</td>\n",
       "      <td>57.000000</td>\n",
       "    </tr>\n",
       "  </tbody>\n",
       "</table>\n",
       "</div>"
      ],
      "text/plain": [
       "   RECORD  B TAXCLASS  LTFRONT      LTDEPTH   STORIES      FULLVAL  \\\n",
       "0       1  1        4    500.0  1046.000000  5.446968   21400000.0   \n",
       "1       2  1        4     27.0   133.775536  5.446968  193800000.0   \n",
       "2       3  1        4    709.0   564.000000  3.000000  104686000.0   \n",
       "3       4  1        4    793.0   551.000000  2.000000   39200000.0   \n",
       "4       5  1        4    323.0  1260.000000  1.000000  272300000.0   \n",
       "\n",
       "        AVLAND        AVTOT      ZIP    BLDFRONT    BLDDEPTH  \n",
       "0    4225500.0    9630000.0  10004.0   64.412214   87.795565  \n",
       "1   14310000.0   87210000.0  10004.0   64.412214   87.795565  \n",
       "2   39008700.0   47108700.0  10004.0  709.000000  564.000000  \n",
       "3   15255000.0   17640000.0  10004.0   85.000000  551.000000  \n",
       "4  121050000.0  122535000.0  10004.0   89.000000   57.000000  "
      ]
     },
     "execution_count": 22,
     "metadata": {},
     "output_type": "execute_result"
    }
   ],
   "source": [
    "data.head()"
   ]
  },
  {
   "cell_type": "markdown",
   "metadata": {},
   "source": [
    "# Feature Engineering"
   ]
  },
  {
   "cell_type": "code",
   "execution_count": 23,
   "metadata": {
    "ExecuteTime": {
     "end_time": "2021-02-11T07:52:20.622704Z",
     "start_time": "2021-02-11T07:52:20.528272Z"
    }
   },
   "outputs": [
    {
     "data": {
      "text/html": [
       "<div>\n",
       "<style scoped>\n",
       "    .dataframe tbody tr th:only-of-type {\n",
       "        vertical-align: middle;\n",
       "    }\n",
       "\n",
       "    .dataframe tbody tr th {\n",
       "        vertical-align: top;\n",
       "    }\n",
       "\n",
       "    .dataframe thead th {\n",
       "        text-align: right;\n",
       "    }\n",
       "</style>\n",
       "<table border=\"1\" class=\"dataframe\">\n",
       "  <thead>\n",
       "    <tr style=\"text-align: right;\">\n",
       "      <th></th>\n",
       "      <th>RECORD</th>\n",
       "      <th>B</th>\n",
       "      <th>TAXCLASS</th>\n",
       "      <th>LTFRONT</th>\n",
       "      <th>LTDEPTH</th>\n",
       "      <th>STORIES</th>\n",
       "      <th>V1</th>\n",
       "      <th>V2</th>\n",
       "      <th>V3</th>\n",
       "      <th>ZIP</th>\n",
       "      <th>BLDFRONT</th>\n",
       "      <th>BLDDEPTH</th>\n",
       "    </tr>\n",
       "  </thead>\n",
       "  <tbody>\n",
       "    <tr>\n",
       "      <th>0</th>\n",
       "      <td>1</td>\n",
       "      <td>1</td>\n",
       "      <td>4</td>\n",
       "      <td>500.0</td>\n",
       "      <td>1046.000000</td>\n",
       "      <td>5.446968</td>\n",
       "      <td>21400000.0</td>\n",
       "      <td>4225500.0</td>\n",
       "      <td>9630000.0</td>\n",
       "      <td>10004.0</td>\n",
       "      <td>64.412214</td>\n",
       "      <td>87.795565</td>\n",
       "    </tr>\n",
       "    <tr>\n",
       "      <th>1</th>\n",
       "      <td>2</td>\n",
       "      <td>1</td>\n",
       "      <td>4</td>\n",
       "      <td>27.0</td>\n",
       "      <td>133.775536</td>\n",
       "      <td>5.446968</td>\n",
       "      <td>193800000.0</td>\n",
       "      <td>14310000.0</td>\n",
       "      <td>87210000.0</td>\n",
       "      <td>10004.0</td>\n",
       "      <td>64.412214</td>\n",
       "      <td>87.795565</td>\n",
       "    </tr>\n",
       "    <tr>\n",
       "      <th>2</th>\n",
       "      <td>3</td>\n",
       "      <td>1</td>\n",
       "      <td>4</td>\n",
       "      <td>709.0</td>\n",
       "      <td>564.000000</td>\n",
       "      <td>3.000000</td>\n",
       "      <td>104686000.0</td>\n",
       "      <td>39008700.0</td>\n",
       "      <td>47108700.0</td>\n",
       "      <td>10004.0</td>\n",
       "      <td>709.000000</td>\n",
       "      <td>564.000000</td>\n",
       "    </tr>\n",
       "    <tr>\n",
       "      <th>3</th>\n",
       "      <td>4</td>\n",
       "      <td>1</td>\n",
       "      <td>4</td>\n",
       "      <td>793.0</td>\n",
       "      <td>551.000000</td>\n",
       "      <td>2.000000</td>\n",
       "      <td>39200000.0</td>\n",
       "      <td>15255000.0</td>\n",
       "      <td>17640000.0</td>\n",
       "      <td>10004.0</td>\n",
       "      <td>85.000000</td>\n",
       "      <td>551.000000</td>\n",
       "    </tr>\n",
       "    <tr>\n",
       "      <th>4</th>\n",
       "      <td>5</td>\n",
       "      <td>1</td>\n",
       "      <td>4</td>\n",
       "      <td>323.0</td>\n",
       "      <td>1260.000000</td>\n",
       "      <td>1.000000</td>\n",
       "      <td>272300000.0</td>\n",
       "      <td>121050000.0</td>\n",
       "      <td>122535000.0</td>\n",
       "      <td>10004.0</td>\n",
       "      <td>89.000000</td>\n",
       "      <td>57.000000</td>\n",
       "    </tr>\n",
       "  </tbody>\n",
       "</table>\n",
       "</div>"
      ],
      "text/plain": [
       "   RECORD  B TAXCLASS  LTFRONT      LTDEPTH   STORIES           V1  \\\n",
       "0       1  1        4    500.0  1046.000000  5.446968   21400000.0   \n",
       "1       2  1        4     27.0   133.775536  5.446968  193800000.0   \n",
       "2       3  1        4    709.0   564.000000  3.000000  104686000.0   \n",
       "3       4  1        4    793.0   551.000000  2.000000   39200000.0   \n",
       "4       5  1        4    323.0  1260.000000  1.000000  272300000.0   \n",
       "\n",
       "            V2           V3      ZIP    BLDFRONT    BLDDEPTH  \n",
       "0    4225500.0    9630000.0  10004.0   64.412214   87.795565  \n",
       "1   14310000.0   87210000.0  10004.0   64.412214   87.795565  \n",
       "2   39008700.0   47108700.0  10004.0  709.000000  564.000000  \n",
       "3   15255000.0   17640000.0  10004.0   85.000000  551.000000  \n",
       "4  121050000.0  122535000.0  10004.0   89.000000   57.000000  "
      ]
     },
     "execution_count": 23,
     "metadata": {},
     "output_type": "execute_result"
    }
   ],
   "source": [
    "# Renaming the FULLVAL, AVLAND, AVTOT to V1, V2 and V3 respectively\n",
    "data.rename(columns={\"FULLVAL\":\"V1\",\"AVLAND\":\"V2\",\"AVTOT\":\"V3\"}, inplace=True)\n",
    "data.head()"
   ]
  },
  {
   "cell_type": "code",
   "execution_count": 24,
   "metadata": {
    "ExecuteTime": {
     "end_time": "2021-02-11T07:52:20.954732Z",
     "start_time": "2021-02-11T07:52:20.626157Z"
    }
   },
   "outputs": [],
   "source": [
    "# Creating the S1, S2 and S3 variables\n",
    "data[\"S1\"]=data[\"LTFRONT\"]*data[\"LTDEPTH\"]\n",
    "data[\"S2\"]=data[\"BLDFRONT\"]*data[\"BLDDEPTH\"]\n",
    "data[\"S3\"]=data[\"S2\"]*data[\"STORIES\"]"
   ]
  },
  {
   "cell_type": "code",
   "execution_count": 25,
   "metadata": {
    "ExecuteTime": {
     "end_time": "2021-02-11T07:52:21.232849Z",
     "start_time": "2021-02-11T07:52:20.958911Z"
    }
   },
   "outputs": [],
   "source": [
    "# Creating the r variables\n",
    "new=[\"r1\",'r2','r3','r4','r5','r6','r7','r8','r9']\n",
    "r=0\n",
    "for i in [\"V1\",\"V2\",\"V3\"]:\n",
    "    data[new[r]]=data[i]/data[\"S1\"]\n",
    "    r+=1\n",
    "    data[new[r]]=data[i]/data[\"S2\"]\n",
    "    r+=1\n",
    "    data[new[r]]=data[i]/data[\"S3\"]\n",
    "    r+=1\n",
    "    \n"
   ]
  },
  {
   "cell_type": "code",
   "execution_count": 26,
   "metadata": {
    "ExecuteTime": {
     "end_time": "2021-02-11T07:52:22.386147Z",
     "start_time": "2021-02-11T07:52:21.235298Z"
    }
   },
   "outputs": [],
   "source": [
    "# Extracting the zip3 field\n",
    "data[\"ZIP\"]=data[\"ZIP\"].astype(str)\n",
    "data[\"zip3\"]=data[\"ZIP\"].str[:3]"
   ]
  },
  {
   "cell_type": "code",
   "execution_count": 27,
   "metadata": {
    "ExecuteTime": {
     "end_time": "2021-02-11T07:52:25.975451Z",
     "start_time": "2021-02-11T07:52:22.389224Z"
    },
    "scrolled": true
   },
   "outputs": [],
   "source": [
    "# Deriving the remaining variables\n",
    "zip5_mean=data.groupby(\"ZIP\")[new].mean()\n",
    "zip3_mean=data.groupby(\"zip3\")[new].mean()\n",
    "taxclass_mean=data.groupby(\"TAXCLASS\")[new].mean()\n",
    "borough_mean=data.groupby(\"B\")[new].mean()\n",
    "data=data.join(zip5_mean, on=\"ZIP\",rsuffix='_zip5')\n",
    "data=data.join(zip3_mean, on=\"zip3\",rsuffix='_zip3')\n",
    "data=data.join(taxclass_mean, on=\"TAXCLASS\",rsuffix='_taxclass')\n",
    "data=data.join(borough_mean, on=\"B\",rsuffix='_boro')\n",
    "r_suffix=['_zip5','_zip3','_taxclass','_boro']\n",
    "\n",
    "for var in new:\n",
    "    for r in r_suffix:\n",
    "        data[str(var)+r]=data[var]/data[str(var)+r]"
   ]
  },
  {
   "cell_type": "markdown",
   "metadata": {},
   "source": [
    "<div align='left'><font size='3' color='brick'>Let's take a look at the fields we have in our data set now.</font></div>"
   ]
  },
  {
   "cell_type": "code",
   "execution_count": 28,
   "metadata": {
    "ExecuteTime": {
     "end_time": "2021-02-11T07:52:26.111825Z",
     "start_time": "2021-02-11T07:52:25.983455Z"
    }
   },
   "outputs": [
    {
     "data": {
      "text/html": [
       "<div>\n",
       "<style scoped>\n",
       "    .dataframe tbody tr th:only-of-type {\n",
       "        vertical-align: middle;\n",
       "    }\n",
       "\n",
       "    .dataframe tbody tr th {\n",
       "        vertical-align: top;\n",
       "    }\n",
       "\n",
       "    .dataframe thead th {\n",
       "        text-align: right;\n",
       "    }\n",
       "</style>\n",
       "<table border=\"1\" class=\"dataframe\">\n",
       "  <thead>\n",
       "    <tr style=\"text-align: right;\">\n",
       "      <th></th>\n",
       "      <th>RECORD</th>\n",
       "      <th>B</th>\n",
       "      <th>TAXCLASS</th>\n",
       "      <th>LTFRONT</th>\n",
       "      <th>LTDEPTH</th>\n",
       "      <th>STORIES</th>\n",
       "      <th>V1</th>\n",
       "      <th>V2</th>\n",
       "      <th>V3</th>\n",
       "      <th>ZIP</th>\n",
       "      <th>BLDFRONT</th>\n",
       "      <th>BLDDEPTH</th>\n",
       "      <th>S1</th>\n",
       "      <th>S2</th>\n",
       "      <th>S3</th>\n",
       "      <th>r1</th>\n",
       "      <th>r2</th>\n",
       "      <th>r3</th>\n",
       "      <th>r4</th>\n",
       "      <th>r5</th>\n",
       "      <th>r6</th>\n",
       "      <th>r7</th>\n",
       "      <th>r8</th>\n",
       "      <th>r9</th>\n",
       "      <th>zip3</th>\n",
       "      <th>r1_zip5</th>\n",
       "      <th>r2_zip5</th>\n",
       "      <th>r3_zip5</th>\n",
       "      <th>r4_zip5</th>\n",
       "      <th>r5_zip5</th>\n",
       "      <th>r6_zip5</th>\n",
       "      <th>r7_zip5</th>\n",
       "      <th>r8_zip5</th>\n",
       "      <th>r9_zip5</th>\n",
       "      <th>r1_zip3</th>\n",
       "      <th>r2_zip3</th>\n",
       "      <th>r3_zip3</th>\n",
       "      <th>r4_zip3</th>\n",
       "      <th>r5_zip3</th>\n",
       "      <th>r6_zip3</th>\n",
       "      <th>r7_zip3</th>\n",
       "      <th>r8_zip3</th>\n",
       "      <th>r9_zip3</th>\n",
       "      <th>r1_taxclass</th>\n",
       "      <th>r2_taxclass</th>\n",
       "      <th>r3_taxclass</th>\n",
       "      <th>r4_taxclass</th>\n",
       "      <th>r5_taxclass</th>\n",
       "      <th>r6_taxclass</th>\n",
       "      <th>r7_taxclass</th>\n",
       "      <th>r8_taxclass</th>\n",
       "      <th>r9_taxclass</th>\n",
       "      <th>r1_boro</th>\n",
       "      <th>r2_boro</th>\n",
       "      <th>r3_boro</th>\n",
       "      <th>r4_boro</th>\n",
       "      <th>r5_boro</th>\n",
       "      <th>r6_boro</th>\n",
       "      <th>r7_boro</th>\n",
       "      <th>r8_boro</th>\n",
       "      <th>r9_boro</th>\n",
       "    </tr>\n",
       "  </thead>\n",
       "  <tbody>\n",
       "    <tr>\n",
       "      <th>0</th>\n",
       "      <td>1</td>\n",
       "      <td>1</td>\n",
       "      <td>4</td>\n",
       "      <td>500.0</td>\n",
       "      <td>1046.000000</td>\n",
       "      <td>5.446968</td>\n",
       "      <td>21400000.0</td>\n",
       "      <td>4225500.0</td>\n",
       "      <td>9630000.0</td>\n",
       "      <td>10004.0</td>\n",
       "      <td>64.412214</td>\n",
       "      <td>87.795565</td>\n",
       "      <td>523000.000000</td>\n",
       "      <td>5655.106791</td>\n",
       "      <td>3.080319e+04</td>\n",
       "      <td>40.917782</td>\n",
       "      <td>3784.190253</td>\n",
       "      <td>694.733351</td>\n",
       "      <td>8.079350</td>\n",
       "      <td>747.200744</td>\n",
       "      <td>137.177373</td>\n",
       "      <td>18.413002</td>\n",
       "      <td>1702.885614</td>\n",
       "      <td>312.630008</td>\n",
       "      <td>100</td>\n",
       "      <td>0.100267</td>\n",
       "      <td>6.124396</td>\n",
       "      <td>4.516151</td>\n",
       "      <td>0.144001</td>\n",
       "      <td>5.880871</td>\n",
       "      <td>2.473925</td>\n",
       "      <td>0.107835</td>\n",
       "      <td>6.435515</td>\n",
       "      <td>4.723210</td>\n",
       "      <td>0.111502</td>\n",
       "      <td>6.708550</td>\n",
       "      <td>4.841507</td>\n",
       "      <td>0.226131</td>\n",
       "      <td>11.314730</td>\n",
       "      <td>5.755948</td>\n",
       "      <td>0.191549</td>\n",
       "      <td>11.426771</td>\n",
       "      <td>8.653378</td>\n",
       "      <td>0.150187</td>\n",
       "      <td>5.938603</td>\n",
       "      <td>2.681747</td>\n",
       "      <td>0.161801</td>\n",
       "      <td>4.348091</td>\n",
       "      <td>1.685983</td>\n",
       "      <td>0.149106</td>\n",
       "      <td>5.783791</td>\n",
       "      <td>2.624110</td>\n",
       "      <td>0.114401</td>\n",
       "      <td>6.878229</td>\n",
       "      <td>4.993136</td>\n",
       "      <td>0.234725</td>\n",
       "      <td>11.759224</td>\n",
       "      <td>6.071127</td>\n",
       "      <td>0.197696</td>\n",
       "      <td>11.818277</td>\n",
       "      <td>9.069199</td>\n",
       "    </tr>\n",
       "    <tr>\n",
       "      <th>1</th>\n",
       "      <td>2</td>\n",
       "      <td>1</td>\n",
       "      <td>4</td>\n",
       "      <td>27.0</td>\n",
       "      <td>133.775536</td>\n",
       "      <td>5.446968</td>\n",
       "      <td>193800000.0</td>\n",
       "      <td>14310000.0</td>\n",
       "      <td>87210000.0</td>\n",
       "      <td>10004.0</td>\n",
       "      <td>64.412214</td>\n",
       "      <td>87.795565</td>\n",
       "      <td>3611.939468</td>\n",
       "      <td>5655.106791</td>\n",
       "      <td>3.080319e+04</td>\n",
       "      <td>53655.384245</td>\n",
       "      <td>34269.909866</td>\n",
       "      <td>6291.557172</td>\n",
       "      <td>3961.860416</td>\n",
       "      <td>2530.456193</td>\n",
       "      <td>464.562348</td>\n",
       "      <td>24144.922910</td>\n",
       "      <td>15421.459440</td>\n",
       "      <td>2831.200728</td>\n",
       "      <td>100</td>\n",
       "      <td>131.479899</td>\n",
       "      <td>55.462992</td>\n",
       "      <td>40.898602</td>\n",
       "      <td>70.613745</td>\n",
       "      <td>19.916048</td>\n",
       "      <td>8.378149</td>\n",
       "      <td>141.403339</td>\n",
       "      <td>58.280507</td>\n",
       "      <td>42.773740</td>\n",
       "      <td>146.212538</td>\n",
       "      <td>60.753128</td>\n",
       "      <td>43.845045</td>\n",
       "      <td>110.887504</td>\n",
       "      <td>38.318256</td>\n",
       "      <td>19.492988</td>\n",
       "      <td>251.177598</td>\n",
       "      <td>103.481691</td>\n",
       "      <td>78.365638</td>\n",
       "      <td>196.939744</td>\n",
       "      <td>53.780433</td>\n",
       "      <td>24.286097</td>\n",
       "      <td>79.342021</td>\n",
       "      <td>14.725165</td>\n",
       "      <td>5.709718</td>\n",
       "      <td>195.521804</td>\n",
       "      <td>52.378442</td>\n",
       "      <td>23.764139</td>\n",
       "      <td>150.013517</td>\n",
       "      <td>62.289753</td>\n",
       "      <td>45.218210</td>\n",
       "      <td>115.101891</td>\n",
       "      <td>39.823571</td>\n",
       "      <td>20.560366</td>\n",
       "      <td>259.238195</td>\n",
       "      <td>107.027200</td>\n",
       "      <td>82.131345</td>\n",
       "    </tr>\n",
       "    <tr>\n",
       "      <th>2</th>\n",
       "      <td>3</td>\n",
       "      <td>1</td>\n",
       "      <td>4</td>\n",
       "      <td>709.0</td>\n",
       "      <td>564.000000</td>\n",
       "      <td>3.000000</td>\n",
       "      <td>104686000.0</td>\n",
       "      <td>39008700.0</td>\n",
       "      <td>47108700.0</td>\n",
       "      <td>10004.0</td>\n",
       "      <td>709.000000</td>\n",
       "      <td>564.000000</td>\n",
       "      <td>399876.000000</td>\n",
       "      <td>399876.000000</td>\n",
       "      <td>1.199628e+06</td>\n",
       "      <td>261.796157</td>\n",
       "      <td>261.796157</td>\n",
       "      <td>87.265386</td>\n",
       "      <td>97.551991</td>\n",
       "      <td>97.551991</td>\n",
       "      <td>32.517330</td>\n",
       "      <td>117.808271</td>\n",
       "      <td>117.808271</td>\n",
       "      <td>39.269424</td>\n",
       "      <td>100</td>\n",
       "      <td>0.641519</td>\n",
       "      <td>0.423695</td>\n",
       "      <td>0.567273</td>\n",
       "      <td>1.738706</td>\n",
       "      <td>0.767787</td>\n",
       "      <td>0.586434</td>\n",
       "      <td>0.689937</td>\n",
       "      <td>0.445219</td>\n",
       "      <td>0.593282</td>\n",
       "      <td>0.713402</td>\n",
       "      <td>0.464108</td>\n",
       "      <td>0.608141</td>\n",
       "      <td>2.730358</td>\n",
       "      <td>1.477213</td>\n",
       "      <td>1.364424</td>\n",
       "      <td>1.225550</td>\n",
       "      <td>0.790522</td>\n",
       "      <td>1.086950</td>\n",
       "      <td>0.960911</td>\n",
       "      <td>0.410842</td>\n",
       "      <td>0.336854</td>\n",
       "      <td>1.953621</td>\n",
       "      <td>0.567672</td>\n",
       "      <td>0.399655</td>\n",
       "      <td>0.953993</td>\n",
       "      <td>0.400132</td>\n",
       "      <td>0.329614</td>\n",
       "      <td>0.731948</td>\n",
       "      <td>0.475847</td>\n",
       "      <td>0.627187</td>\n",
       "      <td>2.834128</td>\n",
       "      <td>1.535244</td>\n",
       "      <td>1.439136</td>\n",
       "      <td>1.264879</td>\n",
       "      <td>0.817607</td>\n",
       "      <td>1.139181</td>\n",
       "    </tr>\n",
       "    <tr>\n",
       "      <th>3</th>\n",
       "      <td>4</td>\n",
       "      <td>1</td>\n",
       "      <td>4</td>\n",
       "      <td>793.0</td>\n",
       "      <td>551.000000</td>\n",
       "      <td>2.000000</td>\n",
       "      <td>39200000.0</td>\n",
       "      <td>15255000.0</td>\n",
       "      <td>17640000.0</td>\n",
       "      <td>10004.0</td>\n",
       "      <td>85.000000</td>\n",
       "      <td>551.000000</td>\n",
       "      <td>436943.000000</td>\n",
       "      <td>46835.000000</td>\n",
       "      <td>9.367000e+04</td>\n",
       "      <td>89.714219</td>\n",
       "      <td>836.980890</td>\n",
       "      <td>418.490445</td>\n",
       "      <td>34.913021</td>\n",
       "      <td>325.717946</td>\n",
       "      <td>162.858973</td>\n",
       "      <td>40.371399</td>\n",
       "      <td>376.641401</td>\n",
       "      <td>188.320700</td>\n",
       "      <td>100</td>\n",
       "      <td>0.219840</td>\n",
       "      <td>1.354584</td>\n",
       "      <td>2.720419</td>\n",
       "      <td>0.622268</td>\n",
       "      <td>2.563575</td>\n",
       "      <td>2.937080</td>\n",
       "      <td>0.236433</td>\n",
       "      <td>1.423397</td>\n",
       "      <td>2.845146</td>\n",
       "      <td>0.244474</td>\n",
       "      <td>1.483786</td>\n",
       "      <td>2.916406</td>\n",
       "      <td>0.977172</td>\n",
       "      <td>4.932290</td>\n",
       "      <td>6.833546</td>\n",
       "      <td>0.419980</td>\n",
       "      <td>2.527354</td>\n",
       "      <td>5.212584</td>\n",
       "      <td>0.329292</td>\n",
       "      <td>1.313490</td>\n",
       "      <td>1.615419</td>\n",
       "      <td>0.699184</td>\n",
       "      <td>1.895409</td>\n",
       "      <td>2.001623</td>\n",
       "      <td>0.326921</td>\n",
       "      <td>1.279249</td>\n",
       "      <td>1.580700</td>\n",
       "      <td>0.250829</td>\n",
       "      <td>1.521315</td>\n",
       "      <td>3.007743</td>\n",
       "      <td>1.014310</td>\n",
       "      <td>5.126053</td>\n",
       "      <td>7.207730</td>\n",
       "      <td>0.433458</td>\n",
       "      <td>2.613947</td>\n",
       "      <td>5.463065</td>\n",
       "    </tr>\n",
       "    <tr>\n",
       "      <th>4</th>\n",
       "      <td>5</td>\n",
       "      <td>1</td>\n",
       "      <td>4</td>\n",
       "      <td>323.0</td>\n",
       "      <td>1260.000000</td>\n",
       "      <td>1.000000</td>\n",
       "      <td>272300000.0</td>\n",
       "      <td>121050000.0</td>\n",
       "      <td>122535000.0</td>\n",
       "      <td>10004.0</td>\n",
       "      <td>89.000000</td>\n",
       "      <td>57.000000</td>\n",
       "      <td>406980.000000</td>\n",
       "      <td>5073.000000</td>\n",
       "      <td>5.073000e+03</td>\n",
       "      <td>669.074647</td>\n",
       "      <td>53676.325646</td>\n",
       "      <td>53676.325646</td>\n",
       "      <td>297.434763</td>\n",
       "      <td>23861.620343</td>\n",
       "      <td>23861.620343</td>\n",
       "      <td>301.083591</td>\n",
       "      <td>24154.346541</td>\n",
       "      <td>24154.346541</td>\n",
       "      <td>100</td>\n",
       "      <td>1.639535</td>\n",
       "      <td>86.870657</td>\n",
       "      <td>348.925806</td>\n",
       "      <td>5.301293</td>\n",
       "      <td>187.803752</td>\n",
       "      <td>430.332370</td>\n",
       "      <td>1.763279</td>\n",
       "      <td>91.283679</td>\n",
       "      <td>364.923520</td>\n",
       "      <td>1.823249</td>\n",
       "      <td>95.156500</td>\n",
       "      <td>374.063344</td>\n",
       "      <td>8.324826</td>\n",
       "      <td>361.332352</td>\n",
       "      <td>1001.231131</td>\n",
       "      <td>3.132147</td>\n",
       "      <td>162.081457</td>\n",
       "      <td>668.575264</td>\n",
       "      <td>2.455809</td>\n",
       "      <td>84.235298</td>\n",
       "      <td>207.196473</td>\n",
       "      <td>5.956564</td>\n",
       "      <td>138.854925</td>\n",
       "      <td>293.271962</td>\n",
       "      <td>2.438128</td>\n",
       "      <td>82.039385</td>\n",
       "      <td>202.743398</td>\n",
       "      <td>1.870646</td>\n",
       "      <td>97.563288</td>\n",
       "      <td>385.778484</td>\n",
       "      <td>8.641219</td>\n",
       "      <td>375.527127</td>\n",
       "      <td>1056.055550</td>\n",
       "      <td>3.232662</td>\n",
       "      <td>167.634723</td>\n",
       "      <td>700.702336</td>\n",
       "    </tr>\n",
       "  </tbody>\n",
       "</table>\n",
       "</div>"
      ],
      "text/plain": [
       "   RECORD  B TAXCLASS  LTFRONT      LTDEPTH   STORIES           V1  \\\n",
       "0       1  1        4    500.0  1046.000000  5.446968   21400000.0   \n",
       "1       2  1        4     27.0   133.775536  5.446968  193800000.0   \n",
       "2       3  1        4    709.0   564.000000  3.000000  104686000.0   \n",
       "3       4  1        4    793.0   551.000000  2.000000   39200000.0   \n",
       "4       5  1        4    323.0  1260.000000  1.000000  272300000.0   \n",
       "\n",
       "            V2           V3      ZIP    BLDFRONT    BLDDEPTH             S1  \\\n",
       "0    4225500.0    9630000.0  10004.0   64.412214   87.795565  523000.000000   \n",
       "1   14310000.0   87210000.0  10004.0   64.412214   87.795565    3611.939468   \n",
       "2   39008700.0   47108700.0  10004.0  709.000000  564.000000  399876.000000   \n",
       "3   15255000.0   17640000.0  10004.0   85.000000  551.000000  436943.000000   \n",
       "4  121050000.0  122535000.0  10004.0   89.000000   57.000000  406980.000000   \n",
       "\n",
       "              S2            S3            r1            r2            r3  \\\n",
       "0    5655.106791  3.080319e+04     40.917782   3784.190253    694.733351   \n",
       "1    5655.106791  3.080319e+04  53655.384245  34269.909866   6291.557172   \n",
       "2  399876.000000  1.199628e+06    261.796157    261.796157     87.265386   \n",
       "3   46835.000000  9.367000e+04     89.714219    836.980890    418.490445   \n",
       "4    5073.000000  5.073000e+03    669.074647  53676.325646  53676.325646   \n",
       "\n",
       "            r4            r5            r6            r7            r8  \\\n",
       "0     8.079350    747.200744    137.177373     18.413002   1702.885614   \n",
       "1  3961.860416   2530.456193    464.562348  24144.922910  15421.459440   \n",
       "2    97.551991     97.551991     32.517330    117.808271    117.808271   \n",
       "3    34.913021    325.717946    162.858973     40.371399    376.641401   \n",
       "4   297.434763  23861.620343  23861.620343    301.083591  24154.346541   \n",
       "\n",
       "             r9 zip3     r1_zip5    r2_zip5     r3_zip5    r4_zip5  \\\n",
       "0    312.630008  100    0.100267   6.124396    4.516151   0.144001   \n",
       "1   2831.200728  100  131.479899  55.462992   40.898602  70.613745   \n",
       "2     39.269424  100    0.641519   0.423695    0.567273   1.738706   \n",
       "3    188.320700  100    0.219840   1.354584    2.720419   0.622268   \n",
       "4  24154.346541  100    1.639535  86.870657  348.925806   5.301293   \n",
       "\n",
       "      r5_zip5     r6_zip5     r7_zip5    r8_zip5     r9_zip5     r1_zip3  \\\n",
       "0    5.880871    2.473925    0.107835   6.435515    4.723210    0.111502   \n",
       "1   19.916048    8.378149  141.403339  58.280507   42.773740  146.212538   \n",
       "2    0.767787    0.586434    0.689937   0.445219    0.593282    0.713402   \n",
       "3    2.563575    2.937080    0.236433   1.423397    2.845146    0.244474   \n",
       "4  187.803752  430.332370    1.763279  91.283679  364.923520    1.823249   \n",
       "\n",
       "     r2_zip3     r3_zip3     r4_zip3     r5_zip3      r6_zip3     r7_zip3  \\\n",
       "0   6.708550    4.841507    0.226131   11.314730     5.755948    0.191549   \n",
       "1  60.753128   43.845045  110.887504   38.318256    19.492988  251.177598   \n",
       "2   0.464108    0.608141    2.730358    1.477213     1.364424    1.225550   \n",
       "3   1.483786    2.916406    0.977172    4.932290     6.833546    0.419980   \n",
       "4  95.156500  374.063344    8.324826  361.332352  1001.231131    3.132147   \n",
       "\n",
       "      r8_zip3     r9_zip3  r1_taxclass  r2_taxclass  r3_taxclass  r4_taxclass  \\\n",
       "0   11.426771    8.653378     0.150187     5.938603     2.681747     0.161801   \n",
       "1  103.481691   78.365638   196.939744    53.780433    24.286097    79.342021   \n",
       "2    0.790522    1.086950     0.960911     0.410842     0.336854     1.953621   \n",
       "3    2.527354    5.212584     0.329292     1.313490     1.615419     0.699184   \n",
       "4  162.081457  668.575264     2.455809    84.235298   207.196473     5.956564   \n",
       "\n",
       "   r5_taxclass  r6_taxclass  r7_taxclass  r8_taxclass  r9_taxclass  \\\n",
       "0     4.348091     1.685983     0.149106     5.783791     2.624110   \n",
       "1    14.725165     5.709718   195.521804    52.378442    23.764139   \n",
       "2     0.567672     0.399655     0.953993     0.400132     0.329614   \n",
       "3     1.895409     2.001623     0.326921     1.279249     1.580700   \n",
       "4   138.854925   293.271962     2.438128    82.039385   202.743398   \n",
       "\n",
       "      r1_boro    r2_boro     r3_boro     r4_boro     r5_boro      r6_boro  \\\n",
       "0    0.114401   6.878229    4.993136    0.234725   11.759224     6.071127   \n",
       "1  150.013517  62.289753   45.218210  115.101891   39.823571    20.560366   \n",
       "2    0.731948   0.475847    0.627187    2.834128    1.535244     1.439136   \n",
       "3    0.250829   1.521315    3.007743    1.014310    5.126053     7.207730   \n",
       "4    1.870646  97.563288  385.778484    8.641219  375.527127  1056.055550   \n",
       "\n",
       "      r7_boro     r8_boro     r9_boro  \n",
       "0    0.197696   11.818277    9.069199  \n",
       "1  259.238195  107.027200   82.131345  \n",
       "2    1.264879    0.817607    1.139181  \n",
       "3    0.433458    2.613947    5.463065  \n",
       "4    3.232662  167.634723  700.702336  "
      ]
     },
     "execution_count": 28,
     "metadata": {},
     "output_type": "execute_result"
    }
   ],
   "source": [
    "data.head()"
   ]
  },
  {
   "cell_type": "code",
   "execution_count": 29,
   "metadata": {
    "ExecuteTime": {
     "end_time": "2021-02-11T07:52:26.120224Z",
     "start_time": "2021-02-11T07:52:26.115158Z"
    }
   },
   "outputs": [
    {
     "data": {
      "text/plain": [
       "Index(['RECORD', 'B', 'TAXCLASS', 'LTFRONT', 'LTDEPTH', 'STORIES', 'V1', 'V2',\n",
       "       'V3', 'ZIP', 'BLDFRONT', 'BLDDEPTH', 'S1', 'S2', 'S3', 'r1', 'r2', 'r3',\n",
       "       'r4', 'r5', 'r6', 'r7', 'r8', 'r9', 'zip3', 'r1_zip5', 'r2_zip5',\n",
       "       'r3_zip5', 'r4_zip5', 'r5_zip5', 'r6_zip5', 'r7_zip5', 'r8_zip5',\n",
       "       'r9_zip5', 'r1_zip3', 'r2_zip3', 'r3_zip3', 'r4_zip3', 'r5_zip3',\n",
       "       'r6_zip3', 'r7_zip3', 'r8_zip3', 'r9_zip3', 'r1_taxclass',\n",
       "       'r2_taxclass', 'r3_taxclass', 'r4_taxclass', 'r5_taxclass',\n",
       "       'r6_taxclass', 'r7_taxclass', 'r8_taxclass', 'r9_taxclass', 'r1_boro',\n",
       "       'r2_boro', 'r3_boro', 'r4_boro', 'r5_boro', 'r6_boro', 'r7_boro',\n",
       "       'r8_boro', 'r9_boro'],\n",
       "      dtype='object')"
      ]
     },
     "execution_count": 29,
     "metadata": {},
     "output_type": "execute_result"
    }
   ],
   "source": [
    "data.columns"
   ]
  },
  {
   "cell_type": "code",
   "execution_count": 30,
   "metadata": {
    "ExecuteTime": {
     "end_time": "2021-02-11T07:52:28.643037Z",
     "start_time": "2021-02-11T07:52:26.123234Z"
    }
   },
   "outputs": [],
   "source": [
    "data.drop(columns=['B', 'TAXCLASS', 'LTFRONT', 'LTDEPTH', 'STORIES', 'V1', 'V2', 'V3',\n",
    "       'ZIP', 'BLDFRONT', 'BLDDEPTH', 'S1', 'S2', 'S3','zip3'], inplace=True)"
   ]
  },
  {
   "cell_type": "markdown",
   "metadata": {},
   "source": [
    "<div align='left'><font size='3' color='brick'>Now, we have our features ready for further analysis.</font></div>"
   ]
  },
  {
   "cell_type": "code",
   "execution_count": 31,
   "metadata": {
    "ExecuteTime": {
     "end_time": "2021-02-11T07:52:28.712411Z",
     "start_time": "2021-02-11T07:52:28.645991Z"
    }
   },
   "outputs": [
    {
     "data": {
      "text/html": [
       "<div>\n",
       "<style scoped>\n",
       "    .dataframe tbody tr th:only-of-type {\n",
       "        vertical-align: middle;\n",
       "    }\n",
       "\n",
       "    .dataframe tbody tr th {\n",
       "        vertical-align: top;\n",
       "    }\n",
       "\n",
       "    .dataframe thead th {\n",
       "        text-align: right;\n",
       "    }\n",
       "</style>\n",
       "<table border=\"1\" class=\"dataframe\">\n",
       "  <thead>\n",
       "    <tr style=\"text-align: right;\">\n",
       "      <th></th>\n",
       "      <th>RECORD</th>\n",
       "      <th>r1</th>\n",
       "      <th>r2</th>\n",
       "      <th>r3</th>\n",
       "      <th>r4</th>\n",
       "      <th>r5</th>\n",
       "      <th>r6</th>\n",
       "      <th>r7</th>\n",
       "      <th>r8</th>\n",
       "      <th>r9</th>\n",
       "      <th>r1_zip5</th>\n",
       "      <th>r2_zip5</th>\n",
       "      <th>r3_zip5</th>\n",
       "      <th>r4_zip5</th>\n",
       "      <th>r5_zip5</th>\n",
       "      <th>r6_zip5</th>\n",
       "      <th>r7_zip5</th>\n",
       "      <th>r8_zip5</th>\n",
       "      <th>r9_zip5</th>\n",
       "      <th>r1_zip3</th>\n",
       "      <th>r2_zip3</th>\n",
       "      <th>r3_zip3</th>\n",
       "      <th>r4_zip3</th>\n",
       "      <th>r5_zip3</th>\n",
       "      <th>r6_zip3</th>\n",
       "      <th>r7_zip3</th>\n",
       "      <th>r8_zip3</th>\n",
       "      <th>r9_zip3</th>\n",
       "      <th>r1_taxclass</th>\n",
       "      <th>r2_taxclass</th>\n",
       "      <th>r3_taxclass</th>\n",
       "      <th>r4_taxclass</th>\n",
       "      <th>r5_taxclass</th>\n",
       "      <th>r6_taxclass</th>\n",
       "      <th>r7_taxclass</th>\n",
       "      <th>r8_taxclass</th>\n",
       "      <th>r9_taxclass</th>\n",
       "      <th>r1_boro</th>\n",
       "      <th>r2_boro</th>\n",
       "      <th>r3_boro</th>\n",
       "      <th>r4_boro</th>\n",
       "      <th>r5_boro</th>\n",
       "      <th>r6_boro</th>\n",
       "      <th>r7_boro</th>\n",
       "      <th>r8_boro</th>\n",
       "      <th>r9_boro</th>\n",
       "    </tr>\n",
       "  </thead>\n",
       "  <tbody>\n",
       "    <tr>\n",
       "      <th>0</th>\n",
       "      <td>1</td>\n",
       "      <td>40.917782</td>\n",
       "      <td>3784.190253</td>\n",
       "      <td>694.733351</td>\n",
       "      <td>8.079350</td>\n",
       "      <td>747.200744</td>\n",
       "      <td>137.177373</td>\n",
       "      <td>18.413002</td>\n",
       "      <td>1702.885614</td>\n",
       "      <td>312.630008</td>\n",
       "      <td>0.100267</td>\n",
       "      <td>6.124396</td>\n",
       "      <td>4.516151</td>\n",
       "      <td>0.144001</td>\n",
       "      <td>5.880871</td>\n",
       "      <td>2.473925</td>\n",
       "      <td>0.107835</td>\n",
       "      <td>6.435515</td>\n",
       "      <td>4.723210</td>\n",
       "      <td>0.111502</td>\n",
       "      <td>6.708550</td>\n",
       "      <td>4.841507</td>\n",
       "      <td>0.226131</td>\n",
       "      <td>11.314730</td>\n",
       "      <td>5.755948</td>\n",
       "      <td>0.191549</td>\n",
       "      <td>11.426771</td>\n",
       "      <td>8.653378</td>\n",
       "      <td>0.150187</td>\n",
       "      <td>5.938603</td>\n",
       "      <td>2.681747</td>\n",
       "      <td>0.161801</td>\n",
       "      <td>4.348091</td>\n",
       "      <td>1.685983</td>\n",
       "      <td>0.149106</td>\n",
       "      <td>5.783791</td>\n",
       "      <td>2.624110</td>\n",
       "      <td>0.114401</td>\n",
       "      <td>6.878229</td>\n",
       "      <td>4.993136</td>\n",
       "      <td>0.234725</td>\n",
       "      <td>11.759224</td>\n",
       "      <td>6.071127</td>\n",
       "      <td>0.197696</td>\n",
       "      <td>11.818277</td>\n",
       "      <td>9.069199</td>\n",
       "    </tr>\n",
       "    <tr>\n",
       "      <th>1</th>\n",
       "      <td>2</td>\n",
       "      <td>53655.384245</td>\n",
       "      <td>34269.909866</td>\n",
       "      <td>6291.557172</td>\n",
       "      <td>3961.860416</td>\n",
       "      <td>2530.456193</td>\n",
       "      <td>464.562348</td>\n",
       "      <td>24144.922910</td>\n",
       "      <td>15421.459440</td>\n",
       "      <td>2831.200728</td>\n",
       "      <td>131.479899</td>\n",
       "      <td>55.462992</td>\n",
       "      <td>40.898602</td>\n",
       "      <td>70.613745</td>\n",
       "      <td>19.916048</td>\n",
       "      <td>8.378149</td>\n",
       "      <td>141.403339</td>\n",
       "      <td>58.280507</td>\n",
       "      <td>42.773740</td>\n",
       "      <td>146.212538</td>\n",
       "      <td>60.753128</td>\n",
       "      <td>43.845045</td>\n",
       "      <td>110.887504</td>\n",
       "      <td>38.318256</td>\n",
       "      <td>19.492988</td>\n",
       "      <td>251.177598</td>\n",
       "      <td>103.481691</td>\n",
       "      <td>78.365638</td>\n",
       "      <td>196.939744</td>\n",
       "      <td>53.780433</td>\n",
       "      <td>24.286097</td>\n",
       "      <td>79.342021</td>\n",
       "      <td>14.725165</td>\n",
       "      <td>5.709718</td>\n",
       "      <td>195.521804</td>\n",
       "      <td>52.378442</td>\n",
       "      <td>23.764139</td>\n",
       "      <td>150.013517</td>\n",
       "      <td>62.289753</td>\n",
       "      <td>45.218210</td>\n",
       "      <td>115.101891</td>\n",
       "      <td>39.823571</td>\n",
       "      <td>20.560366</td>\n",
       "      <td>259.238195</td>\n",
       "      <td>107.027200</td>\n",
       "      <td>82.131345</td>\n",
       "    </tr>\n",
       "    <tr>\n",
       "      <th>2</th>\n",
       "      <td>3</td>\n",
       "      <td>261.796157</td>\n",
       "      <td>261.796157</td>\n",
       "      <td>87.265386</td>\n",
       "      <td>97.551991</td>\n",
       "      <td>97.551991</td>\n",
       "      <td>32.517330</td>\n",
       "      <td>117.808271</td>\n",
       "      <td>117.808271</td>\n",
       "      <td>39.269424</td>\n",
       "      <td>0.641519</td>\n",
       "      <td>0.423695</td>\n",
       "      <td>0.567273</td>\n",
       "      <td>1.738706</td>\n",
       "      <td>0.767787</td>\n",
       "      <td>0.586434</td>\n",
       "      <td>0.689937</td>\n",
       "      <td>0.445219</td>\n",
       "      <td>0.593282</td>\n",
       "      <td>0.713402</td>\n",
       "      <td>0.464108</td>\n",
       "      <td>0.608141</td>\n",
       "      <td>2.730358</td>\n",
       "      <td>1.477213</td>\n",
       "      <td>1.364424</td>\n",
       "      <td>1.225550</td>\n",
       "      <td>0.790522</td>\n",
       "      <td>1.086950</td>\n",
       "      <td>0.960911</td>\n",
       "      <td>0.410842</td>\n",
       "      <td>0.336854</td>\n",
       "      <td>1.953621</td>\n",
       "      <td>0.567672</td>\n",
       "      <td>0.399655</td>\n",
       "      <td>0.953993</td>\n",
       "      <td>0.400132</td>\n",
       "      <td>0.329614</td>\n",
       "      <td>0.731948</td>\n",
       "      <td>0.475847</td>\n",
       "      <td>0.627187</td>\n",
       "      <td>2.834128</td>\n",
       "      <td>1.535244</td>\n",
       "      <td>1.439136</td>\n",
       "      <td>1.264879</td>\n",
       "      <td>0.817607</td>\n",
       "      <td>1.139181</td>\n",
       "    </tr>\n",
       "    <tr>\n",
       "      <th>3</th>\n",
       "      <td>4</td>\n",
       "      <td>89.714219</td>\n",
       "      <td>836.980890</td>\n",
       "      <td>418.490445</td>\n",
       "      <td>34.913021</td>\n",
       "      <td>325.717946</td>\n",
       "      <td>162.858973</td>\n",
       "      <td>40.371399</td>\n",
       "      <td>376.641401</td>\n",
       "      <td>188.320700</td>\n",
       "      <td>0.219840</td>\n",
       "      <td>1.354584</td>\n",
       "      <td>2.720419</td>\n",
       "      <td>0.622268</td>\n",
       "      <td>2.563575</td>\n",
       "      <td>2.937080</td>\n",
       "      <td>0.236433</td>\n",
       "      <td>1.423397</td>\n",
       "      <td>2.845146</td>\n",
       "      <td>0.244474</td>\n",
       "      <td>1.483786</td>\n",
       "      <td>2.916406</td>\n",
       "      <td>0.977172</td>\n",
       "      <td>4.932290</td>\n",
       "      <td>6.833546</td>\n",
       "      <td>0.419980</td>\n",
       "      <td>2.527354</td>\n",
       "      <td>5.212584</td>\n",
       "      <td>0.329292</td>\n",
       "      <td>1.313490</td>\n",
       "      <td>1.615419</td>\n",
       "      <td>0.699184</td>\n",
       "      <td>1.895409</td>\n",
       "      <td>2.001623</td>\n",
       "      <td>0.326921</td>\n",
       "      <td>1.279249</td>\n",
       "      <td>1.580700</td>\n",
       "      <td>0.250829</td>\n",
       "      <td>1.521315</td>\n",
       "      <td>3.007743</td>\n",
       "      <td>1.014310</td>\n",
       "      <td>5.126053</td>\n",
       "      <td>7.207730</td>\n",
       "      <td>0.433458</td>\n",
       "      <td>2.613947</td>\n",
       "      <td>5.463065</td>\n",
       "    </tr>\n",
       "    <tr>\n",
       "      <th>4</th>\n",
       "      <td>5</td>\n",
       "      <td>669.074647</td>\n",
       "      <td>53676.325646</td>\n",
       "      <td>53676.325646</td>\n",
       "      <td>297.434763</td>\n",
       "      <td>23861.620343</td>\n",
       "      <td>23861.620343</td>\n",
       "      <td>301.083591</td>\n",
       "      <td>24154.346541</td>\n",
       "      <td>24154.346541</td>\n",
       "      <td>1.639535</td>\n",
       "      <td>86.870657</td>\n",
       "      <td>348.925806</td>\n",
       "      <td>5.301293</td>\n",
       "      <td>187.803752</td>\n",
       "      <td>430.332370</td>\n",
       "      <td>1.763279</td>\n",
       "      <td>91.283679</td>\n",
       "      <td>364.923520</td>\n",
       "      <td>1.823249</td>\n",
       "      <td>95.156500</td>\n",
       "      <td>374.063344</td>\n",
       "      <td>8.324826</td>\n",
       "      <td>361.332352</td>\n",
       "      <td>1001.231131</td>\n",
       "      <td>3.132147</td>\n",
       "      <td>162.081457</td>\n",
       "      <td>668.575264</td>\n",
       "      <td>2.455809</td>\n",
       "      <td>84.235298</td>\n",
       "      <td>207.196473</td>\n",
       "      <td>5.956564</td>\n",
       "      <td>138.854925</td>\n",
       "      <td>293.271962</td>\n",
       "      <td>2.438128</td>\n",
       "      <td>82.039385</td>\n",
       "      <td>202.743398</td>\n",
       "      <td>1.870646</td>\n",
       "      <td>97.563288</td>\n",
       "      <td>385.778484</td>\n",
       "      <td>8.641219</td>\n",
       "      <td>375.527127</td>\n",
       "      <td>1056.055550</td>\n",
       "      <td>3.232662</td>\n",
       "      <td>167.634723</td>\n",
       "      <td>700.702336</td>\n",
       "    </tr>\n",
       "  </tbody>\n",
       "</table>\n",
       "</div>"
      ],
      "text/plain": [
       "   RECORD            r1            r2            r3           r4  \\\n",
       "0       1     40.917782   3784.190253    694.733351     8.079350   \n",
       "1       2  53655.384245  34269.909866   6291.557172  3961.860416   \n",
       "2       3    261.796157    261.796157     87.265386    97.551991   \n",
       "3       4     89.714219    836.980890    418.490445    34.913021   \n",
       "4       5    669.074647  53676.325646  53676.325646   297.434763   \n",
       "\n",
       "             r5            r6            r7            r8            r9  \\\n",
       "0    747.200744    137.177373     18.413002   1702.885614    312.630008   \n",
       "1   2530.456193    464.562348  24144.922910  15421.459440   2831.200728   \n",
       "2     97.551991     32.517330    117.808271    117.808271     39.269424   \n",
       "3    325.717946    162.858973     40.371399    376.641401    188.320700   \n",
       "4  23861.620343  23861.620343    301.083591  24154.346541  24154.346541   \n",
       "\n",
       "      r1_zip5    r2_zip5     r3_zip5    r4_zip5     r5_zip5     r6_zip5  \\\n",
       "0    0.100267   6.124396    4.516151   0.144001    5.880871    2.473925   \n",
       "1  131.479899  55.462992   40.898602  70.613745   19.916048    8.378149   \n",
       "2    0.641519   0.423695    0.567273   1.738706    0.767787    0.586434   \n",
       "3    0.219840   1.354584    2.720419   0.622268    2.563575    2.937080   \n",
       "4    1.639535  86.870657  348.925806   5.301293  187.803752  430.332370   \n",
       "\n",
       "      r7_zip5    r8_zip5     r9_zip5     r1_zip3    r2_zip3     r3_zip3  \\\n",
       "0    0.107835   6.435515    4.723210    0.111502   6.708550    4.841507   \n",
       "1  141.403339  58.280507   42.773740  146.212538  60.753128   43.845045   \n",
       "2    0.689937   0.445219    0.593282    0.713402   0.464108    0.608141   \n",
       "3    0.236433   1.423397    2.845146    0.244474   1.483786    2.916406   \n",
       "4    1.763279  91.283679  364.923520    1.823249  95.156500  374.063344   \n",
       "\n",
       "      r4_zip3     r5_zip3      r6_zip3     r7_zip3     r8_zip3     r9_zip3  \\\n",
       "0    0.226131   11.314730     5.755948    0.191549   11.426771    8.653378   \n",
       "1  110.887504   38.318256    19.492988  251.177598  103.481691   78.365638   \n",
       "2    2.730358    1.477213     1.364424    1.225550    0.790522    1.086950   \n",
       "3    0.977172    4.932290     6.833546    0.419980    2.527354    5.212584   \n",
       "4    8.324826  361.332352  1001.231131    3.132147  162.081457  668.575264   \n",
       "\n",
       "   r1_taxclass  r2_taxclass  r3_taxclass  r4_taxclass  r5_taxclass  \\\n",
       "0     0.150187     5.938603     2.681747     0.161801     4.348091   \n",
       "1   196.939744    53.780433    24.286097    79.342021    14.725165   \n",
       "2     0.960911     0.410842     0.336854     1.953621     0.567672   \n",
       "3     0.329292     1.313490     1.615419     0.699184     1.895409   \n",
       "4     2.455809    84.235298   207.196473     5.956564   138.854925   \n",
       "\n",
       "   r6_taxclass  r7_taxclass  r8_taxclass  r9_taxclass     r1_boro    r2_boro  \\\n",
       "0     1.685983     0.149106     5.783791     2.624110    0.114401   6.878229   \n",
       "1     5.709718   195.521804    52.378442    23.764139  150.013517  62.289753   \n",
       "2     0.399655     0.953993     0.400132     0.329614    0.731948   0.475847   \n",
       "3     2.001623     0.326921     1.279249     1.580700    0.250829   1.521315   \n",
       "4   293.271962     2.438128    82.039385   202.743398    1.870646  97.563288   \n",
       "\n",
       "      r3_boro     r4_boro     r5_boro      r6_boro     r7_boro     r8_boro  \\\n",
       "0    4.993136    0.234725   11.759224     6.071127    0.197696   11.818277   \n",
       "1   45.218210  115.101891   39.823571    20.560366  259.238195  107.027200   \n",
       "2    0.627187    2.834128    1.535244     1.439136    1.264879    0.817607   \n",
       "3    3.007743    1.014310    5.126053     7.207730    0.433458    2.613947   \n",
       "4  385.778484    8.641219  375.527127  1056.055550    3.232662  167.634723   \n",
       "\n",
       "      r9_boro  \n",
       "0    9.069199  \n",
       "1   82.131345  \n",
       "2    1.139181  \n",
       "3    5.463065  \n",
       "4  700.702336  "
      ]
     },
     "execution_count": 31,
     "metadata": {},
     "output_type": "execute_result"
    }
   ],
   "source": [
    "data.head()"
   ]
  },
  {
   "cell_type": "code",
   "execution_count": 32,
   "metadata": {
    "ExecuteTime": {
     "end_time": "2021-02-11T07:52:30.844296Z",
     "start_time": "2021-02-11T07:52:28.715157Z"
    }
   },
   "outputs": [],
   "source": [
    "stats=data.describe().transpose()"
   ]
  },
  {
   "cell_type": "code",
   "execution_count": 33,
   "metadata": {
    "ExecuteTime": {
     "end_time": "2021-02-11T07:52:30.866445Z",
     "start_time": "2021-02-11T07:52:30.846656Z"
    }
   },
   "outputs": [],
   "source": [
    "stats.to_csv('stats-submitted.csv')"
   ]
  },
  {
   "cell_type": "markdown",
   "metadata": {},
   "source": [
    "# Principal Component Analysis\n",
    "\n",
    "We do PCA to reduce the number of dimensions in our data set. PCA also removes correlations between variables which can otherwise interfere with the accuracy of our fraud model."
   ]
  },
  {
   "cell_type": "markdown",
   "metadata": {},
   "source": [
    "## Z-scale\n",
    "<br>\n",
    "<div align='left'><font size='3' color='brick'>z-scaling before PCA</font></div>\n",
    "Z-scaling is important to bring all the variables down to a common, unit-free scale. \n",
    "\n",
    "$$z = \\frac{ x - \\mu}{\\sigma}$$\n",
    "\n",
    "$\\mu$ is the mean and $\\sigma$ is the standard deviation of the variable."
   ]
  },
  {
   "cell_type": "code",
   "execution_count": 34,
   "metadata": {
    "ExecuteTime": {
     "end_time": "2021-02-11T07:52:31.445397Z",
     "start_time": "2021-02-11T07:52:30.869369Z"
    }
   },
   "outputs": [
    {
     "data": {
      "text/html": [
       "<div>\n",
       "<style scoped>\n",
       "    .dataframe tbody tr th:only-of-type {\n",
       "        vertical-align: middle;\n",
       "    }\n",
       "\n",
       "    .dataframe tbody tr th {\n",
       "        vertical-align: top;\n",
       "    }\n",
       "\n",
       "    .dataframe thead th {\n",
       "        text-align: right;\n",
       "    }\n",
       "</style>\n",
       "<table border=\"1\" class=\"dataframe\">\n",
       "  <thead>\n",
       "    <tr style=\"text-align: right;\">\n",
       "      <th></th>\n",
       "      <th>r1</th>\n",
       "      <th>r2</th>\n",
       "      <th>r3</th>\n",
       "      <th>r4</th>\n",
       "      <th>r5</th>\n",
       "      <th>r6</th>\n",
       "      <th>r7</th>\n",
       "      <th>r8</th>\n",
       "      <th>r9</th>\n",
       "      <th>r1_zip5</th>\n",
       "      <th>r2_zip5</th>\n",
       "      <th>r3_zip5</th>\n",
       "      <th>r4_zip5</th>\n",
       "      <th>r5_zip5</th>\n",
       "      <th>r6_zip5</th>\n",
       "      <th>r7_zip5</th>\n",
       "      <th>r8_zip5</th>\n",
       "      <th>r9_zip5</th>\n",
       "      <th>r1_zip3</th>\n",
       "      <th>r2_zip3</th>\n",
       "      <th>r3_zip3</th>\n",
       "      <th>r4_zip3</th>\n",
       "      <th>r5_zip3</th>\n",
       "      <th>r6_zip3</th>\n",
       "      <th>r7_zip3</th>\n",
       "      <th>r8_zip3</th>\n",
       "      <th>r9_zip3</th>\n",
       "      <th>r1_taxclass</th>\n",
       "      <th>r2_taxclass</th>\n",
       "      <th>r3_taxclass</th>\n",
       "      <th>r4_taxclass</th>\n",
       "      <th>r5_taxclass</th>\n",
       "      <th>r6_taxclass</th>\n",
       "      <th>r7_taxclass</th>\n",
       "      <th>r8_taxclass</th>\n",
       "      <th>r9_taxclass</th>\n",
       "      <th>r1_boro</th>\n",
       "      <th>r2_boro</th>\n",
       "      <th>r3_boro</th>\n",
       "      <th>r4_boro</th>\n",
       "      <th>r5_boro</th>\n",
       "      <th>r6_boro</th>\n",
       "      <th>r7_boro</th>\n",
       "      <th>r8_boro</th>\n",
       "      <th>r9_boro</th>\n",
       "    </tr>\n",
       "  </thead>\n",
       "  <tbody>\n",
       "    <tr>\n",
       "      <th>0</th>\n",
       "      <td>40.917782</td>\n",
       "      <td>3784.190253</td>\n",
       "      <td>694.733351</td>\n",
       "      <td>8.079350</td>\n",
       "      <td>747.200744</td>\n",
       "      <td>137.177373</td>\n",
       "      <td>18.413002</td>\n",
       "      <td>1702.885614</td>\n",
       "      <td>312.630008</td>\n",
       "      <td>0.100267</td>\n",
       "      <td>6.124396</td>\n",
       "      <td>4.516151</td>\n",
       "      <td>0.144001</td>\n",
       "      <td>5.880871</td>\n",
       "      <td>2.473925</td>\n",
       "      <td>0.107835</td>\n",
       "      <td>6.435515</td>\n",
       "      <td>4.72321</td>\n",
       "      <td>0.111502</td>\n",
       "      <td>6.708550</td>\n",
       "      <td>4.841507</td>\n",
       "      <td>0.226131</td>\n",
       "      <td>11.314730</td>\n",
       "      <td>5.755948</td>\n",
       "      <td>0.191549</td>\n",
       "      <td>11.426771</td>\n",
       "      <td>8.653378</td>\n",
       "      <td>0.150187</td>\n",
       "      <td>5.938603</td>\n",
       "      <td>2.681747</td>\n",
       "      <td>0.161801</td>\n",
       "      <td>4.348091</td>\n",
       "      <td>1.685983</td>\n",
       "      <td>0.149106</td>\n",
       "      <td>5.783791</td>\n",
       "      <td>2.624110</td>\n",
       "      <td>0.114401</td>\n",
       "      <td>6.878229</td>\n",
       "      <td>4.993136</td>\n",
       "      <td>0.234725</td>\n",
       "      <td>11.759224</td>\n",
       "      <td>6.071127</td>\n",
       "      <td>0.197696</td>\n",
       "      <td>11.818277</td>\n",
       "      <td>9.069199</td>\n",
       "    </tr>\n",
       "    <tr>\n",
       "      <th>1</th>\n",
       "      <td>53655.384245</td>\n",
       "      <td>34269.909866</td>\n",
       "      <td>6291.557172</td>\n",
       "      <td>3961.860416</td>\n",
       "      <td>2530.456193</td>\n",
       "      <td>464.562348</td>\n",
       "      <td>24144.922910</td>\n",
       "      <td>15421.459440</td>\n",
       "      <td>2831.200728</td>\n",
       "      <td>131.479899</td>\n",
       "      <td>55.462992</td>\n",
       "      <td>40.898602</td>\n",
       "      <td>70.613745</td>\n",
       "      <td>19.916048</td>\n",
       "      <td>8.378149</td>\n",
       "      <td>141.403339</td>\n",
       "      <td>58.280507</td>\n",
       "      <td>42.77374</td>\n",
       "      <td>146.212538</td>\n",
       "      <td>60.753128</td>\n",
       "      <td>43.845045</td>\n",
       "      <td>110.887504</td>\n",
       "      <td>38.318256</td>\n",
       "      <td>19.492988</td>\n",
       "      <td>251.177598</td>\n",
       "      <td>103.481691</td>\n",
       "      <td>78.365638</td>\n",
       "      <td>196.939744</td>\n",
       "      <td>53.780433</td>\n",
       "      <td>24.286097</td>\n",
       "      <td>79.342021</td>\n",
       "      <td>14.725165</td>\n",
       "      <td>5.709718</td>\n",
       "      <td>195.521804</td>\n",
       "      <td>52.378442</td>\n",
       "      <td>23.764139</td>\n",
       "      <td>150.013517</td>\n",
       "      <td>62.289753</td>\n",
       "      <td>45.218210</td>\n",
       "      <td>115.101891</td>\n",
       "      <td>39.823571</td>\n",
       "      <td>20.560366</td>\n",
       "      <td>259.238195</td>\n",
       "      <td>107.027200</td>\n",
       "      <td>82.131345</td>\n",
       "    </tr>\n",
       "  </tbody>\n",
       "</table>\n",
       "</div>"
      ],
      "text/plain": [
       "             r1            r2           r3           r4           r5  \\\n",
       "0     40.917782   3784.190253   694.733351     8.079350   747.200744   \n",
       "1  53655.384245  34269.909866  6291.557172  3961.860416  2530.456193   \n",
       "\n",
       "           r6            r7            r8           r9     r1_zip5    r2_zip5  \\\n",
       "0  137.177373     18.413002   1702.885614   312.630008    0.100267   6.124396   \n",
       "1  464.562348  24144.922910  15421.459440  2831.200728  131.479899  55.462992   \n",
       "\n",
       "     r3_zip5    r4_zip5    r5_zip5   r6_zip5     r7_zip5    r8_zip5   r9_zip5  \\\n",
       "0   4.516151   0.144001   5.880871  2.473925    0.107835   6.435515   4.72321   \n",
       "1  40.898602  70.613745  19.916048  8.378149  141.403339  58.280507  42.77374   \n",
       "\n",
       "      r1_zip3    r2_zip3    r3_zip3     r4_zip3    r5_zip3    r6_zip3  \\\n",
       "0    0.111502   6.708550   4.841507    0.226131  11.314730   5.755948   \n",
       "1  146.212538  60.753128  43.845045  110.887504  38.318256  19.492988   \n",
       "\n",
       "      r7_zip3     r8_zip3    r9_zip3  r1_taxclass  r2_taxclass  r3_taxclass  \\\n",
       "0    0.191549   11.426771   8.653378     0.150187     5.938603     2.681747   \n",
       "1  251.177598  103.481691  78.365638   196.939744    53.780433    24.286097   \n",
       "\n",
       "   r4_taxclass  r5_taxclass  r6_taxclass  r7_taxclass  r8_taxclass  \\\n",
       "0     0.161801     4.348091     1.685983     0.149106     5.783791   \n",
       "1    79.342021    14.725165     5.709718   195.521804    52.378442   \n",
       "\n",
       "   r9_taxclass     r1_boro    r2_boro    r3_boro     r4_boro    r5_boro  \\\n",
       "0     2.624110    0.114401   6.878229   4.993136    0.234725  11.759224   \n",
       "1    23.764139  150.013517  62.289753  45.218210  115.101891  39.823571   \n",
       "\n",
       "     r6_boro     r7_boro     r8_boro    r9_boro  \n",
       "0   6.071127    0.197696   11.818277   9.069199  \n",
       "1  20.560366  259.238195  107.027200  82.131345  "
      ]
     },
     "execution_count": 34,
     "metadata": {},
     "output_type": "execute_result"
    }
   ],
   "source": [
    "# Let's make a copy of our variables just in case\n",
    "data_orig=data.copy()\n",
    "\n",
    "# Next, we drop the `RECORD` column\n",
    "data.drop(columns='RECORD',inplace=True)\n",
    "\n",
    "# Quick check to see if RECORD was dropped properly\n",
    "data.head(2)"
   ]
  },
  {
   "cell_type": "code",
   "execution_count": 35,
   "metadata": {
    "ExecuteTime": {
     "end_time": "2021-02-11T07:52:34.395642Z",
     "start_time": "2021-02-11T07:52:31.448094Z"
    }
   },
   "outputs": [],
   "source": [
    "data=(data - data.mean())/data.std()"
   ]
  },
  {
   "cell_type": "markdown",
   "metadata": {},
   "source": [
    "## PCA\n",
    "<div align='left'><font size='3' color='brick'>Computing the principal components</font></div>\n",
    "Now that we have the z-scores for all the features, I'm going to compute the principal components next."
   ]
  },
  {
   "cell_type": "code",
   "execution_count": 36,
   "metadata": {
    "ExecuteTime": {
     "end_time": "2021-02-11T07:52:40.769563Z",
     "start_time": "2021-02-11T07:52:34.400243Z"
    }
   },
   "outputs": [
    {
     "data": {
      "image/png": "[encoded data removed]",
      "text/plain": [
       "<Figure size 432x288 with 1 Axes>"
      ]
     },
     "metadata": {
      "needs_background": "light"
     },
     "output_type": "display_data"
    }
   ],
   "source": [
    "from sklearn.decomposition import PCA\n",
    "\n",
    "# By setting n_components=.99, we want 99% of the variance to be explained\n",
    "# We also maximize accuracy by setting svd_solver='full'\n",
    "pca = PCA(n_components = .99, svd_solver = 'full')\n",
    "pca.fit(data)\n",
    "\n",
    "# Variance plot\n",
    "plt.plot(np.cumsum(pca.explained_variance_ratio_),marker='o',color='b')\n",
    "plt.title('The number of components needed to explain variance',pad=20)\n",
    "plt.xlabel('Number of components')\n",
    "plt.ylabel('Cumulative explained variance')\n",
    "plt.yticks(np.arange(0.05, 1.1, step=.1))\n",
    "plt.xticks(np.arange(0, 20, step=2))\n",
    "plt.axvline(x=6, linestyle='--',color='grey')\n",
    "plt.axhline(y=0.95, color='grey', linestyle='--')\n",
    "plt.ylim(0,1)\n",
    "\n",
    "# Remove right and top spines\n",
    "plt.gca().spines['top'].set_visible(False)\n",
    "plt.gca().spines['right'].set_visible(False)"
   ]
  },
  {
   "cell_type": "markdown",
   "metadata": {},
   "source": [
    "Based on the above plot, we see that 6 components explain ~95% of the variance. So we go ahead with 6 components for further recomputation."
   ]
  },
  {
   "cell_type": "code",
   "execution_count": 37,
   "metadata": {
    "ExecuteTime": {
     "end_time": "2021-02-11T07:52:47.611694Z",
     "start_time": "2021-02-11T07:52:40.772391Z"
    }
   },
   "outputs": [
    {
     "name": "stdout",
     "output_type": "stream",
     "text": [
      "Shape of data: (1070994, 6)\n",
      "         PC1        PC2       PC3        PC4       PC5       PC6\n",
      "0   1.195711  -0.366169 -0.747954   0.296501  0.168864 -0.199508\n",
      "1  18.394597  71.830077  3.013230  12.242811  0.926201 -9.843458\n",
      "2  -0.044600   0.219462 -0.046588  -0.203706 -0.068169  0.031379\n"
     ]
    }
   ],
   "source": [
    "pca = PCA(n_components = 6)\n",
    "princ_comps = pca.fit_transform(data)\n",
    "data_pca = pd.DataFrame(princ_comps, columns = ['PC' + str(i) for i in range(1, pca.n_components_+1)])\n",
    "print(f'Shape of data: {data_pca.shape}\\n{data_pca.head(3)}')\n"
   ]
  },
  {
   "cell_type": "markdown",
   "metadata": {},
   "source": [
    "## Z-scaling the PCs\n",
    "<br>\n",
    "<div align='left'><font size='3' color='brick'>z-scaling the 6 Principal Components</font></div>"
   ]
  },
  {
   "cell_type": "code",
   "execution_count": 38,
   "metadata": {
    "ExecuteTime": {
     "end_time": "2021-02-11T07:52:48.107133Z",
     "start_time": "2021-02-11T07:52:47.702412Z"
    }
   },
   "outputs": [],
   "source": [
    "pca_mean = data_pca.mean()\n",
    "pca_sd = data_pca.std()\n",
    "data_pca = (data_pca - pca_mean) / pca_sd\n",
    "\n"
   ]
  },
  {
   "cell_type": "code",
   "execution_count": 39,
   "metadata": {
    "ExecuteTime": {
     "end_time": "2021-02-11T07:52:48.381978Z",
     "start_time": "2021-02-11T07:52:48.110537Z"
    }
   },
   "outputs": [
    {
     "data": {
      "text/html": [
       "<div>\n",
       "<style scoped>\n",
       "    .dataframe tbody tr th:only-of-type {\n",
       "        vertical-align: middle;\n",
       "    }\n",
       "\n",
       "    .dataframe tbody tr th {\n",
       "        vertical-align: top;\n",
       "    }\n",
       "\n",
       "    .dataframe thead th {\n",
       "        text-align: right;\n",
       "    }\n",
       "</style>\n",
       "<table border=\"1\" class=\"dataframe\">\n",
       "  <thead>\n",
       "    <tr style=\"text-align: right;\">\n",
       "      <th></th>\n",
       "      <th>PC1</th>\n",
       "      <th>PC2</th>\n",
       "      <th>PC3</th>\n",
       "      <th>PC4</th>\n",
       "      <th>PC5</th>\n",
       "      <th>PC6</th>\n",
       "    </tr>\n",
       "  </thead>\n",
       "  <tbody>\n",
       "    <tr>\n",
       "      <th>count</th>\n",
       "      <td>1070994.0</td>\n",
       "      <td>1070994.0</td>\n",
       "      <td>1070994.0</td>\n",
       "      <td>1070994.0</td>\n",
       "      <td>1070994.0</td>\n",
       "      <td>1070994.0</td>\n",
       "    </tr>\n",
       "    <tr>\n",
       "      <th>mean</th>\n",
       "      <td>0.0</td>\n",
       "      <td>0.0</td>\n",
       "      <td>-0.0</td>\n",
       "      <td>0.0</td>\n",
       "      <td>-0.0</td>\n",
       "      <td>0.0</td>\n",
       "    </tr>\n",
       "    <tr>\n",
       "      <th>std</th>\n",
       "      <td>1.0</td>\n",
       "      <td>1.0</td>\n",
       "      <td>1.0</td>\n",
       "      <td>1.0</td>\n",
       "      <td>1.0</td>\n",
       "      <td>1.0</td>\n",
       "    </tr>\n",
       "    <tr>\n",
       "      <th>min</th>\n",
       "      <td>-0.0</td>\n",
       "      <td>-139.0</td>\n",
       "      <td>-447.0</td>\n",
       "      <td>-363.0</td>\n",
       "      <td>-350.0</td>\n",
       "      <td>-335.0</td>\n",
       "    </tr>\n",
       "    <tr>\n",
       "      <th>25%</th>\n",
       "      <td>-0.0</td>\n",
       "      <td>-0.0</td>\n",
       "      <td>-0.0</td>\n",
       "      <td>-0.0</td>\n",
       "      <td>-0.0</td>\n",
       "      <td>-0.0</td>\n",
       "    </tr>\n",
       "    <tr>\n",
       "      <th>50%</th>\n",
       "      <td>-0.0</td>\n",
       "      <td>-0.0</td>\n",
       "      <td>0.0</td>\n",
       "      <td>-0.0</td>\n",
       "      <td>-0.0</td>\n",
       "      <td>-0.0</td>\n",
       "    </tr>\n",
       "    <tr>\n",
       "      <th>75%</th>\n",
       "      <td>0.0</td>\n",
       "      <td>0.0</td>\n",
       "      <td>0.0</td>\n",
       "      <td>0.0</td>\n",
       "      <td>0.0</td>\n",
       "      <td>0.0</td>\n",
       "    </tr>\n",
       "    <tr>\n",
       "      <th>max</th>\n",
       "      <td>801.0</td>\n",
       "      <td>536.0</td>\n",
       "      <td>481.0</td>\n",
       "      <td>408.0</td>\n",
       "      <td>439.0</td>\n",
       "      <td>429.0</td>\n",
       "    </tr>\n",
       "  </tbody>\n",
       "</table>\n",
       "</div>"
      ],
      "text/plain": [
       "             PC1        PC2        PC3        PC4        PC5        PC6\n",
       "count  1070994.0  1070994.0  1070994.0  1070994.0  1070994.0  1070994.0\n",
       "mean         0.0        0.0       -0.0        0.0       -0.0        0.0\n",
       "std          1.0        1.0        1.0        1.0        1.0        1.0\n",
       "min         -0.0     -139.0     -447.0     -363.0     -350.0     -335.0\n",
       "25%         -0.0       -0.0       -0.0       -0.0       -0.0       -0.0\n",
       "50%         -0.0       -0.0        0.0       -0.0       -0.0       -0.0\n",
       "75%          0.0        0.0        0.0        0.0        0.0        0.0\n",
       "max        801.0      536.0      481.0      408.0      439.0      429.0"
      ]
     },
     "execution_count": 39,
     "metadata": {},
     "output_type": "execute_result"
    }
   ],
   "source": [
    "# To check the means and dtandard deviations\n",
    "data_pca.describe().round()"
   ]
  },
  {
   "cell_type": "markdown",
   "metadata": {},
   "source": [
    "# Model 1 - Outliers\n",
    "\n",
    "In the first fraud detection model, we use the Z-scores to see if there are any points that appear outside the trend of non-fraud tax data. \n",
    "\n",
    "We will use a heuristic algorithm to combine the Z-scores and calculate a fraud score for each record. The first score $s_i^1$ for each record $i$ will be calculate using the following formula:\n",
    "\n",
    "$$s_i^1=(\\sum_{k}|PCz_k^i|^p)^\\frac{1}{p}$$\n",
    "\n",
    "We choose p=2 to follow the Euclidean distance formula.\n"
   ]
  },
  {
   "cell_type": "code",
   "execution_count": 40,
   "metadata": {
    "ExecuteTime": {
     "end_time": "2021-02-11T07:52:48.541562Z",
     "start_time": "2021-02-11T07:52:48.383919Z"
    }
   },
   "outputs": [],
   "source": [
    "p=2\n",
    "one_over_p = 1/p\n",
    "score1 = (((data_pca).abs()**p).sum(axis=1))**one_over_p\n"
   ]
  },
  {
   "cell_type": "code",
   "execution_count": 41,
   "metadata": {
    "ExecuteTime": {
     "end_time": "2021-02-11T07:52:48.552459Z",
     "start_time": "2021-02-11T07:52:48.544171Z"
    }
   },
   "outputs": [
    {
     "data": {
      "text/plain": [
       "0     0.571141\n",
       "1    24.684918\n",
       "2     0.152792\n",
       "3     0.169596\n",
       "4    30.244379\n",
       "dtype: float64"
      ]
     },
     "execution_count": 41,
     "metadata": {},
     "output_type": "execute_result"
    }
   ],
   "source": [
    "score1.head()"
   ]
  },
  {
   "cell_type": "markdown",
   "metadata": {},
   "source": [
    "# Model 2 - Autoencoder"
   ]
  },
  {
   "cell_type": "code",
   "execution_count": 42,
   "metadata": {
    "ExecuteTime": {
     "end_time": "2021-02-11T07:57:09.529819Z",
     "start_time": "2021-02-11T07:52:48.554938Z"
    }
   },
   "outputs": [
    {
     "name": "stdout",
     "output_type": "stream",
     "text": [
      "Epoch 1/5\n",
      "33469/33469 [==============================] - 49s 1ms/step - loss: 1.1456 - val_loss: 0.9774\n",
      "Epoch 2/5\n",
      "33469/33469 [==============================] - 51s 2ms/step - loss: 1.2045 - val_loss: 0.9757\n",
      "Epoch 3/5\n",
      "33469/33469 [==============================] - 50s 1ms/step - loss: 0.8273 - val_loss: 0.9748\n",
      "Epoch 4/5\n",
      "33469/33469 [==============================] - 47s 1ms/step - loss: 1.0698 - val_loss: 0.9745\n",
      "Epoch 5/5\n",
      "33469/33469 [==============================] - 48s 1ms/step - loss: 1.3393 - val_loss: 0.9747\n"
     ]
    }
   ],
   "source": [
    "from keras.models import Model\n",
    "from keras.layers import Input, Dense\n",
    "# placeholder for input\n",
    "data_in = Input(shape=(6,))\n",
    "# dimension of the encoded data. Choose 3\n",
    "encoded_dim = 3\n",
    "# encoded representation of the data\n",
    "encoded = Dense(encoded_dim, activation='tanh')(data_in)\n",
    "# reconstruction of the input\n",
    "decoded = Dense(6,activation='tanh')(encoded)\n",
    "# this model maps the input data to the reconstructed data\n",
    "autoencoder = Model(data_in, decoded)\n",
    "\n",
    "autoencoder.compile(optimizer='adam', \\\n",
    "                    loss='mean_squared_error')\n",
    "\n",
    "autoencoder.fit(data_pca,data_pca, epochs=5,\\\n",
    "                shuffle=True, validation_data=(data_pca,data_pca))\n",
    "\n",
    "pca_out = autoencoder.predict(data_pca)\n",
    "error = pca_out-data_pca\n",
    "p=2\n",
    "oop=1/p\n",
    "score2 = ((error.abs()**p).sum(axis=1))**oop\n"
   ]
  },
  {
   "cell_type": "code",
   "execution_count": 43,
   "metadata": {
    "ExecuteTime": {
     "end_time": "2021-02-11T07:57:09.561893Z",
     "start_time": "2021-02-11T07:57:09.532835Z"
    }
   },
   "outputs": [
    {
     "data": {
      "text/plain": [
       "0     0.421881\n",
       "1    23.075263\n",
       "2     0.024507\n",
       "3     0.116083\n",
       "4    28.892812\n",
       "dtype: float64"
      ]
     },
     "execution_count": 43,
     "metadata": {},
     "output_type": "execute_result"
    }
   ],
   "source": [
    "score2.head()"
   ]
  },
  {
   "cell_type": "code",
   "execution_count": 44,
   "metadata": {
    "ExecuteTime": {
     "end_time": "2021-02-11T07:57:10.388927Z",
     "start_time": "2021-02-11T07:57:09.566382Z"
    }
   },
   "outputs": [],
   "source": [
    "scores = pd.DataFrame(score1)\n",
    "scores.columns=['score1']\n",
    "scores['score2'] = score2\n",
    "scores['score1 rank'] = scores['score1'].rank()\n",
    "scores['score2 rank'] = scores['score2'].rank()\n",
    "scores['final'] = (scores['score1 rank'] + scores['score2 rank'])/2\n",
    "top_records = scores.sort_values(['final'], ascending = False).head(20).index\n"
   ]
  },
  {
   "cell_type": "markdown",
   "metadata": {},
   "source": [
    "# Plotting score distributions"
   ]
  },
  {
   "cell_type": "code",
   "execution_count": 45,
   "metadata": {
    "ExecuteTime": {
     "end_time": "2021-02-11T07:57:11.305338Z",
     "start_time": "2021-02-11T07:57:10.392671Z"
    }
   },
   "outputs": [
    {
     "data": {
      "text/plain": [
       "(0.1, 2142747.525661616)"
      ]
     },
     "execution_count": 45,
     "metadata": {},
     "output_type": "execute_result"
    },
    {
     "data": {
      "image/png": "[encoded data removed]",
      "text/plain": [
       "<Figure size 432x288 with 1 Axes>"
      ]
     },
     "metadata": {
      "needs_background": "light"
     },
     "output_type": "display_data"
    }
   ],
   "source": [
    "plt.hist(score1,bins=100, range=(0,1000))\n",
    "plt.yscale('log')\n",
    "plt.ylim(ymin=.1)"
   ]
  },
  {
   "cell_type": "code",
   "execution_count": 46,
   "metadata": {
    "ExecuteTime": {
     "end_time": "2021-02-11T07:57:12.144629Z",
     "start_time": "2021-02-11T07:57:11.307563Z"
    }
   },
   "outputs": [
    {
     "data": {
      "text/plain": [
       "(0.1, 2142982.9672979694)"
      ]
     },
     "execution_count": 46,
     "metadata": {},
     "output_type": "execute_result"
    },
    {
     "data": {
      "image/png": "[encoded data removed]",
      "text/plain": [
       "<Figure size 432x288 with 1 Axes>"
      ]
     },
     "metadata": {
      "needs_background": "light"
     },
     "output_type": "display_data"
    }
   ],
   "source": [
    "plt.hist(score2,bins=100, range=(0,1000))\n",
    "plt.yscale('log')\n",
    "plt.ylim(ymin=.1)"
   ]
  },
  {
   "cell_type": "code",
   "execution_count": 47,
   "metadata": {
    "ExecuteTime": {
     "end_time": "2021-02-11T07:57:12.931404Z",
     "start_time": "2021-02-11T07:57:12.147243Z"
    }
   },
   "outputs": [
    {
     "data": {
      "text/plain": [
       "<matplotlib.axes._subplots.AxesSubplot at 0x7fdb8e110370>"
      ]
     },
     "execution_count": 47,
     "metadata": {},
     "output_type": "execute_result"
    },
    {
     "data": {
      "image/png": "[encoded data removed]",
      "text/plain": [
       "<Figure size 432x288 with 1 Axes>"
      ]
     },
     "metadata": {
      "needs_background": "light"
     },
     "output_type": "display_data"
    }
   ],
   "source": [
    "sns.distplot(scores['final'])"
   ]
  },
  {
   "cell_type": "code",
   "execution_count": 48,
   "metadata": {
    "ExecuteTime": {
     "end_time": "2021-02-11T07:57:12.982976Z",
     "start_time": "2021-02-11T07:57:12.969853Z"
    }
   },
   "outputs": [
    {
     "data": {
      "text/plain": [
       "Int64Index([ 632815,  776305,  565391,  585117, 1067359,  230595,   85885,\n",
       "             585438,  750815,  917941,  920627,  585119, 1067000,  690832,\n",
       "             935157,  562741,  794104,  501142,  770593,   44247],\n",
       "           dtype='int64')"
      ]
     },
     "execution_count": 48,
     "metadata": {},
     "output_type": "execute_result"
    }
   ],
   "source": [
    "top_records"
   ]
  },
  {
   "cell_type": "code",
   "execution_count": 49,
   "metadata": {
    "ExecuteTime": {
     "end_time": "2021-02-11T07:57:13.009696Z",
     "start_time": "2021-02-11T07:57:12.986559Z"
    }
   },
   "outputs": [
    {
     "data": {
      "text/html": [
       "<div>\n",
       "<style scoped>\n",
       "    .dataframe tbody tr th:only-of-type {\n",
       "        vertical-align: middle;\n",
       "    }\n",
       "\n",
       "    .dataframe tbody tr th {\n",
       "        vertical-align: top;\n",
       "    }\n",
       "\n",
       "    .dataframe thead th {\n",
       "        text-align: right;\n",
       "    }\n",
       "</style>\n",
       "<table border=\"1\" class=\"dataframe\">\n",
       "  <thead>\n",
       "    <tr style=\"text-align: right;\">\n",
       "      <th></th>\n",
       "      <th>score1</th>\n",
       "      <th>score2</th>\n",
       "      <th>score1 rank</th>\n",
       "      <th>score2 rank</th>\n",
       "      <th>final</th>\n",
       "    </tr>\n",
       "  </thead>\n",
       "  <tbody>\n",
       "    <tr>\n",
       "      <th>0</th>\n",
       "      <td>0.571141</td>\n",
       "      <td>0.421881</td>\n",
       "      <td>1046560.0</td>\n",
       "      <td>1057469.0</td>\n",
       "      <td>1052014.5</td>\n",
       "    </tr>\n",
       "    <tr>\n",
       "      <th>1</th>\n",
       "      <td>24.684918</td>\n",
       "      <td>23.075263</td>\n",
       "      <td>1070739.0</td>\n",
       "      <td>1070739.0</td>\n",
       "      <td>1070739.0</td>\n",
       "    </tr>\n",
       "    <tr>\n",
       "      <th>2</th>\n",
       "      <td>0.152792</td>\n",
       "      <td>0.024507</td>\n",
       "      <td>726630.0</td>\n",
       "      <td>358016.0</td>\n",
       "      <td>542323.0</td>\n",
       "    </tr>\n",
       "    <tr>\n",
       "      <th>3</th>\n",
       "      <td>0.169596</td>\n",
       "      <td>0.116083</td>\n",
       "      <td>787272.0</td>\n",
       "      <td>997046.0</td>\n",
       "      <td>892159.0</td>\n",
       "    </tr>\n",
       "    <tr>\n",
       "      <th>4</th>\n",
       "      <td>30.244379</td>\n",
       "      <td>28.892812</td>\n",
       "      <td>1070777.0</td>\n",
       "      <td>1070785.0</td>\n",
       "      <td>1070781.0</td>\n",
       "    </tr>\n",
       "  </tbody>\n",
       "</table>\n",
       "</div>"
      ],
      "text/plain": [
       "      score1     score2  score1 rank  score2 rank      final\n",
       "0   0.571141   0.421881    1046560.0    1057469.0  1052014.5\n",
       "1  24.684918  23.075263    1070739.0    1070739.0  1070739.0\n",
       "2   0.152792   0.024507     726630.0     358016.0   542323.0\n",
       "3   0.169596   0.116083     787272.0     997046.0   892159.0\n",
       "4  30.244379  28.892812    1070777.0    1070785.0  1070781.0"
      ]
     },
     "execution_count": 49,
     "metadata": {},
     "output_type": "execute_result"
    }
   ],
   "source": [
    "scores.head()"
   ]
  },
  {
   "cell_type": "code",
   "execution_count": 50,
   "metadata": {
    "ExecuteTime": {
     "end_time": "2021-02-11T07:57:14.791252Z",
     "start_time": "2021-02-11T07:57:13.036597Z"
    }
   },
   "outputs": [
    {
     "data": {
      "text/html": [
       "<div>\n",
       "<style scoped>\n",
       "    .dataframe tbody tr th:only-of-type {\n",
       "        vertical-align: middle;\n",
       "    }\n",
       "\n",
       "    .dataframe tbody tr th {\n",
       "        vertical-align: top;\n",
       "    }\n",
       "\n",
       "    .dataframe thead th {\n",
       "        text-align: right;\n",
       "    }\n",
       "</style>\n",
       "<table border=\"1\" class=\"dataframe\">\n",
       "  <thead>\n",
       "    <tr style=\"text-align: right;\">\n",
       "      <th></th>\n",
       "      <th>RECORD</th>\n",
       "      <th>BBLE</th>\n",
       "      <th>B</th>\n",
       "      <th>BLOCK</th>\n",
       "      <th>LOT</th>\n",
       "      <th>EASEMENT</th>\n",
       "      <th>OWNER</th>\n",
       "      <th>BLDGCL</th>\n",
       "      <th>TAXCLASS</th>\n",
       "      <th>LTFRONT</th>\n",
       "      <th>LTDEPTH</th>\n",
       "      <th>EXT</th>\n",
       "      <th>STORIES</th>\n",
       "      <th>FULLVAL</th>\n",
       "      <th>AVLAND</th>\n",
       "      <th>AVTOT</th>\n",
       "      <th>EXLAND</th>\n",
       "      <th>EXTOT</th>\n",
       "      <th>EXCD1</th>\n",
       "      <th>STADDR</th>\n",
       "      <th>ZIP</th>\n",
       "      <th>EXMPTCL</th>\n",
       "      <th>BLDFRONT</th>\n",
       "      <th>BLDDEPTH</th>\n",
       "      <th>AVLAND2</th>\n",
       "      <th>AVTOT2</th>\n",
       "      <th>EXLAND2</th>\n",
       "      <th>EXTOT2</th>\n",
       "      <th>EXCD2</th>\n",
       "      <th>PERIOD</th>\n",
       "      <th>YEAR</th>\n",
       "      <th>VALTYPE</th>\n",
       "      <th>score1</th>\n",
       "      <th>score2</th>\n",
       "      <th>score1 rank</th>\n",
       "      <th>score2 rank</th>\n",
       "      <th>final</th>\n",
       "    </tr>\n",
       "  </thead>\n",
       "  <tbody>\n",
       "    <tr>\n",
       "      <th>0</th>\n",
       "      <td>1</td>\n",
       "      <td>1000010101</td>\n",
       "      <td>1</td>\n",
       "      <td>1</td>\n",
       "      <td>101</td>\n",
       "      <td>NaN</td>\n",
       "      <td>U S GOVT LAND &amp; BLDGS</td>\n",
       "      <td>P7</td>\n",
       "      <td>4</td>\n",
       "      <td>500</td>\n",
       "      <td>1046</td>\n",
       "      <td>NaN</td>\n",
       "      <td>NaN</td>\n",
       "      <td>21400000.0</td>\n",
       "      <td>4225500.0</td>\n",
       "      <td>9630000.0</td>\n",
       "      <td>4225500.0</td>\n",
       "      <td>9630000.0</td>\n",
       "      <td>4600.0</td>\n",
       "      <td>1 LIBERTY ISLAND</td>\n",
       "      <td>10004.0</td>\n",
       "      <td>X3</td>\n",
       "      <td>0</td>\n",
       "      <td>0</td>\n",
       "      <td>3775500.0</td>\n",
       "      <td>8613000.0</td>\n",
       "      <td>3775500.0</td>\n",
       "      <td>8613000.0</td>\n",
       "      <td>NaN</td>\n",
       "      <td>FINAL</td>\n",
       "      <td>2010/11</td>\n",
       "      <td>AC-TR</td>\n",
       "      <td>0.571141</td>\n",
       "      <td>0.421881</td>\n",
       "      <td>1046560.0</td>\n",
       "      <td>1057469.0</td>\n",
       "      <td>1052014.5</td>\n",
       "    </tr>\n",
       "    <tr>\n",
       "      <th>1</th>\n",
       "      <td>2</td>\n",
       "      <td>1000010201</td>\n",
       "      <td>1</td>\n",
       "      <td>1</td>\n",
       "      <td>201</td>\n",
       "      <td>NaN</td>\n",
       "      <td>U S GOVT LAND &amp; BLDGS</td>\n",
       "      <td>Z9</td>\n",
       "      <td>4</td>\n",
       "      <td>27</td>\n",
       "      <td>0</td>\n",
       "      <td>NaN</td>\n",
       "      <td>NaN</td>\n",
       "      <td>193800000.0</td>\n",
       "      <td>14310000.0</td>\n",
       "      <td>87210000.0</td>\n",
       "      <td>14310000.0</td>\n",
       "      <td>87210000.0</td>\n",
       "      <td>4600.0</td>\n",
       "      <td>1 ELLIS ISLAND</td>\n",
       "      <td>10004.0</td>\n",
       "      <td>X3</td>\n",
       "      <td>0</td>\n",
       "      <td>0</td>\n",
       "      <td>11111400.0</td>\n",
       "      <td>80690400.0</td>\n",
       "      <td>11111400.0</td>\n",
       "      <td>80690400.0</td>\n",
       "      <td>NaN</td>\n",
       "      <td>FINAL</td>\n",
       "      <td>2010/11</td>\n",
       "      <td>AC-TR</td>\n",
       "      <td>24.684918</td>\n",
       "      <td>23.075263</td>\n",
       "      <td>1070739.0</td>\n",
       "      <td>1070739.0</td>\n",
       "      <td>1070739.0</td>\n",
       "    </tr>\n",
       "    <tr>\n",
       "      <th>2</th>\n",
       "      <td>3</td>\n",
       "      <td>1000020001</td>\n",
       "      <td>1</td>\n",
       "      <td>2</td>\n",
       "      <td>1</td>\n",
       "      <td>NaN</td>\n",
       "      <td>DEPT OF GENERAL SERVI</td>\n",
       "      <td>Y7</td>\n",
       "      <td>4</td>\n",
       "      <td>709</td>\n",
       "      <td>564</td>\n",
       "      <td>E</td>\n",
       "      <td>3.0</td>\n",
       "      <td>104686000.0</td>\n",
       "      <td>39008700.0</td>\n",
       "      <td>47108700.0</td>\n",
       "      <td>39008700.0</td>\n",
       "      <td>47108700.0</td>\n",
       "      <td>2191.0</td>\n",
       "      <td>MARGINAL STREET</td>\n",
       "      <td>10004.0</td>\n",
       "      <td>X1</td>\n",
       "      <td>709</td>\n",
       "      <td>564</td>\n",
       "      <td>32321790.0</td>\n",
       "      <td>40179510.0</td>\n",
       "      <td>32321790.0</td>\n",
       "      <td>40179510.0</td>\n",
       "      <td>NaN</td>\n",
       "      <td>FINAL</td>\n",
       "      <td>2010/11</td>\n",
       "      <td>AC-TR</td>\n",
       "      <td>0.152792</td>\n",
       "      <td>0.024507</td>\n",
       "      <td>726630.0</td>\n",
       "      <td>358016.0</td>\n",
       "      <td>542323.0</td>\n",
       "    </tr>\n",
       "    <tr>\n",
       "      <th>3</th>\n",
       "      <td>4</td>\n",
       "      <td>1000020023</td>\n",
       "      <td>1</td>\n",
       "      <td>2</td>\n",
       "      <td>23</td>\n",
       "      <td>NaN</td>\n",
       "      <td>DEPARTMENT OF BUSINES</td>\n",
       "      <td>T2</td>\n",
       "      <td>4</td>\n",
       "      <td>793</td>\n",
       "      <td>551</td>\n",
       "      <td>NaN</td>\n",
       "      <td>2.0</td>\n",
       "      <td>39200000.0</td>\n",
       "      <td>15255000.0</td>\n",
       "      <td>17640000.0</td>\n",
       "      <td>15255000.0</td>\n",
       "      <td>17640000.0</td>\n",
       "      <td>2191.0</td>\n",
       "      <td>PIER 6</td>\n",
       "      <td>10004.0</td>\n",
       "      <td>X1</td>\n",
       "      <td>85</td>\n",
       "      <td>551</td>\n",
       "      <td>13644000.0</td>\n",
       "      <td>15750000.0</td>\n",
       "      <td>13644000.0</td>\n",
       "      <td>15750000.0</td>\n",
       "      <td>NaN</td>\n",
       "      <td>FINAL</td>\n",
       "      <td>2010/11</td>\n",
       "      <td>AC-TR</td>\n",
       "      <td>0.169596</td>\n",
       "      <td>0.116083</td>\n",
       "      <td>787272.0</td>\n",
       "      <td>997046.0</td>\n",
       "      <td>892159.0</td>\n",
       "    </tr>\n",
       "    <tr>\n",
       "      <th>4</th>\n",
       "      <td>5</td>\n",
       "      <td>1000030001</td>\n",
       "      <td>1</td>\n",
       "      <td>3</td>\n",
       "      <td>1</td>\n",
       "      <td>NaN</td>\n",
       "      <td>PARKS AND RECREATION</td>\n",
       "      <td>Q1</td>\n",
       "      <td>4</td>\n",
       "      <td>323</td>\n",
       "      <td>1260</td>\n",
       "      <td>NaN</td>\n",
       "      <td>1.0</td>\n",
       "      <td>272300000.0</td>\n",
       "      <td>121050000.0</td>\n",
       "      <td>122535000.0</td>\n",
       "      <td>121050000.0</td>\n",
       "      <td>122535000.0</td>\n",
       "      <td>2231.0</td>\n",
       "      <td>BATTERY PARK</td>\n",
       "      <td>10004.0</td>\n",
       "      <td>X1</td>\n",
       "      <td>89</td>\n",
       "      <td>57</td>\n",
       "      <td>106348680.0</td>\n",
       "      <td>107758350.0</td>\n",
       "      <td>106348680.0</td>\n",
       "      <td>107758350.0</td>\n",
       "      <td>NaN</td>\n",
       "      <td>FINAL</td>\n",
       "      <td>2010/11</td>\n",
       "      <td>AC-TR</td>\n",
       "      <td>30.244379</td>\n",
       "      <td>28.892812</td>\n",
       "      <td>1070777.0</td>\n",
       "      <td>1070785.0</td>\n",
       "      <td>1070781.0</td>\n",
       "    </tr>\n",
       "  </tbody>\n",
       "</table>\n",
       "</div>"
      ],
      "text/plain": [
       "   RECORD        BBLE  B  BLOCK  LOT EASEMENT                  OWNER BLDGCL  \\\n",
       "0       1  1000010101  1      1  101      NaN  U S GOVT LAND & BLDGS     P7   \n",
       "1       2  1000010201  1      1  201      NaN  U S GOVT LAND & BLDGS     Z9   \n",
       "2       3  1000020001  1      2    1      NaN  DEPT OF GENERAL SERVI     Y7   \n",
       "3       4  1000020023  1      2   23      NaN  DEPARTMENT OF BUSINES     T2   \n",
       "4       5  1000030001  1      3    1      NaN   PARKS AND RECREATION     Q1   \n",
       "\n",
       "  TAXCLASS  LTFRONT  LTDEPTH  EXT  STORIES      FULLVAL       AVLAND  \\\n",
       "0        4      500     1046  NaN      NaN   21400000.0    4225500.0   \n",
       "1        4       27        0  NaN      NaN  193800000.0   14310000.0   \n",
       "2        4      709      564    E      3.0  104686000.0   39008700.0   \n",
       "3        4      793      551  NaN      2.0   39200000.0   15255000.0   \n",
       "4        4      323     1260  NaN      1.0  272300000.0  121050000.0   \n",
       "\n",
       "         AVTOT       EXLAND        EXTOT   EXCD1            STADDR      ZIP  \\\n",
       "0    9630000.0    4225500.0    9630000.0  4600.0  1 LIBERTY ISLAND  10004.0   \n",
       "1   87210000.0   14310000.0   87210000.0  4600.0    1 ELLIS ISLAND  10004.0   \n",
       "2   47108700.0   39008700.0   47108700.0  2191.0   MARGINAL STREET  10004.0   \n",
       "3   17640000.0   15255000.0   17640000.0  2191.0            PIER 6  10004.0   \n",
       "4  122535000.0  121050000.0  122535000.0  2231.0      BATTERY PARK  10004.0   \n",
       "\n",
       "  EXMPTCL  BLDFRONT  BLDDEPTH      AVLAND2       AVTOT2      EXLAND2  \\\n",
       "0      X3         0         0    3775500.0    8613000.0    3775500.0   \n",
       "1      X3         0         0   11111400.0   80690400.0   11111400.0   \n",
       "2      X1       709       564   32321790.0   40179510.0   32321790.0   \n",
       "3      X1        85       551   13644000.0   15750000.0   13644000.0   \n",
       "4      X1        89        57  106348680.0  107758350.0  106348680.0   \n",
       "\n",
       "        EXTOT2  EXCD2 PERIOD     YEAR VALTYPE     score1     score2  \\\n",
       "0    8613000.0    NaN  FINAL  2010/11   AC-TR   0.571141   0.421881   \n",
       "1   80690400.0    NaN  FINAL  2010/11   AC-TR  24.684918  23.075263   \n",
       "2   40179510.0    NaN  FINAL  2010/11   AC-TR   0.152792   0.024507   \n",
       "3   15750000.0    NaN  FINAL  2010/11   AC-TR   0.169596   0.116083   \n",
       "4  107758350.0    NaN  FINAL  2010/11   AC-TR  30.244379  28.892812   \n",
       "\n",
       "   score1 rank  score2 rank      final  \n",
       "0    1046560.0    1057469.0  1052014.5  \n",
       "1    1070739.0    1070739.0  1070739.0  \n",
       "2     726630.0     358016.0   542323.0  \n",
       "3     787272.0     997046.0   892159.0  \n",
       "4    1070777.0    1070785.0  1070781.0  "
      ]
     },
     "execution_count": 50,
     "metadata": {},
     "output_type": "execute_result"
    }
   ],
   "source": [
    "new_merged=prop_df.merge(scores, left_index=True,right_index=True)\n",
    "new_merged.head()"
   ]
  },
  {
   "cell_type": "code",
   "execution_count": 51,
   "metadata": {
    "ExecuteTime": {
     "end_time": "2021-02-11T07:57:17.802142Z",
     "start_time": "2021-02-11T07:57:14.798786Z"
    }
   },
   "outputs": [
    {
     "data": {
      "text/plain": [
       "array([ True,  True,  True,  True,  True,  True,  True,  True,  True,\n",
       "        True,  True,  True,  True,  True,  True,  True,  True,  True,\n",
       "        True,  True])"
      ]
     },
     "execution_count": 51,
     "metadata": {},
     "output_type": "execute_result"
    }
   ],
   "source": [
    "xyz=new_merged.sort_values([\"final\"],ascending=False).head(20).index\n",
    "xyz==top_records"
   ]
  },
  {
   "cell_type": "code",
   "execution_count": 52,
   "metadata": {
    "ExecuteTime": {
     "end_time": "2021-02-11T07:57:19.619086Z",
     "start_time": "2021-02-11T07:57:17.807617Z"
    }
   },
   "outputs": [],
   "source": [
    "top_20=new_merged.sort_values([\"final\"],ascending=False).head(20)\n",
    "top_20.drop(columns=['score1','score2'], inplace=True)\n",
    "writer=pd.ExcelWriter('top20.xlsx')\n",
    "top_20.to_excel(writer,sheet_name='Top 20',index=False)\n",
    "writer.save()"
   ]
  },
  {
   "cell_type": "code",
   "execution_count": null,
   "metadata": {},
   "outputs": [],
   "source": []
  }
 ],
 "metadata": {
  "kernelspec": {
   "display_name": "Python 3",
   "language": "python",
   "name": "python3"
  },
  "language_info": {
   "codemirror_mode": {
    "name": "ipython",
    "version": 3
   },
   "file_extension": ".py",
   "mimetype": "text/x-python",
   "name": "python",
   "nbconvert_exporter": "python",
   "pygments_lexer": "ipython3",
   "version": "3.8.3"
  },
  "toc": {
   "base_numbering": 1,
   "nav_menu": {},
   "number_sections": true,
   "sideBar": true,
   "skip_h1_title": false,
   "title_cell": "Table of Contents",
   "title_sidebar": "Contents",
   "toc_cell": false,
   "toc_position": {
    "height": "calc(100% - 180px)",
    "left": "10px",
    "top": "150px",
    "width": "165px"
   },
   "toc_section_display": true,
   "toc_window_display": true
  },
  "varInspector": {
   "cols": {
    "lenName": 16,
    "lenType": 16,
    "lenVar": 40
   },
   "kernels_config": {
    "python": {
     "delete_cmd_postfix": "",
     "delete_cmd_prefix": "del ",
     "library": "var_list.py",
     "varRefreshCmd": "print(var_dic_list())"
    },
    "r": {
     "delete_cmd_postfix": ") ",
     "delete_cmd_prefix": "rm(",
     "library": "var_list.r",
     "varRefreshCmd": "cat(var_dic_list()) "
    }
   },
   "types_to_exclude": [
    "module",
    "function",
    "builtin_function_or_method",
    "instance",
    "_Feature"
   ],
   "window_display": false
  }
 },
 "nbformat": 4,
 "nbformat_minor": 4
}
