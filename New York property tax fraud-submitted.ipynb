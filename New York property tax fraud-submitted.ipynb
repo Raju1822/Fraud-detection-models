{
 "cells": [
  {
   "cell_type": "markdown",
   "metadata": {},
   "source": [
    "<div align='center'><font size='10' color='brick'> NY Property tax fraud</font></div>\n",
    "\n",
    "<br>\n",
    "\n",
    "<div align='left'><font size='4.3' color='black'>  HW 2 - Calculating all variables</font></div>"
   ]
  },
  {
   "cell_type": "markdown",
   "metadata": {},
   "source": [
    "# Loading Packages\n"
   ]
  },
  {
   "cell_type": "code",
   "execution_count": 1,
   "metadata": {
    "ExecuteTime": {
     "end_time": "2021-02-21T08:42:21.459365Z",
     "start_time": "2021-02-21T08:42:21.408295Z"
    }
   },
   "outputs": [],
   "source": [
    "#! pip install keras\n",
    "#! pip install tensorflow"
   ]
  },
  {
   "cell_type": "code",
   "execution_count": 2,
   "metadata": {
    "ExecuteTime": {
     "end_time": "2021-02-21T08:42:32.252015Z",
     "start_time": "2021-02-21T08:42:21.475955Z"
    }
   },
   "outputs": [],
   "source": [
    "import pandas as pd\n",
    "import numpy as np\n",
    "pd.set_option('max_columns', None)\n",
    "import matplotlib.pyplot as plt\n",
    "from keras.models import Model\n",
    "from keras.layers import Input, Dense\n",
    "from sklearn.decomposition import PCA\n",
    "import seaborn as sns"
   ]
  },
  {
   "cell_type": "markdown",
   "metadata": {},
   "source": [
    "# Loading Data\n",
    "\n",
    "I decided not to use `RECORD` as the index at this step. Even though it is a unique identifier, I found that it caused an error while indexing since the RECORD field starts from 1,2,.. while Python indexes from 0,1,2,..."
   ]
  },
  {
   "cell_type": "code",
   "execution_count": 3,
   "metadata": {
    "ExecuteTime": {
     "end_time": "2021-02-21T08:42:38.600437Z",
     "start_time": "2021-02-21T08:42:32.257241Z"
    }
   },
   "outputs": [
    {
     "data": {
      "text/html": [
       "<div>\n",
       "<style scoped>\n",
       "    .dataframe tbody tr th:only-of-type {\n",
       "        vertical-align: middle;\n",
       "    }\n",
       "\n",
       "    .dataframe tbody tr th {\n",
       "        vertical-align: top;\n",
       "    }\n",
       "\n",
       "    .dataframe thead th {\n",
       "        text-align: right;\n",
       "    }\n",
       "</style>\n",
       "<table border=\"1\" class=\"dataframe\">\n",
       "  <thead>\n",
       "    <tr style=\"text-align: right;\">\n",
       "      <th></th>\n",
       "      <th>RECORD</th>\n",
       "      <th>BBLE</th>\n",
       "      <th>B</th>\n",
       "      <th>BLOCK</th>\n",
       "      <th>LOT</th>\n",
       "      <th>EASEMENT</th>\n",
       "      <th>OWNER</th>\n",
       "      <th>BLDGCL</th>\n",
       "      <th>TAXCLASS</th>\n",
       "      <th>LTFRONT</th>\n",
       "      <th>LTDEPTH</th>\n",
       "      <th>EXT</th>\n",
       "      <th>STORIES</th>\n",
       "      <th>FULLVAL</th>\n",
       "      <th>AVLAND</th>\n",
       "      <th>AVTOT</th>\n",
       "      <th>EXLAND</th>\n",
       "      <th>EXTOT</th>\n",
       "      <th>EXCD1</th>\n",
       "      <th>STADDR</th>\n",
       "      <th>ZIP</th>\n",
       "      <th>EXMPTCL</th>\n",
       "      <th>BLDFRONT</th>\n",
       "      <th>BLDDEPTH</th>\n",
       "      <th>AVLAND2</th>\n",
       "      <th>AVTOT2</th>\n",
       "      <th>EXLAND2</th>\n",
       "      <th>EXTOT2</th>\n",
       "      <th>EXCD2</th>\n",
       "      <th>PERIOD</th>\n",
       "      <th>YEAR</th>\n",
       "      <th>VALTYPE</th>\n",
       "    </tr>\n",
       "  </thead>\n",
       "  <tbody>\n",
       "    <tr>\n",
       "      <th>0</th>\n",
       "      <td>1</td>\n",
       "      <td>1000010101</td>\n",
       "      <td>1</td>\n",
       "      <td>1</td>\n",
       "      <td>101</td>\n",
       "      <td>NaN</td>\n",
       "      <td>U S GOVT LAND &amp; BLDGS</td>\n",
       "      <td>P7</td>\n",
       "      <td>4</td>\n",
       "      <td>500</td>\n",
       "      <td>1046</td>\n",
       "      <td>NaN</td>\n",
       "      <td>NaN</td>\n",
       "      <td>21400000.0</td>\n",
       "      <td>4225500.0</td>\n",
       "      <td>9630000.0</td>\n",
       "      <td>4225500.0</td>\n",
       "      <td>9630000.0</td>\n",
       "      <td>4600.0</td>\n",
       "      <td>1 LIBERTY ISLAND</td>\n",
       "      <td>10004.0</td>\n",
       "      <td>X3</td>\n",
       "      <td>0</td>\n",
       "      <td>0</td>\n",
       "      <td>3775500.0</td>\n",
       "      <td>8613000.0</td>\n",
       "      <td>3775500.0</td>\n",
       "      <td>8613000.0</td>\n",
       "      <td>NaN</td>\n",
       "      <td>FINAL</td>\n",
       "      <td>2010/11</td>\n",
       "      <td>AC-TR</td>\n",
       "    </tr>\n",
       "    <tr>\n",
       "      <th>1</th>\n",
       "      <td>2</td>\n",
       "      <td>1000010201</td>\n",
       "      <td>1</td>\n",
       "      <td>1</td>\n",
       "      <td>201</td>\n",
       "      <td>NaN</td>\n",
       "      <td>U S GOVT LAND &amp; BLDGS</td>\n",
       "      <td>Z9</td>\n",
       "      <td>4</td>\n",
       "      <td>27</td>\n",
       "      <td>0</td>\n",
       "      <td>NaN</td>\n",
       "      <td>NaN</td>\n",
       "      <td>193800000.0</td>\n",
       "      <td>14310000.0</td>\n",
       "      <td>87210000.0</td>\n",
       "      <td>14310000.0</td>\n",
       "      <td>87210000.0</td>\n",
       "      <td>4600.0</td>\n",
       "      <td>1 ELLIS ISLAND</td>\n",
       "      <td>10004.0</td>\n",
       "      <td>X3</td>\n",
       "      <td>0</td>\n",
       "      <td>0</td>\n",
       "      <td>11111400.0</td>\n",
       "      <td>80690400.0</td>\n",
       "      <td>11111400.0</td>\n",
       "      <td>80690400.0</td>\n",
       "      <td>NaN</td>\n",
       "      <td>FINAL</td>\n",
       "      <td>2010/11</td>\n",
       "      <td>AC-TR</td>\n",
       "    </tr>\n",
       "    <tr>\n",
       "      <th>2</th>\n",
       "      <td>3</td>\n",
       "      <td>1000020001</td>\n",
       "      <td>1</td>\n",
       "      <td>2</td>\n",
       "      <td>1</td>\n",
       "      <td>NaN</td>\n",
       "      <td>DEPT OF GENERAL SERVI</td>\n",
       "      <td>Y7</td>\n",
       "      <td>4</td>\n",
       "      <td>709</td>\n",
       "      <td>564</td>\n",
       "      <td>E</td>\n",
       "      <td>3.0</td>\n",
       "      <td>104686000.0</td>\n",
       "      <td>39008700.0</td>\n",
       "      <td>47108700.0</td>\n",
       "      <td>39008700.0</td>\n",
       "      <td>47108700.0</td>\n",
       "      <td>2191.0</td>\n",
       "      <td>MARGINAL STREET</td>\n",
       "      <td>10004.0</td>\n",
       "      <td>X1</td>\n",
       "      <td>709</td>\n",
       "      <td>564</td>\n",
       "      <td>32321790.0</td>\n",
       "      <td>40179510.0</td>\n",
       "      <td>32321790.0</td>\n",
       "      <td>40179510.0</td>\n",
       "      <td>NaN</td>\n",
       "      <td>FINAL</td>\n",
       "      <td>2010/11</td>\n",
       "      <td>AC-TR</td>\n",
       "    </tr>\n",
       "    <tr>\n",
       "      <th>3</th>\n",
       "      <td>4</td>\n",
       "      <td>1000020023</td>\n",
       "      <td>1</td>\n",
       "      <td>2</td>\n",
       "      <td>23</td>\n",
       "      <td>NaN</td>\n",
       "      <td>DEPARTMENT OF BUSINES</td>\n",
       "      <td>T2</td>\n",
       "      <td>4</td>\n",
       "      <td>793</td>\n",
       "      <td>551</td>\n",
       "      <td>NaN</td>\n",
       "      <td>2.0</td>\n",
       "      <td>39200000.0</td>\n",
       "      <td>15255000.0</td>\n",
       "      <td>17640000.0</td>\n",
       "      <td>15255000.0</td>\n",
       "      <td>17640000.0</td>\n",
       "      <td>2191.0</td>\n",
       "      <td>PIER 6</td>\n",
       "      <td>10004.0</td>\n",
       "      <td>X1</td>\n",
       "      <td>85</td>\n",
       "      <td>551</td>\n",
       "      <td>13644000.0</td>\n",
       "      <td>15750000.0</td>\n",
       "      <td>13644000.0</td>\n",
       "      <td>15750000.0</td>\n",
       "      <td>NaN</td>\n",
       "      <td>FINAL</td>\n",
       "      <td>2010/11</td>\n",
       "      <td>AC-TR</td>\n",
       "    </tr>\n",
       "    <tr>\n",
       "      <th>4</th>\n",
       "      <td>5</td>\n",
       "      <td>1000030001</td>\n",
       "      <td>1</td>\n",
       "      <td>3</td>\n",
       "      <td>1</td>\n",
       "      <td>NaN</td>\n",
       "      <td>PARKS AND RECREATION</td>\n",
       "      <td>Q1</td>\n",
       "      <td>4</td>\n",
       "      <td>323</td>\n",
       "      <td>1260</td>\n",
       "      <td>NaN</td>\n",
       "      <td>1.0</td>\n",
       "      <td>272300000.0</td>\n",
       "      <td>121050000.0</td>\n",
       "      <td>122535000.0</td>\n",
       "      <td>121050000.0</td>\n",
       "      <td>122535000.0</td>\n",
       "      <td>2231.0</td>\n",
       "      <td>BATTERY PARK</td>\n",
       "      <td>10004.0</td>\n",
       "      <td>X1</td>\n",
       "      <td>89</td>\n",
       "      <td>57</td>\n",
       "      <td>106348680.0</td>\n",
       "      <td>107758350.0</td>\n",
       "      <td>106348680.0</td>\n",
       "      <td>107758350.0</td>\n",
       "      <td>NaN</td>\n",
       "      <td>FINAL</td>\n",
       "      <td>2010/11</td>\n",
       "      <td>AC-TR</td>\n",
       "    </tr>\n",
       "  </tbody>\n",
       "</table>\n",
       "</div>"
      ],
      "text/plain": [
       "   RECORD        BBLE  B  BLOCK  LOT EASEMENT                  OWNER BLDGCL  \\\n",
       "0       1  1000010101  1      1  101      NaN  U S GOVT LAND & BLDGS     P7   \n",
       "1       2  1000010201  1      1  201      NaN  U S GOVT LAND & BLDGS     Z9   \n",
       "2       3  1000020001  1      2    1      NaN  DEPT OF GENERAL SERVI     Y7   \n",
       "3       4  1000020023  1      2   23      NaN  DEPARTMENT OF BUSINES     T2   \n",
       "4       5  1000030001  1      3    1      NaN   PARKS AND RECREATION     Q1   \n",
       "\n",
       "  TAXCLASS  LTFRONT  LTDEPTH  EXT  STORIES      FULLVAL       AVLAND  \\\n",
       "0        4      500     1046  NaN      NaN   21400000.0    4225500.0   \n",
       "1        4       27        0  NaN      NaN  193800000.0   14310000.0   \n",
       "2        4      709      564    E      3.0  104686000.0   39008700.0   \n",
       "3        4      793      551  NaN      2.0   39200000.0   15255000.0   \n",
       "4        4      323     1260  NaN      1.0  272300000.0  121050000.0   \n",
       "\n",
       "         AVTOT       EXLAND        EXTOT   EXCD1            STADDR      ZIP  \\\n",
       "0    9630000.0    4225500.0    9630000.0  4600.0  1 LIBERTY ISLAND  10004.0   \n",
       "1   87210000.0   14310000.0   87210000.0  4600.0    1 ELLIS ISLAND  10004.0   \n",
       "2   47108700.0   39008700.0   47108700.0  2191.0   MARGINAL STREET  10004.0   \n",
       "3   17640000.0   15255000.0   17640000.0  2191.0            PIER 6  10004.0   \n",
       "4  122535000.0  121050000.0  122535000.0  2231.0      BATTERY PARK  10004.0   \n",
       "\n",
       "  EXMPTCL  BLDFRONT  BLDDEPTH      AVLAND2       AVTOT2      EXLAND2  \\\n",
       "0      X3         0         0    3775500.0    8613000.0    3775500.0   \n",
       "1      X3         0         0   11111400.0   80690400.0   11111400.0   \n",
       "2      X1       709       564   32321790.0   40179510.0   32321790.0   \n",
       "3      X1        85       551   13644000.0   15750000.0   13644000.0   \n",
       "4      X1        89        57  106348680.0  107758350.0  106348680.0   \n",
       "\n",
       "        EXTOT2  EXCD2 PERIOD     YEAR VALTYPE  \n",
       "0    8613000.0    NaN  FINAL  2010/11   AC-TR  \n",
       "1   80690400.0    NaN  FINAL  2010/11   AC-TR  \n",
       "2   40179510.0    NaN  FINAL  2010/11   AC-TR  \n",
       "3   15750000.0    NaN  FINAL  2010/11   AC-TR  \n",
       "4  107758350.0    NaN  FINAL  2010/11   AC-TR  "
      ]
     },
     "execution_count": 3,
     "metadata": {},
     "output_type": "execute_result"
    }
   ],
   "source": [
    "prop_df=pd.read_csv(\"NY property data.csv\")\n",
    "prop_df.head()"
   ]
  },
  {
   "cell_type": "code",
   "execution_count": 4,
   "metadata": {
    "ExecuteTime": {
     "end_time": "2021-02-21T08:42:38.617954Z",
     "start_time": "2021-02-21T08:42:38.605319Z"
    }
   },
   "outputs": [
    {
     "data": {
      "text/plain": [
       "(1070994, 32)"
      ]
     },
     "execution_count": 4,
     "metadata": {},
     "output_type": "execute_result"
    }
   ],
   "source": [
    "# Quickly looking at the shape of the data\n",
    "prop_df.shape"
   ]
  },
  {
   "cell_type": "code",
   "execution_count": 5,
   "metadata": {
    "ExecuteTime": {
     "end_time": "2021-02-21T08:42:39.640929Z",
     "start_time": "2021-02-21T08:42:38.623255Z"
    }
   },
   "outputs": [
    {
     "data": {
      "text/html": [
       "<div>\n",
       "<style scoped>\n",
       "    .dataframe tbody tr th:only-of-type {\n",
       "        vertical-align: middle;\n",
       "    }\n",
       "\n",
       "    .dataframe tbody tr th {\n",
       "        vertical-align: top;\n",
       "    }\n",
       "\n",
       "    .dataframe thead th {\n",
       "        text-align: right;\n",
       "    }\n",
       "</style>\n",
       "<table border=\"1\" class=\"dataframe\">\n",
       "  <thead>\n",
       "    <tr style=\"text-align: right;\">\n",
       "      <th></th>\n",
       "      <th>RECORD</th>\n",
       "      <th>B</th>\n",
       "      <th>BLOCK</th>\n",
       "      <th>LOT</th>\n",
       "      <th>LTFRONT</th>\n",
       "      <th>LTDEPTH</th>\n",
       "      <th>STORIES</th>\n",
       "      <th>FULLVAL</th>\n",
       "      <th>AVLAND</th>\n",
       "      <th>AVTOT</th>\n",
       "      <th>EXLAND</th>\n",
       "      <th>EXTOT</th>\n",
       "      <th>EXCD1</th>\n",
       "      <th>ZIP</th>\n",
       "      <th>BLDFRONT</th>\n",
       "      <th>BLDDEPTH</th>\n",
       "      <th>AVLAND2</th>\n",
       "      <th>AVTOT2</th>\n",
       "      <th>EXLAND2</th>\n",
       "      <th>EXTOT2</th>\n",
       "      <th>EXCD2</th>\n",
       "    </tr>\n",
       "  </thead>\n",
       "  <tbody>\n",
       "    <tr>\n",
       "      <th>count</th>\n",
       "      <td>1.07099e+06</td>\n",
       "      <td>1.07099e+06</td>\n",
       "      <td>1.07099e+06</td>\n",
       "      <td>1.07099e+06</td>\n",
       "      <td>1.07099e+06</td>\n",
       "      <td>1.07099e+06</td>\n",
       "      <td>1.01473e+06</td>\n",
       "      <td>1.07099e+06</td>\n",
       "      <td>1.07099e+06</td>\n",
       "      <td>1.07099e+06</td>\n",
       "      <td>1.07099e+06</td>\n",
       "      <td>1.07099e+06</td>\n",
       "      <td>638488</td>\n",
       "      <td>1.0411e+06</td>\n",
       "      <td>1.07099e+06</td>\n",
       "      <td>1.07099e+06</td>\n",
       "      <td>282726</td>\n",
       "      <td>282732</td>\n",
       "      <td>87449</td>\n",
       "      <td>130828</td>\n",
       "      <td>92948</td>\n",
       "    </tr>\n",
       "    <tr>\n",
       "      <th>mean</th>\n",
       "      <td>535498</td>\n",
       "      <td>3.21543</td>\n",
       "      <td>4757.24</td>\n",
       "      <td>364.722</td>\n",
       "      <td>36.6353</td>\n",
       "      <td>88.8616</td>\n",
       "      <td>5.00692</td>\n",
       "      <td>874265</td>\n",
       "      <td>85067.9</td>\n",
       "      <td>227238</td>\n",
       "      <td>36423.9</td>\n",
       "      <td>91187</td>\n",
       "      <td>1602.01</td>\n",
       "      <td>10924</td>\n",
       "      <td>23.0428</td>\n",
       "      <td>39.9228</td>\n",
       "      <td>246236</td>\n",
       "      <td>713911</td>\n",
       "      <td>351236</td>\n",
       "      <td>656768</td>\n",
       "      <td>1364.04</td>\n",
       "    </tr>\n",
       "    <tr>\n",
       "      <th>std</th>\n",
       "      <td>309169</td>\n",
       "      <td>1.2012</td>\n",
       "      <td>3676.58</td>\n",
       "      <td>853.215</td>\n",
       "      <td>74.0328</td>\n",
       "      <td>76.3963</td>\n",
       "      <td>8.36571</td>\n",
       "      <td>1.15824e+07</td>\n",
       "      <td>4.05726e+06</td>\n",
       "      <td>6.87753e+06</td>\n",
       "      <td>3.98158e+06</td>\n",
       "      <td>6.5084e+06</td>\n",
       "      <td>1384.23</td>\n",
       "      <td>528.421</td>\n",
       "      <td>35.5797</td>\n",
       "      <td>42.7072</td>\n",
       "      <td>6.17896e+06</td>\n",
       "      <td>1.16525e+07</td>\n",
       "      <td>1.08022e+07</td>\n",
       "      <td>1.60725e+07</td>\n",
       "      <td>1094.71</td>\n",
       "    </tr>\n",
       "    <tr>\n",
       "      <th>min</th>\n",
       "      <td>1</td>\n",
       "      <td>1</td>\n",
       "      <td>1</td>\n",
       "      <td>1</td>\n",
       "      <td>0</td>\n",
       "      <td>0</td>\n",
       "      <td>1</td>\n",
       "      <td>0</td>\n",
       "      <td>0</td>\n",
       "      <td>0</td>\n",
       "      <td>0</td>\n",
       "      <td>0</td>\n",
       "      <td>1010</td>\n",
       "      <td>10001</td>\n",
       "      <td>0</td>\n",
       "      <td>0</td>\n",
       "      <td>3</td>\n",
       "      <td>3</td>\n",
       "      <td>1</td>\n",
       "      <td>7</td>\n",
       "      <td>1011</td>\n",
       "    </tr>\n",
       "    <tr>\n",
       "      <th>25%</th>\n",
       "      <td>267749</td>\n",
       "      <td>3</td>\n",
       "      <td>1555</td>\n",
       "      <td>23</td>\n",
       "      <td>19</td>\n",
       "      <td>80</td>\n",
       "      <td>2</td>\n",
       "      <td>304000</td>\n",
       "      <td>9180</td>\n",
       "      <td>18374</td>\n",
       "      <td>0</td>\n",
       "      <td>0</td>\n",
       "      <td>1017</td>\n",
       "      <td>10314</td>\n",
       "      <td>15</td>\n",
       "      <td>26</td>\n",
       "      <td>5705</td>\n",
       "      <td>33912</td>\n",
       "      <td>2090</td>\n",
       "      <td>2870</td>\n",
       "      <td>1017</td>\n",
       "    </tr>\n",
       "    <tr>\n",
       "      <th>50%</th>\n",
       "      <td>535498</td>\n",
       "      <td>3</td>\n",
       "      <td>4047</td>\n",
       "      <td>49</td>\n",
       "      <td>25</td>\n",
       "      <td>100</td>\n",
       "      <td>2</td>\n",
       "      <td>447000</td>\n",
       "      <td>13678</td>\n",
       "      <td>25340</td>\n",
       "      <td>1620</td>\n",
       "      <td>1620</td>\n",
       "      <td>1017</td>\n",
       "      <td>11214</td>\n",
       "      <td>20</td>\n",
       "      <td>39</td>\n",
       "      <td>20145</td>\n",
       "      <td>79962.5</td>\n",
       "      <td>3048</td>\n",
       "      <td>37062</td>\n",
       "      <td>1017</td>\n",
       "    </tr>\n",
       "    <tr>\n",
       "      <th>75%</th>\n",
       "      <td>803246</td>\n",
       "      <td>4</td>\n",
       "      <td>6898</td>\n",
       "      <td>143</td>\n",
       "      <td>40</td>\n",
       "      <td>100</td>\n",
       "      <td>3</td>\n",
       "      <td>619000</td>\n",
       "      <td>19740</td>\n",
       "      <td>45438</td>\n",
       "      <td>1620</td>\n",
       "      <td>2090</td>\n",
       "      <td>1017</td>\n",
       "      <td>11364</td>\n",
       "      <td>24</td>\n",
       "      <td>50</td>\n",
       "      <td>62640</td>\n",
       "      <td>240551</td>\n",
       "      <td>31779</td>\n",
       "      <td>106841</td>\n",
       "      <td>1017</td>\n",
       "    </tr>\n",
       "    <tr>\n",
       "      <th>max</th>\n",
       "      <td>1.07099e+06</td>\n",
       "      <td>5</td>\n",
       "      <td>16350</td>\n",
       "      <td>9978</td>\n",
       "      <td>9999</td>\n",
       "      <td>9999</td>\n",
       "      <td>119</td>\n",
       "      <td>6.15e+09</td>\n",
       "      <td>2.6685e+09</td>\n",
       "      <td>4.66831e+09</td>\n",
       "      <td>2.6685e+09</td>\n",
       "      <td>4.66831e+09</td>\n",
       "      <td>7170</td>\n",
       "      <td>33803</td>\n",
       "      <td>7575</td>\n",
       "      <td>9393</td>\n",
       "      <td>2.37100e+09</td>\n",
       "      <td>4.50118e+09</td>\n",
       "      <td>2.37100e+09</td>\n",
       "      <td>4.50118e+09</td>\n",
       "      <td>7160</td>\n",
       "    </tr>\n",
       "  </tbody>\n",
       "</table>\n",
       "</div>"
      ],
      "text/plain": [
       "            RECORD            B        BLOCK          LOT      LTFRONT  \\\n",
       "count  1.07099e+06  1.07099e+06  1.07099e+06  1.07099e+06  1.07099e+06   \n",
       "mean        535498      3.21543      4757.24      364.722      36.6353   \n",
       "std         309169       1.2012      3676.58      853.215      74.0328   \n",
       "min              1            1            1            1            0   \n",
       "25%         267749            3         1555           23           19   \n",
       "50%         535498            3         4047           49           25   \n",
       "75%         803246            4         6898          143           40   \n",
       "max    1.07099e+06            5        16350         9978         9999   \n",
       "\n",
       "           LTDEPTH      STORIES      FULLVAL       AVLAND        AVTOT  \\\n",
       "count  1.07099e+06  1.01473e+06  1.07099e+06  1.07099e+06  1.07099e+06   \n",
       "mean       88.8616      5.00692       874265      85067.9       227238   \n",
       "std        76.3963      8.36571  1.15824e+07  4.05726e+06  6.87753e+06   \n",
       "min              0            1            0            0            0   \n",
       "25%             80            2       304000         9180        18374   \n",
       "50%            100            2       447000        13678        25340   \n",
       "75%            100            3       619000        19740        45438   \n",
       "max           9999          119     6.15e+09   2.6685e+09  4.66831e+09   \n",
       "\n",
       "            EXLAND        EXTOT    EXCD1         ZIP     BLDFRONT  \\\n",
       "count  1.07099e+06  1.07099e+06   638488  1.0411e+06  1.07099e+06   \n",
       "mean       36423.9        91187  1602.01       10924      23.0428   \n",
       "std    3.98158e+06   6.5084e+06  1384.23     528.421      35.5797   \n",
       "min              0            0     1010       10001            0   \n",
       "25%              0            0     1017       10314           15   \n",
       "50%           1620         1620     1017       11214           20   \n",
       "75%           1620         2090     1017       11364           24   \n",
       "max     2.6685e+09  4.66831e+09     7170       33803         7575   \n",
       "\n",
       "          BLDDEPTH      AVLAND2       AVTOT2      EXLAND2       EXTOT2  \\\n",
       "count  1.07099e+06       282726       282732        87449       130828   \n",
       "mean       39.9228       246236       713911       351236       656768   \n",
       "std        42.7072  6.17896e+06  1.16525e+07  1.08022e+07  1.60725e+07   \n",
       "min              0            3            3            1            7   \n",
       "25%             26         5705        33912         2090         2870   \n",
       "50%             39        20145      79962.5         3048        37062   \n",
       "75%             50        62640       240551        31779       106841   \n",
       "max           9393  2.37100e+09  4.50118e+09  2.37100e+09  4.50118e+09   \n",
       "\n",
       "         EXCD2  \n",
       "count    92948  \n",
       "mean   1364.04  \n",
       "std    1094.71  \n",
       "min       1011  \n",
       "25%       1017  \n",
       "50%       1017  \n",
       "75%       1017  \n",
       "max       7160  "
      ]
     },
     "execution_count": 5,
     "metadata": {},
     "output_type": "execute_result"
    }
   ],
   "source": [
    "# Basic statistics for each field\n",
    "prop_df.describe().apply(lambda s: s.apply(lambda x: format(x, 'g')))"
   ]
  },
  {
   "cell_type": "code",
   "execution_count": 6,
   "metadata": {
    "ExecuteTime": {
     "end_time": "2021-02-21T08:42:40.151401Z",
     "start_time": "2021-02-21T08:42:39.644796Z"
    }
   },
   "outputs": [
    {
     "name": "stdout",
     "output_type": "stream",
     "text": [
      "<class 'pandas.core.frame.DataFrame'>\n",
      "RangeIndex: 1070994 entries, 0 to 1070993\n",
      "Data columns (total 32 columns):\n",
      " #   Column    Non-Null Count    Dtype  \n",
      "---  ------    --------------    -----  \n",
      " 0   RECORD    1070994 non-null  int64  \n",
      " 1   BBLE      1070994 non-null  object \n",
      " 2   B         1070994 non-null  int64  \n",
      " 3   BLOCK     1070994 non-null  int64  \n",
      " 4   LOT       1070994 non-null  int64  \n",
      " 5   EASEMENT  4636 non-null     object \n",
      " 6   OWNER     1039249 non-null  object \n",
      " 7   BLDGCL    1070994 non-null  object \n",
      " 8   TAXCLASS  1070994 non-null  object \n",
      " 9   LTFRONT   1070994 non-null  int64  \n",
      " 10  LTDEPTH   1070994 non-null  int64  \n",
      " 11  EXT       354305 non-null   object \n",
      " 12  STORIES   1014730 non-null  float64\n",
      " 13  FULLVAL   1070994 non-null  float64\n",
      " 14  AVLAND    1070994 non-null  float64\n",
      " 15  AVTOT     1070994 non-null  float64\n",
      " 16  EXLAND    1070994 non-null  float64\n",
      " 17  EXTOT     1070994 non-null  float64\n",
      " 18  EXCD1     638488 non-null   float64\n",
      " 19  STADDR    1070318 non-null  object \n",
      " 20  ZIP       1041104 non-null  float64\n",
      " 21  EXMPTCL   15579 non-null    object \n",
      " 22  BLDFRONT  1070994 non-null  int64  \n",
      " 23  BLDDEPTH  1070994 non-null  int64  \n",
      " 24  AVLAND2   282726 non-null   float64\n",
      " 25  AVTOT2    282732 non-null   float64\n",
      " 26  EXLAND2   87449 non-null    float64\n",
      " 27  EXTOT2    130828 non-null   float64\n",
      " 28  EXCD2     92948 non-null    float64\n",
      " 29  PERIOD    1070994 non-null  object \n",
      " 30  YEAR      1070994 non-null  object \n",
      " 31  VALTYPE   1070994 non-null  object \n",
      "dtypes: float64(13), int64(8), object(11)\n",
      "memory usage: 261.5+ MB\n"
     ]
    }
   ],
   "source": [
    "prop_df.info()"
   ]
  },
  {
   "cell_type": "markdown",
   "metadata": {},
   "source": [
    "From the above data, we can see that there are certain fields with missing values."
   ]
  },
  {
   "cell_type": "markdown",
   "metadata": {},
   "source": [
    "# Data Cleaning"
   ]
  },
  {
   "cell_type": "markdown",
   "metadata": {},
   "source": [
    "Since in this case, we know what fields we will be working with, I decided to drop the other fields at this stage to marginally improve run time."
   ]
  },
  {
   "cell_type": "code",
   "execution_count": 7,
   "metadata": {
    "ExecuteTime": {
     "end_time": "2021-02-21T08:42:40.211354Z",
     "start_time": "2021-02-21T08:42:40.154090Z"
    }
   },
   "outputs": [],
   "source": [
    "data=prop_df.drop(columns=['BBLE', 'BLOCK', 'LOT', 'EASEMENT',\\\n",
    "                           'OWNER', 'BLDGCL', 'EXT', \\\n",
    "                           'EXLAND', 'EXTOT', 'EXCD1', 'STADDR', 'EXMPTCL', \\\n",
    "                           'AVLAND2', 'AVTOT2', 'EXLAND2', 'EXTOT2', 'EXCD2', 'PERIOD',\\\n",
    "                           'YEAR', 'VALTYPE'])"
   ]
  },
  {
   "cell_type": "code",
   "execution_count": 8,
   "metadata": {
    "ExecuteTime": {
     "end_time": "2021-02-21T08:42:40.237673Z",
     "start_time": "2021-02-21T08:42:40.214099Z"
    }
   },
   "outputs": [
    {
     "data": {
      "text/html": [
       "<div>\n",
       "<style scoped>\n",
       "    .dataframe tbody tr th:only-of-type {\n",
       "        vertical-align: middle;\n",
       "    }\n",
       "\n",
       "    .dataframe tbody tr th {\n",
       "        vertical-align: top;\n",
       "    }\n",
       "\n",
       "    .dataframe thead th {\n",
       "        text-align: right;\n",
       "    }\n",
       "</style>\n",
       "<table border=\"1\" class=\"dataframe\">\n",
       "  <thead>\n",
       "    <tr style=\"text-align: right;\">\n",
       "      <th></th>\n",
       "      <th>RECORD</th>\n",
       "      <th>B</th>\n",
       "      <th>TAXCLASS</th>\n",
       "      <th>LTFRONT</th>\n",
       "      <th>LTDEPTH</th>\n",
       "      <th>STORIES</th>\n",
       "      <th>FULLVAL</th>\n",
       "      <th>AVLAND</th>\n",
       "      <th>AVTOT</th>\n",
       "      <th>ZIP</th>\n",
       "      <th>BLDFRONT</th>\n",
       "      <th>BLDDEPTH</th>\n",
       "    </tr>\n",
       "  </thead>\n",
       "  <tbody>\n",
       "    <tr>\n",
       "      <th>0</th>\n",
       "      <td>1</td>\n",
       "      <td>1</td>\n",
       "      <td>4</td>\n",
       "      <td>500</td>\n",
       "      <td>1046</td>\n",
       "      <td>NaN</td>\n",
       "      <td>21400000.0</td>\n",
       "      <td>4225500.0</td>\n",
       "      <td>9630000.0</td>\n",
       "      <td>10004.0</td>\n",
       "      <td>0</td>\n",
       "      <td>0</td>\n",
       "    </tr>\n",
       "    <tr>\n",
       "      <th>1</th>\n",
       "      <td>2</td>\n",
       "      <td>1</td>\n",
       "      <td>4</td>\n",
       "      <td>27</td>\n",
       "      <td>0</td>\n",
       "      <td>NaN</td>\n",
       "      <td>193800000.0</td>\n",
       "      <td>14310000.0</td>\n",
       "      <td>87210000.0</td>\n",
       "      <td>10004.0</td>\n",
       "      <td>0</td>\n",
       "      <td>0</td>\n",
       "    </tr>\n",
       "    <tr>\n",
       "      <th>2</th>\n",
       "      <td>3</td>\n",
       "      <td>1</td>\n",
       "      <td>4</td>\n",
       "      <td>709</td>\n",
       "      <td>564</td>\n",
       "      <td>3.0</td>\n",
       "      <td>104686000.0</td>\n",
       "      <td>39008700.0</td>\n",
       "      <td>47108700.0</td>\n",
       "      <td>10004.0</td>\n",
       "      <td>709</td>\n",
       "      <td>564</td>\n",
       "    </tr>\n",
       "    <tr>\n",
       "      <th>3</th>\n",
       "      <td>4</td>\n",
       "      <td>1</td>\n",
       "      <td>4</td>\n",
       "      <td>793</td>\n",
       "      <td>551</td>\n",
       "      <td>2.0</td>\n",
       "      <td>39200000.0</td>\n",
       "      <td>15255000.0</td>\n",
       "      <td>17640000.0</td>\n",
       "      <td>10004.0</td>\n",
       "      <td>85</td>\n",
       "      <td>551</td>\n",
       "    </tr>\n",
       "    <tr>\n",
       "      <th>4</th>\n",
       "      <td>5</td>\n",
       "      <td>1</td>\n",
       "      <td>4</td>\n",
       "      <td>323</td>\n",
       "      <td>1260</td>\n",
       "      <td>1.0</td>\n",
       "      <td>272300000.0</td>\n",
       "      <td>121050000.0</td>\n",
       "      <td>122535000.0</td>\n",
       "      <td>10004.0</td>\n",
       "      <td>89</td>\n",
       "      <td>57</td>\n",
       "    </tr>\n",
       "  </tbody>\n",
       "</table>\n",
       "</div>"
      ],
      "text/plain": [
       "   RECORD  B TAXCLASS  LTFRONT  LTDEPTH  STORIES      FULLVAL       AVLAND  \\\n",
       "0       1  1        4      500     1046      NaN   21400000.0    4225500.0   \n",
       "1       2  1        4       27        0      NaN  193800000.0   14310000.0   \n",
       "2       3  1        4      709      564      3.0  104686000.0   39008700.0   \n",
       "3       4  1        4      793      551      2.0   39200000.0   15255000.0   \n",
       "4       5  1        4      323     1260      1.0  272300000.0  121050000.0   \n",
       "\n",
       "         AVTOT      ZIP  BLDFRONT  BLDDEPTH  \n",
       "0    9630000.0  10004.0         0         0  \n",
       "1   87210000.0  10004.0         0         0  \n",
       "2   47108700.0  10004.0       709       564  \n",
       "3   17640000.0  10004.0        85       551  \n",
       "4  122535000.0  10004.0        89        57  "
      ]
     },
     "execution_count": 8,
     "metadata": {},
     "output_type": "execute_result"
    }
   ],
   "source": [
    "data.head()"
   ]
  },
  {
   "cell_type": "code",
   "execution_count": 9,
   "metadata": {
    "ExecuteTime": {
     "end_time": "2021-02-21T08:42:40.343955Z",
     "start_time": "2021-02-21T08:42:40.245429Z"
    },
    "scrolled": true
   },
   "outputs": [
    {
     "name": "stdout",
     "output_type": "stream",
     "text": [
      "Shape of the new DataFrame: (1070994, 12)\n",
      "\n",
      "<class 'pandas.core.frame.DataFrame'>\n",
      "RangeIndex: 1070994 entries, 0 to 1070993\n",
      "Data columns (total 12 columns):\n",
      " #   Column    Non-Null Count    Dtype  \n",
      "---  ------    --------------    -----  \n",
      " 0   RECORD    1070994 non-null  int64  \n",
      " 1   B         1070994 non-null  int64  \n",
      " 2   TAXCLASS  1070994 non-null  object \n",
      " 3   LTFRONT   1070994 non-null  int64  \n",
      " 4   LTDEPTH   1070994 non-null  int64  \n",
      " 5   STORIES   1014730 non-null  float64\n",
      " 6   FULLVAL   1070994 non-null  float64\n",
      " 7   AVLAND    1070994 non-null  float64\n",
      " 8   AVTOT     1070994 non-null  float64\n",
      " 9   ZIP       1041104 non-null  float64\n",
      " 10  BLDFRONT  1070994 non-null  int64  \n",
      " 11  BLDDEPTH  1070994 non-null  int64  \n",
      "dtypes: float64(5), int64(6), object(1)\n",
      "memory usage: 98.1+ MB\n"
     ]
    }
   ],
   "source": [
    "print(f'Shape of the new DataFrame: {data.shape}\\n')\n",
    "data.info()"
   ]
  },
  {
   "cell_type": "markdown",
   "metadata": {},
   "source": [
    "<div align='left'><font size='2.3' color='brick'> From the above output, we can see outright that there are some values missing in STORIES and ZIP fields. We will also need to check if the numerical fields have 0 as an entry since this is also considered a missing value.</font></div>\n",
    "\n",
    "\n",
    "\n"
   ]
  },
  {
   "cell_type": "markdown",
   "metadata": {},
   "source": [
    "## ZIP \n",
    "<br>\n",
    "<div align='left'><font size='3' color='brick'>Cleaning the ZIP field</font></div>\n",
    "\n",
    "**Data Cleaning plan:**\n",
    "- We fill the missing values in ZIP with the below logic:\n",
    "   - If the ZIP of the entry above and below the missing row are the same, we fill the missing value with that zip.\n",
    "   - Otherwise, we fill the missing value with the ZIP of the row above it\n",
    "- A quick check of the datatypes reveals that ZIP is stored as a float. Since we need to extract Zip 3 fields from this field, we will later change it to string for easier extraction.\n"
   ]
  },
  {
   "cell_type": "code",
   "execution_count": 10,
   "metadata": {
    "ExecuteTime": {
     "end_time": "2021-02-21T08:42:40.364061Z",
     "start_time": "2021-02-21T08:42:40.349578Z"
    }
   },
   "outputs": [
    {
     "name": "stdout",
     "output_type": "stream",
     "text": [
      "There are 29890 missing ZIPs in this data set.\n"
     ]
    }
   ],
   "source": [
    "# pd.isnull returns TRUE wherever there are null values\n",
    "# np.where \n",
    "\n",
    "missing_zips=np.where(pd.isnull(data.ZIP))[0]\n",
    "print(f'There are {len(missing_zips)} missing ZIPs in this data set.')"
   ]
  },
  {
   "cell_type": "code",
   "execution_count": 11,
   "metadata": {
    "ExecuteTime": {
     "end_time": "2021-02-21T08:46:55.631569Z",
     "start_time": "2021-02-21T08:42:40.367206Z"
    }
   },
   "outputs": [
    {
     "name": "stdout",
     "output_type": "stream",
     "text": [
      "There are 0 missing ZIPs now.\n"
     ]
    }
   ],
   "source": [
    "# Replacing the missing values\n",
    "for i in missing_zips:\n",
    "    if(data.loc[i+1,\"ZIP\"]==data.loc[i-1,\"ZIP\"]):\n",
    "        data.loc[i,\"ZIP\"]=data.loc[i-1,\"ZIP\"]\n",
    "    else:\n",
    "        data.loc[i,\"ZIP\"]=data.loc[i-1,\"ZIP\"]\n",
    "\n",
    "print(f'There are {len(np.where(pd.isnull(data.ZIP))[0])} missing ZIPs now.')"
   ]
  },
  {
   "cell_type": "markdown",
   "metadata": {},
   "source": [
    "## STORIES\n",
    "<br>\n",
    "<div align='left'><font size='3' color='brick'>Next we look at the STORIES field.</font></div>\n",
    "\n",
    "Here, we will fill in the missing values with the mean of STORIES based on the Tax Class it belongs to."
   ]
  },
  {
   "cell_type": "code",
   "execution_count": 12,
   "metadata": {
    "ExecuteTime": {
     "end_time": "2021-02-21T08:46:55.887161Z",
     "start_time": "2021-02-21T08:46:55.646433Z"
    }
   },
   "outputs": [
    {
     "name": "stdout",
     "output_type": "stream",
     "text": [
      "There are 56264 missing STORIES.\n",
      "0 rows have 0 stories\n"
     ]
    }
   ],
   "source": [
    "print(f'There are {len(np.where(pd.isnull(data.STORIES))[0])} missing STORIES.\\n\\\n",
    "{sum(data[\"STORIES\"]==0)} rows have 0 stories')"
   ]
  },
  {
   "cell_type": "code",
   "execution_count": 13,
   "metadata": {
    "ExecuteTime": {
     "end_time": "2021-02-21T08:46:56.024675Z",
     "start_time": "2021-02-21T08:46:55.894094Z"
    }
   },
   "outputs": [
    {
     "name": "stdout",
     "output_type": "stream",
     "text": [
      "            STORIES\n",
      "TAXCLASS           \n",
      "1          2.111641\n",
      "1A         1.656837\n",
      "1B         4.000000\n",
      "1C         3.052748\n",
      "1D         1.068966\n",
      "2         16.095110\n",
      "2A         2.844574\n",
      "2B         4.004494\n",
      "2C         4.745097\n",
      "3          1.333333\n",
      "4          5.446968\n"
     ]
    },
    {
     "data": {
      "text/plain": [
       "2.1116406799385454"
      ]
     },
     "execution_count": 13,
     "metadata": {},
     "output_type": "execute_result"
    }
   ],
   "source": [
    "mean_stories=data.groupby(\"TAXCLASS\").agg({\"STORIES\":\"mean\"})\n",
    "print(mean_stories)\n",
    "mean_stories.loc[\"1\",\"STORIES\"]"
   ]
  },
  {
   "cell_type": "code",
   "execution_count": 14,
   "metadata": {
    "ExecuteTime": {
     "end_time": "2021-02-21T08:46:57.167791Z",
     "start_time": "2021-02-21T08:46:56.037776Z"
    }
   },
   "outputs": [],
   "source": [
    "# We will replace the missing values in STORIES first with 0 and then replace them with\n",
    "# the average number of stories for that Tax Class\n",
    "\n",
    "data[\"STORIES\"]=data[\"STORIES\"].fillna(0)\n",
    "for j in mean_stories.index:\n",
    "    data.loc[(data[\"STORIES\"]==0)&(data[\"TAXCLASS\"]==j),\"STORIES\"]=mean_stories.loc[j,\"STORIES\"]"
   ]
  },
  {
   "cell_type": "code",
   "execution_count": 15,
   "metadata": {
    "ExecuteTime": {
     "end_time": "2021-02-21T08:46:57.268976Z",
     "start_time": "2021-02-21T08:46:57.170093Z"
    }
   },
   "outputs": [
    {
     "name": "stdout",
     "output_type": "stream",
     "text": [
      "Now there are 0 missing values in the STORIES field\n"
     ]
    }
   ],
   "source": [
    "print(f'Now there are {sum(data[\"STORIES\"]==0)} missing values in the STORIES field')"
   ]
  },
  {
   "cell_type": "code",
   "execution_count": 16,
   "metadata": {
    "ExecuteTime": {
     "end_time": "2021-02-21T08:46:57.446134Z",
     "start_time": "2021-02-21T08:46:57.271586Z"
    }
   },
   "outputs": [
    {
     "data": {
      "text/plain": [
       "0"
      ]
     },
     "execution_count": 16,
     "metadata": {},
     "output_type": "execute_result"
    }
   ],
   "source": [
    "sum(pd.isnull(data.STORIES)) # Do any records have null values?"
   ]
  },
  {
   "cell_type": "code",
   "execution_count": 17,
   "metadata": {
    "ExecuteTime": {
     "end_time": "2021-02-21T08:46:57.500015Z",
     "start_time": "2021-02-21T08:46:57.449458Z"
    }
   },
   "outputs": [
    {
     "data": {
      "text/plain": [
       "count    1070994.0\n",
       "mean           5.0\n",
       "std            8.0\n",
       "min            1.0\n",
       "25%            2.0\n",
       "50%            2.0\n",
       "75%            4.0\n",
       "max          119.0\n",
       "Name: STORIES, dtype: float64"
      ]
     },
     "execution_count": 17,
     "metadata": {},
     "output_type": "execute_result"
    }
   ],
   "source": [
    "data.STORIES.describe().round()"
   ]
  },
  {
   "cell_type": "markdown",
   "metadata": {},
   "source": [
    "## FULLVAL, AVLAND, AVTOT\n",
    "<br>\n",
    "<div align='left'><font size='3' color='brick'>Next we look at the value fields.</font></div>\n",
    "\n",
    "We follow the same logic for filling in the missing values and 0s in these fields - by filling in the mean values of the Tax Class it belongs to."
   ]
  },
  {
   "cell_type": "code",
   "execution_count": 18,
   "metadata": {
    "ExecuteTime": {
     "end_time": "2021-02-21T08:46:59.164187Z",
     "start_time": "2021-02-21T08:46:57.506226Z"
    }
   },
   "outputs": [
    {
     "name": "stdout",
     "output_type": "stream",
     "text": [
      "FULLVAL field has 0 null values and 13007 zeroes\n",
      "AVLAND field has 0 null values and 13009 zeroes\n",
      "AVTOT field has 0 null values and 13007 zeroes\n",
      "\n"
     ]
    }
   ],
   "source": [
    "print(f'FULLVAL field has {sum(data.FULLVAL.isna())} null values and \\\n",
    "{sum(data[\"FULLVAL\"]==0)} zeroes\\n\\\n",
    "AVLAND field has {sum(data.AVLAND.isna())} null values and \\\n",
    "{sum(data[\"AVLAND\"]==0)} zeroes\\n\\\n",
    "AVTOT field has {sum(data.AVTOT.isna())} null values and \\\n",
    "{sum(data[\"AVTOT\"]==0)} zeroes\\n')\n",
    "\n",
    "# Extracting the rows which do not have 0 for FULLVAL\n",
    "temp_FULLVAL=data[data['FULLVAL']!=0]\n",
    "mean_FULLVAL=temp_FULLVAL.groupby(\"TAXCLASS\")[\"FULLVAL\"].mean()\n",
    "\n",
    "# Extracting the rows which do not have 0 for AVLAND\n",
    "temp_AVLAND=data[data['AVLAND']!=0]\n",
    "mean_AVLAND=temp_AVLAND.groupby(\"TAXCLASS\")[\"AVLAND\"].mean()\n",
    "    \n",
    "# Extracting the rows which do not have 0 for AVTOT\n",
    "temp_AVTOT=data[data['AVTOT']!=0]\n",
    "mean_AVTOT=temp_AVTOT.groupby(\"TAXCLASS\")[\"AVTOT\"].mean()"
   ]
  },
  {
   "cell_type": "code",
   "execution_count": 19,
   "metadata": {
    "ExecuteTime": {
     "end_time": "2021-02-21T08:47:02.811574Z",
     "start_time": "2021-02-21T08:46:59.166766Z"
    }
   },
   "outputs": [],
   "source": [
    "# Filling in the missing values in the respective fields\n",
    "\n",
    "for i in mean_FULLVAL.index:\n",
    "    data.loc[(data[\"FULLVAL\"]==0)&(data[\"TAXCLASS\"]==i),\"FULLVAL\"]=\\\n",
    "    mean_FULLVAL[i]\n",
    "    data.loc[(data[\"AVLAND\"]==0)&(data[\"TAXCLASS\"]==i),\"AVLAND\"]=\\\n",
    "    mean_AVLAND[i]\n",
    "    data.loc[(data[\"AVTOT\"]==0)&(data[\"TAXCLASS\"]==i),\"AVTOT\"]=\\\n",
    "    mean_AVTOT[i]\n",
    "\n"
   ]
  },
  {
   "cell_type": "code",
   "execution_count": 20,
   "metadata": {
    "ExecuteTime": {
     "end_time": "2021-02-21T08:47:04.162780Z",
     "start_time": "2021-02-21T08:47:02.815738Z"
    }
   },
   "outputs": [
    {
     "name": "stdout",
     "output_type": "stream",
     "text": [
      "Now, FULLVAL field has 0 null values and 0 zeroes\n",
      "AVLAND field has 0 null values and 0 zeroes\n",
      "AVTOT field has 0 null values and 0 zeroes\n",
      "\n"
     ]
    }
   ],
   "source": [
    "print(f'Now, FULLVAL field has {sum(data.FULLVAL.isna())} null values and \\\n",
    "{sum(data[\"FULLVAL\"]==0)} zeroes\\n\\\n",
    "AVLAND field has {sum(data.AVLAND.isna())} null values and \\\n",
    "{sum(data[\"AVLAND\"]==0)} zeroes\\n\\\n",
    "AVTOT field has {sum(data.AVTOT.isna())} null values and \\\n",
    "{sum(data[\"AVTOT\"]==0)} zeroes\\n')"
   ]
  },
  {
   "cell_type": "code",
   "execution_count": 21,
   "metadata": {
    "ExecuteTime": {
     "end_time": "2021-02-21T08:47:11.345758Z",
     "start_time": "2021-02-21T08:47:04.179214Z"
    }
   },
   "outputs": [],
   "source": [
    "# as these 4 values do not have NAs, we just need to replace 0s. \n",
    "# calculate groupwise average. 1st replace 0 by NAs so they are not counted in calculating mean.\n",
    "# Note: Even measurements of 1 do not make sense and we treat them as missing values as well\n",
    "\n",
    "data.loc[data['LTFRONT']==0,'LTFRONT']=np.nan\n",
    "data.loc[data['LTDEPTH']==0,'LTDEPTH']=np.nan\n",
    "data.loc[data['BLDFRONT']==0,'BLDFRONT']=np.nan\n",
    "data.loc[data['BLDDEPTH']==0,'BLDDEPTH']=np.nan\n",
    "data.loc[data['LTFRONT']==1,'LTFRONT']=np.nan\n",
    "data.loc[data['LTDEPTH']==1,'LTDEPTH']=np.nan\n",
    "data.loc[data['BLDFRONT']==1,'BLDFRONT']=np.nan\n",
    "data.loc[data['BLDDEPTH']==1,'BLDDEPTH']=np.nan\n",
    "\n",
    "# calculate mean now (mean function ignores NAs but not 0s hence we converted 0 to NA)\n",
    "mean_LTFRONT=data.groupby(data['TAXCLASS'])['LTFRONT'].mean()\n",
    "mean_LTDEPTH=data.groupby(data['TAXCLASS'])['LTDEPTH'].mean()\n",
    "mean_BLDFRONT=data.groupby(data['TAXCLASS'])['BLDFRONT'].mean()\n",
    "mean_BLDDEPTH=data.groupby(data['TAXCLASS'])['BLDDEPTH'].mean()\n",
    "\n",
    "# impute values\n",
    "for index in mean_LTFRONT.index:\n",
    "    data.loc[(data['LTFRONT'].isnull())&(data['TAXCLASS']==index),'LTFRONT']=mean_LTFRONT[index]\n",
    "    data.loc[(data['LTDEPTH'].isnull())&(data['TAXCLASS']==index),'LTDEPTH']=mean_LTDEPTH[index]\n",
    "    data.loc[(data['BLDFRONT'].isnull())&(data['TAXCLASS']==index),'BLDFRONT']=mean_BLDFRONT[index]\n",
    "    data.loc[(data['BLDDEPTH'].isnull())&(data['TAXCLASS']==index),'BLDDEPTH']=mean_BLDDEPTH[index]\n",
    "\n",
    "\n"
   ]
  },
  {
   "cell_type": "markdown",
   "metadata": {},
   "source": [
    "Let's take one quick peek into our data now."
   ]
  },
  {
   "cell_type": "code",
   "execution_count": 22,
   "metadata": {
    "ExecuteTime": {
     "end_time": "2021-02-21T08:47:11.376986Z",
     "start_time": "2021-02-21T08:47:11.348281Z"
    }
   },
   "outputs": [
    {
     "data": {
      "text/html": [
       "<div>\n",
       "<style scoped>\n",
       "    .dataframe tbody tr th:only-of-type {\n",
       "        vertical-align: middle;\n",
       "    }\n",
       "\n",
       "    .dataframe tbody tr th {\n",
       "        vertical-align: top;\n",
       "    }\n",
       "\n",
       "    .dataframe thead th {\n",
       "        text-align: right;\n",
       "    }\n",
       "</style>\n",
       "<table border=\"1\" class=\"dataframe\">\n",
       "  <thead>\n",
       "    <tr style=\"text-align: right;\">\n",
       "      <th></th>\n",
       "      <th>RECORD</th>\n",
       "      <th>B</th>\n",
       "      <th>TAXCLASS</th>\n",
       "      <th>LTFRONT</th>\n",
       "      <th>LTDEPTH</th>\n",
       "      <th>STORIES</th>\n",
       "      <th>FULLVAL</th>\n",
       "      <th>AVLAND</th>\n",
       "      <th>AVTOT</th>\n",
       "      <th>ZIP</th>\n",
       "      <th>BLDFRONT</th>\n",
       "      <th>BLDDEPTH</th>\n",
       "    </tr>\n",
       "  </thead>\n",
       "  <tbody>\n",
       "    <tr>\n",
       "      <th>0</th>\n",
       "      <td>1</td>\n",
       "      <td>1</td>\n",
       "      <td>4</td>\n",
       "      <td>500.0</td>\n",
       "      <td>1046.000000</td>\n",
       "      <td>5.446968</td>\n",
       "      <td>21400000.0</td>\n",
       "      <td>4225500.0</td>\n",
       "      <td>9630000.0</td>\n",
       "      <td>10004.0</td>\n",
       "      <td>64.439787</td>\n",
       "      <td>87.82073</td>\n",
       "    </tr>\n",
       "    <tr>\n",
       "      <th>1</th>\n",
       "      <td>2</td>\n",
       "      <td>1</td>\n",
       "      <td>4</td>\n",
       "      <td>27.0</td>\n",
       "      <td>133.871567</td>\n",
       "      <td>5.446968</td>\n",
       "      <td>193800000.0</td>\n",
       "      <td>14310000.0</td>\n",
       "      <td>87210000.0</td>\n",
       "      <td>10004.0</td>\n",
       "      <td>64.439787</td>\n",
       "      <td>87.82073</td>\n",
       "    </tr>\n",
       "    <tr>\n",
       "      <th>2</th>\n",
       "      <td>3</td>\n",
       "      <td>1</td>\n",
       "      <td>4</td>\n",
       "      <td>709.0</td>\n",
       "      <td>564.000000</td>\n",
       "      <td>3.000000</td>\n",
       "      <td>104686000.0</td>\n",
       "      <td>39008700.0</td>\n",
       "      <td>47108700.0</td>\n",
       "      <td>10004.0</td>\n",
       "      <td>709.000000</td>\n",
       "      <td>564.00000</td>\n",
       "    </tr>\n",
       "    <tr>\n",
       "      <th>3</th>\n",
       "      <td>4</td>\n",
       "      <td>1</td>\n",
       "      <td>4</td>\n",
       "      <td>793.0</td>\n",
       "      <td>551.000000</td>\n",
       "      <td>2.000000</td>\n",
       "      <td>39200000.0</td>\n",
       "      <td>15255000.0</td>\n",
       "      <td>17640000.0</td>\n",
       "      <td>10004.0</td>\n",
       "      <td>85.000000</td>\n",
       "      <td>551.00000</td>\n",
       "    </tr>\n",
       "    <tr>\n",
       "      <th>4</th>\n",
       "      <td>5</td>\n",
       "      <td>1</td>\n",
       "      <td>4</td>\n",
       "      <td>323.0</td>\n",
       "      <td>1260.000000</td>\n",
       "      <td>1.000000</td>\n",
       "      <td>272300000.0</td>\n",
       "      <td>121050000.0</td>\n",
       "      <td>122535000.0</td>\n",
       "      <td>10004.0</td>\n",
       "      <td>89.000000</td>\n",
       "      <td>57.00000</td>\n",
       "    </tr>\n",
       "  </tbody>\n",
       "</table>\n",
       "</div>"
      ],
      "text/plain": [
       "   RECORD  B TAXCLASS  LTFRONT      LTDEPTH   STORIES      FULLVAL  \\\n",
       "0       1  1        4    500.0  1046.000000  5.446968   21400000.0   \n",
       "1       2  1        4     27.0   133.871567  5.446968  193800000.0   \n",
       "2       3  1        4    709.0   564.000000  3.000000  104686000.0   \n",
       "3       4  1        4    793.0   551.000000  2.000000   39200000.0   \n",
       "4       5  1        4    323.0  1260.000000  1.000000  272300000.0   \n",
       "\n",
       "        AVLAND        AVTOT      ZIP    BLDFRONT   BLDDEPTH  \n",
       "0    4225500.0    9630000.0  10004.0   64.439787   87.82073  \n",
       "1   14310000.0   87210000.0  10004.0   64.439787   87.82073  \n",
       "2   39008700.0   47108700.0  10004.0  709.000000  564.00000  \n",
       "3   15255000.0   17640000.0  10004.0   85.000000  551.00000  \n",
       "4  121050000.0  122535000.0  10004.0   89.000000   57.00000  "
      ]
     },
     "execution_count": 22,
     "metadata": {},
     "output_type": "execute_result"
    }
   ],
   "source": [
    "data.head()"
   ]
  },
  {
   "cell_type": "markdown",
   "metadata": {},
   "source": [
    "# Feature Engineering"
   ]
  },
  {
   "cell_type": "code",
   "execution_count": 23,
   "metadata": {
    "ExecuteTime": {
     "end_time": "2021-02-21T08:47:11.469840Z",
     "start_time": "2021-02-21T08:47:11.380796Z"
    }
   },
   "outputs": [
    {
     "data": {
      "text/html": [
       "<div>\n",
       "<style scoped>\n",
       "    .dataframe tbody tr th:only-of-type {\n",
       "        vertical-align: middle;\n",
       "    }\n",
       "\n",
       "    .dataframe tbody tr th {\n",
       "        vertical-align: top;\n",
       "    }\n",
       "\n",
       "    .dataframe thead th {\n",
       "        text-align: right;\n",
       "    }\n",
       "</style>\n",
       "<table border=\"1\" class=\"dataframe\">\n",
       "  <thead>\n",
       "    <tr style=\"text-align: right;\">\n",
       "      <th></th>\n",
       "      <th>RECORD</th>\n",
       "      <th>B</th>\n",
       "      <th>TAXCLASS</th>\n",
       "      <th>LTFRONT</th>\n",
       "      <th>LTDEPTH</th>\n",
       "      <th>STORIES</th>\n",
       "      <th>V1</th>\n",
       "      <th>V2</th>\n",
       "      <th>V3</th>\n",
       "      <th>ZIP</th>\n",
       "      <th>BLDFRONT</th>\n",
       "      <th>BLDDEPTH</th>\n",
       "    </tr>\n",
       "  </thead>\n",
       "  <tbody>\n",
       "    <tr>\n",
       "      <th>0</th>\n",
       "      <td>1</td>\n",
       "      <td>1</td>\n",
       "      <td>4</td>\n",
       "      <td>500.0</td>\n",
       "      <td>1046.000000</td>\n",
       "      <td>5.446968</td>\n",
       "      <td>21400000.0</td>\n",
       "      <td>4225500.0</td>\n",
       "      <td>9630000.0</td>\n",
       "      <td>10004.0</td>\n",
       "      <td>64.439787</td>\n",
       "      <td>87.82073</td>\n",
       "    </tr>\n",
       "    <tr>\n",
       "      <th>1</th>\n",
       "      <td>2</td>\n",
       "      <td>1</td>\n",
       "      <td>4</td>\n",
       "      <td>27.0</td>\n",
       "      <td>133.871567</td>\n",
       "      <td>5.446968</td>\n",
       "      <td>193800000.0</td>\n",
       "      <td>14310000.0</td>\n",
       "      <td>87210000.0</td>\n",
       "      <td>10004.0</td>\n",
       "      <td>64.439787</td>\n",
       "      <td>87.82073</td>\n",
       "    </tr>\n",
       "    <tr>\n",
       "      <th>2</th>\n",
       "      <td>3</td>\n",
       "      <td>1</td>\n",
       "      <td>4</td>\n",
       "      <td>709.0</td>\n",
       "      <td>564.000000</td>\n",
       "      <td>3.000000</td>\n",
       "      <td>104686000.0</td>\n",
       "      <td>39008700.0</td>\n",
       "      <td>47108700.0</td>\n",
       "      <td>10004.0</td>\n",
       "      <td>709.000000</td>\n",
       "      <td>564.00000</td>\n",
       "    </tr>\n",
       "    <tr>\n",
       "      <th>3</th>\n",
       "      <td>4</td>\n",
       "      <td>1</td>\n",
       "      <td>4</td>\n",
       "      <td>793.0</td>\n",
       "      <td>551.000000</td>\n",
       "      <td>2.000000</td>\n",
       "      <td>39200000.0</td>\n",
       "      <td>15255000.0</td>\n",
       "      <td>17640000.0</td>\n",
       "      <td>10004.0</td>\n",
       "      <td>85.000000</td>\n",
       "      <td>551.00000</td>\n",
       "    </tr>\n",
       "    <tr>\n",
       "      <th>4</th>\n",
       "      <td>5</td>\n",
       "      <td>1</td>\n",
       "      <td>4</td>\n",
       "      <td>323.0</td>\n",
       "      <td>1260.000000</td>\n",
       "      <td>1.000000</td>\n",
       "      <td>272300000.0</td>\n",
       "      <td>121050000.0</td>\n",
       "      <td>122535000.0</td>\n",
       "      <td>10004.0</td>\n",
       "      <td>89.000000</td>\n",
       "      <td>57.00000</td>\n",
       "    </tr>\n",
       "  </tbody>\n",
       "</table>\n",
       "</div>"
      ],
      "text/plain": [
       "   RECORD  B TAXCLASS  LTFRONT      LTDEPTH   STORIES           V1  \\\n",
       "0       1  1        4    500.0  1046.000000  5.446968   21400000.0   \n",
       "1       2  1        4     27.0   133.871567  5.446968  193800000.0   \n",
       "2       3  1        4    709.0   564.000000  3.000000  104686000.0   \n",
       "3       4  1        4    793.0   551.000000  2.000000   39200000.0   \n",
       "4       5  1        4    323.0  1260.000000  1.000000  272300000.0   \n",
       "\n",
       "            V2           V3      ZIP    BLDFRONT   BLDDEPTH  \n",
       "0    4225500.0    9630000.0  10004.0   64.439787   87.82073  \n",
       "1   14310000.0   87210000.0  10004.0   64.439787   87.82073  \n",
       "2   39008700.0   47108700.0  10004.0  709.000000  564.00000  \n",
       "3   15255000.0   17640000.0  10004.0   85.000000  551.00000  \n",
       "4  121050000.0  122535000.0  10004.0   89.000000   57.00000  "
      ]
     },
     "execution_count": 23,
     "metadata": {},
     "output_type": "execute_result"
    }
   ],
   "source": [
    "# Renaming the FULLVAL, AVLAND, AVTOT to V1, V2 and V3 respectively\n",
    "data.rename(columns={\"FULLVAL\":\"V1\",\"AVLAND\":\"V2\",\"AVTOT\":\"V3\"}, inplace=True)\n",
    "data.head()"
   ]
  },
  {
   "cell_type": "code",
   "execution_count": 24,
   "metadata": {
    "ExecuteTime": {
     "end_time": "2021-02-21T08:47:12.217135Z",
     "start_time": "2021-02-21T08:47:11.474186Z"
    }
   },
   "outputs": [],
   "source": [
    "# Creating the S1, S2 and S3 variables\n",
    "data[\"S1\"]=data[\"LTFRONT\"]*data[\"LTDEPTH\"]\n",
    "data[\"S2\"]=data[\"BLDFRONT\"]*data[\"BLDDEPTH\"]\n",
    "data[\"S3\"]=data[\"S2\"]*data[\"STORIES\"]"
   ]
  },
  {
   "cell_type": "code",
   "execution_count": 25,
   "metadata": {
    "ExecuteTime": {
     "end_time": "2021-02-21T08:47:12.799973Z",
     "start_time": "2021-02-21T08:47:12.223381Z"
    }
   },
   "outputs": [],
   "source": [
    "# Creating the r variables\n",
    "new=[\"r1\",'r2','r3','r4','r5','r6','r7','r8','r9']\n",
    "r=0\n",
    "for i in [\"V1\",\"V2\",\"V3\"]:\n",
    "    data[new[r]]=data[i]/data[\"S1\"]\n",
    "    r+=1\n",
    "    data[new[r]]=data[i]/data[\"S2\"]\n",
    "    r+=1\n",
    "    data[new[r]]=data[i]/data[\"S3\"]\n",
    "    r+=1\n",
    "    \n"
   ]
  },
  {
   "cell_type": "code",
   "execution_count": 26,
   "metadata": {
    "ExecuteTime": {
     "end_time": "2021-02-21T08:47:15.093499Z",
     "start_time": "2021-02-21T08:47:12.803548Z"
    }
   },
   "outputs": [],
   "source": [
    "# Extracting the zip3 field\n",
    "data[\"ZIP\"]=data[\"ZIP\"].astype(str)\n",
    "data[\"zip3\"]=data[\"ZIP\"].str[:3]"
   ]
  },
  {
   "cell_type": "code",
   "execution_count": null,
   "metadata": {
    "ExecuteTime": {
     "start_time": "2021-02-21T08:42:21.576Z"
    },
    "scrolled": true
   },
   "outputs": [],
   "source": [
    "# Deriving the remaining variables\n",
    "zip5_mean=data.groupby(\"ZIP\")[new].mean()\n",
    "zip3_mean=data.groupby(\"zip3\")[new].mean()\n",
    "taxclass_mean=data.groupby(\"TAXCLASS\")[new].mean()\n",
    "borough_mean=data.groupby(\"B\")[new].mean()\n",
    "data=data.join(zip5_mean, on=\"ZIP\",rsuffix='_zip5')\n",
    "data=data.join(zip3_mean, on=\"zip3\",rsuffix='_zip3')\n",
    "data=data.join(taxclass_mean, on=\"TAXCLASS\",rsuffix='_taxclass')\n",
    "data=data.join(borough_mean, on=\"B\",rsuffix='_boro')\n",
    "r_suffix=['_zip5','_zip3','_taxclass','_boro']\n",
    "\n",
    "for var in new:\n",
    "    for r in r_suffix:\n",
    "        data[str(var)+r]=data[var]/data[str(var)+r]"
   ]
  },
  {
   "cell_type": "markdown",
   "metadata": {},
   "source": [
    "<div align='left'><font size='3' color='brick'>Let's take a look at the fields we have in our data set now.</font></div>"
   ]
  },
  {
   "cell_type": "code",
   "execution_count": null,
   "metadata": {
    "ExecuteTime": {
     "start_time": "2021-02-21T08:42:21.583Z"
    }
   },
   "outputs": [],
   "source": [
    "data.head()"
   ]
  },
  {
   "cell_type": "code",
   "execution_count": null,
   "metadata": {
    "ExecuteTime": {
     "start_time": "2021-02-21T08:42:21.587Z"
    }
   },
   "outputs": [],
   "source": [
    "data.columns"
   ]
  },
  {
   "cell_type": "code",
   "execution_count": null,
   "metadata": {
    "ExecuteTime": {
     "start_time": "2021-02-21T08:42:21.590Z"
    }
   },
   "outputs": [],
   "source": [
    "data.drop(columns=['B', 'TAXCLASS', 'LTFRONT', 'LTDEPTH', 'STORIES', 'V1', 'V2', 'V3',\n",
    "       'ZIP', 'BLDFRONT', 'BLDDEPTH', 'S1', 'S2', 'S3','zip3'], inplace=True)"
   ]
  },
  {
   "cell_type": "markdown",
   "metadata": {},
   "source": [
    "<div align='left'><font size='3' color='brick'>Now, we have our features ready for further analysis.</font></div>"
   ]
  },
  {
   "cell_type": "code",
   "execution_count": null,
   "metadata": {
    "ExecuteTime": {
     "start_time": "2021-02-21T08:42:21.599Z"
    }
   },
   "outputs": [],
   "source": [
    "data.head()"
   ]
  },
  {
   "cell_type": "code",
   "execution_count": null,
   "metadata": {
    "ExecuteTime": {
     "start_time": "2021-02-21T08:42:21.602Z"
    }
   },
   "outputs": [],
   "source": [
    "stats=data.describe().transpose()"
   ]
  },
  {
   "cell_type": "code",
   "execution_count": null,
   "metadata": {
    "ExecuteTime": {
     "start_time": "2021-02-21T08:42:21.606Z"
    }
   },
   "outputs": [],
   "source": [
    "stats.to_csv('stats-submitted.csv')"
   ]
  },
  {
   "cell_type": "markdown",
   "metadata": {},
   "source": [
    "# Principal Component Analysis\n",
    "\n",
    "We do PCA to reduce the number of dimensions in our data set. PCA also removes correlations between variables which can otherwise interfere with the accuracy of our fraud model."
   ]
  },
  {
   "cell_type": "markdown",
   "metadata": {},
   "source": [
    "## Z-scale\n",
    "<br>\n",
    "<div align='left'><font size='3' color='brick'>z-scaling before PCA</font></div>\n",
    "Z-scaling is important to bring all the variables down to a common, unit-free scale. \n",
    "\n",
    "$$z = \\frac{ x - \\mu}{\\sigma}$$\n",
    "\n",
    "$\\mu$ is the mean and $\\sigma$ is the standard deviation of the variable."
   ]
  },
  {
   "cell_type": "code",
   "execution_count": null,
   "metadata": {
    "ExecuteTime": {
     "start_time": "2021-02-21T08:42:21.613Z"
    }
   },
   "outputs": [],
   "source": [
    "# Let's make a copy of our variables just in case\n",
    "data_orig=data.copy()\n",
    "\n",
    "# Next, we drop the `RECORD` column\n",
    "data.drop(columns='RECORD',inplace=True)\n",
    "\n",
    "# Quick check to see if RECORD was dropped properly\n",
    "data.head(2)"
   ]
  },
  {
   "cell_type": "code",
   "execution_count": null,
   "metadata": {
    "ExecuteTime": {
     "start_time": "2021-02-21T08:42:21.617Z"
    }
   },
   "outputs": [],
   "source": [
    "data=(data - data.mean())/data.std()"
   ]
  },
  {
   "cell_type": "markdown",
   "metadata": {},
   "source": [
    "## PCA\n",
    "<div align='left'><font size='3' color='brick'>Computing the principal components</font></div>\n",
    "Now that we have the z-scores for all the features, I'm going to compute the principal components next."
   ]
  },
  {
   "cell_type": "code",
   "execution_count": null,
   "metadata": {
    "ExecuteTime": {
     "start_time": "2021-02-21T08:42:21.624Z"
    }
   },
   "outputs": [],
   "source": [
    "from sklearn.decomposition import PCA\n",
    "\n",
    "# By setting n_components=.99, we want 99% of the variance to be explained\n",
    "# We also maximize accuracy by setting svd_solver='full'\n",
    "pca = PCA(n_components = .99, svd_solver = 'full')\n",
    "pca.fit(data)\n",
    "\n",
    "# Variance plot\n",
    "plt.plot(np.cumsum(pca.explained_variance_ratio_),marker='o',color='b')\n",
    "plt.title('The number of components needed to explain variance',pad=20)\n",
    "plt.xlabel('Number of components')\n",
    "plt.ylabel('Cumulative explained variance')\n",
    "plt.yticks(np.arange(0.05, 1.1, step=.1))\n",
    "plt.xticks(np.arange(0, 20, step=2))\n",
    "plt.axvline(x=6, linestyle='--',color='grey')\n",
    "plt.axhline(y=0.95, color='grey', linestyle='--')\n",
    "plt.ylim(0,1)\n",
    "\n",
    "# Remove right and top spines\n",
    "plt.gca().spines['top'].set_visible(False)\n",
    "plt.gca().spines['right'].set_visible(False)"
   ]
  },
  {
   "cell_type": "markdown",
   "metadata": {},
   "source": [
    "Based on the above plot, we see that 6 components explain ~95% of the variance. So we go ahead with 6 components for further recomputation."
   ]
  },
  {
   "cell_type": "code",
   "execution_count": null,
   "metadata": {
    "ExecuteTime": {
     "start_time": "2021-02-21T08:42:21.628Z"
    }
   },
   "outputs": [],
   "source": [
    "pca = PCA(n_components = 6)\n",
    "princ_comps = pca.fit_transform(data)\n",
    "data_pca = pd.DataFrame(princ_comps, columns = ['PC' + str(i) for i in range(1, pca.n_components_+1)])\n",
    "print(f'Shape of data: {data_pca.shape}\\n{data_pca.head(3)}')\n"
   ]
  },
  {
   "cell_type": "markdown",
   "metadata": {},
   "source": [
    "## Z-scaling the PCs\n",
    "<br>\n",
    "<div align='left'><font size='3' color='brick'>z-scaling the 6 Principal Components</font></div>"
   ]
  },
  {
   "cell_type": "code",
   "execution_count": null,
   "metadata": {
    "ExecuteTime": {
     "start_time": "2021-02-21T08:42:21.632Z"
    }
   },
   "outputs": [],
   "source": [
    "pca_mean = data_pca.mean()\n",
    "pca_sd = data_pca.std()\n",
    "data_pca = (data_pca - pca_mean) / pca_sd\n",
    "\n"
   ]
  },
  {
   "cell_type": "code",
   "execution_count": null,
   "metadata": {
    "ExecuteTime": {
     "start_time": "2021-02-21T08:42:21.637Z"
    }
   },
   "outputs": [],
   "source": [
    "# To check the means and dtandard deviations\n",
    "data_pca.describe().round()"
   ]
  },
  {
   "cell_type": "markdown",
   "metadata": {},
   "source": [
    "# Model 1 - Outliers\n",
    "\n",
    "In the first fraud detection model, we use the Z-scores to see if there are any points that appear outside the trend of non-fraud tax data. \n",
    "\n",
    "We will use a heuristic algorithm to combine the Z-scores and calculate a fraud score for each record. The first score $s_i^1$ for each record $i$ will be calculate using the following formula:\n",
    "\n",
    "$$s_i^1=(\\sum_{k}|PCz_k^i|^p)^\\frac{1}{p}$$\n",
    "\n",
    "We choose p=2 to follow the Euclidean distance formula.\n"
   ]
  },
  {
   "cell_type": "code",
   "execution_count": null,
   "metadata": {
    "ExecuteTime": {
     "start_time": "2021-02-21T08:42:21.641Z"
    }
   },
   "outputs": [],
   "source": [
    "p=2\n",
    "one_over_p = 1/p\n",
    "score1 = (((data_pca).abs()**p).sum(axis=1))**one_over_p\n"
   ]
  },
  {
   "cell_type": "code",
   "execution_count": null,
   "metadata": {
    "ExecuteTime": {
     "start_time": "2021-02-21T08:42:21.647Z"
    }
   },
   "outputs": [],
   "source": [
    "score1.head()"
   ]
  },
  {
   "cell_type": "markdown",
   "metadata": {},
   "source": [
    "# Model 2 - Autoencoder"
   ]
  },
  {
   "cell_type": "code",
   "execution_count": null,
   "metadata": {
    "ExecuteTime": {
     "start_time": "2021-02-21T08:42:21.652Z"
    }
   },
   "outputs": [],
   "source": [
    "from keras.models import Model\n",
    "from keras.layers import Input, Dense\n",
    "# placeholder for input\n",
    "data_in = Input(shape=(6,))\n",
    "# dimension of the encoded data. Choose 3\n",
    "encoded_dim = 3\n",
    "# encoded representation of the data\n",
    "encoded = Dense(encoded_dim, activation='tanh')(data_in)\n",
    "# reconstruction of the input\n",
    "decoded = Dense(6,activation='tanh')(encoded)\n",
    "# this model maps the input data to the reconstructed data\n",
    "autoencoder = Model(data_in, decoded)\n",
    "\n",
    "autoencoder.compile(optimizer='adam', \\\n",
    "                    loss='mean_squared_error')\n",
    "\n",
    "autoencoder.fit(data_pca,data_pca, epochs=5,\\\n",
    "                shuffle=True, validation_data=(data_pca,data_pca))\n",
    "\n",
    "pca_out = autoencoder.predict(data_pca)\n",
    "error = pca_out-data_pca\n",
    "p=2\n",
    "oop=1/p\n",
    "score2 = ((error.abs()**p).sum(axis=1))**oop\n"
   ]
  },
  {
   "cell_type": "code",
   "execution_count": null,
   "metadata": {
    "ExecuteTime": {
     "start_time": "2021-02-21T08:42:21.656Z"
    }
   },
   "outputs": [],
   "source": [
    "score2.head()"
   ]
  },
  {
   "cell_type": "code",
   "execution_count": null,
   "metadata": {
    "ExecuteTime": {
     "start_time": "2021-02-21T08:42:21.659Z"
    }
   },
   "outputs": [],
   "source": [
    "scores = pd.DataFrame(score1)\n",
    "scores.columns=['score1']\n",
    "scores['score2'] = score2\n",
    "scores['score1 rank'] = scores['score1'].rank()\n",
    "scores['score2 rank'] = scores['score2'].rank()\n",
    "scores['final'] = (scores['score1 rank'] + scores['score2 rank'])/2\n",
    "\n",
    "# Filtering out the top 20 records for a sanity check\n",
    "top_records = scores.sort_values(['final'], ascending = False).head(20).index\n"
   ]
  },
  {
   "cell_type": "markdown",
   "metadata": {},
   "source": [
    "# Plotting score distributions"
   ]
  },
  {
   "cell_type": "code",
   "execution_count": null,
   "metadata": {
    "ExecuteTime": {
     "start_time": "2021-02-21T08:42:21.663Z"
    }
   },
   "outputs": [],
   "source": [
    "plt.hist(score1,bins=100, range=(0,1000))\n",
    "plt.yscale('log')\n",
    "plt.ylim(ymin=.1)"
   ]
  },
  {
   "cell_type": "code",
   "execution_count": null,
   "metadata": {
    "ExecuteTime": {
     "start_time": "2021-02-21T08:42:21.667Z"
    }
   },
   "outputs": [],
   "source": [
    "plt.hist(score2,bins=100, range=(0,1000))\n",
    "plt.yscale('log')\n",
    "plt.ylim(ymin=.1)"
   ]
  },
  {
   "cell_type": "code",
   "execution_count": null,
   "metadata": {
    "ExecuteTime": {
     "start_time": "2021-02-21T08:42:21.672Z"
    }
   },
   "outputs": [],
   "source": [
    "sns.distplot(scores['final'])"
   ]
  },
  {
   "cell_type": "markdown",
   "metadata": {},
   "source": [
    "# Sanity Check\n",
    "\n",
    "I pulled out the top 20 records flagged as fraud by our algorithms for a quick sanity check. "
   ]
  },
  {
   "cell_type": "code",
   "execution_count": null,
   "metadata": {
    "ExecuteTime": {
     "start_time": "2021-02-21T08:42:21.678Z"
    }
   },
   "outputs": [],
   "source": [
    "top_records"
   ]
  },
  {
   "cell_type": "code",
   "execution_count": null,
   "metadata": {
    "ExecuteTime": {
     "start_time": "2021-02-21T08:42:21.684Z"
    }
   },
   "outputs": [],
   "source": [
    "scores.head()"
   ]
  },
  {
   "cell_type": "code",
   "execution_count": null,
   "metadata": {
    "ExecuteTime": {
     "start_time": "2021-02-21T08:42:21.691Z"
    }
   },
   "outputs": [],
   "source": [
    "new_merged=prop_df.merge(scores, left_index=True,right_index=True)\n",
    "new_merged.head()"
   ]
  },
  {
   "cell_type": "code",
   "execution_count": null,
   "metadata": {
    "ExecuteTime": {
     "start_time": "2021-02-21T08:42:21.694Z"
    }
   },
   "outputs": [],
   "source": [
    "xyz=new_merged.sort_values([\"final\"],ascending=False).head(20).index\n",
    "xyz==top_records"
   ]
  },
  {
   "cell_type": "code",
   "execution_count": null,
   "metadata": {
    "ExecuteTime": {
     "start_time": "2021-02-21T08:42:21.700Z"
    }
   },
   "outputs": [],
   "source": [
    "top_20=new_merged.sort_values([\"final\"],ascending=False).head(20)\n",
    "top_20.drop(columns=['score1','score2'], inplace=True)\n",
    "writer=pd.ExcelWriter('top20.xlsx')\n",
    "top_20.to_excel(writer,sheet_name='Top 20',index=False)\n",
    "writer.save()"
   ]
  },
  {
   "cell_type": "markdown",
   "metadata": {},
   "source": [
    "After saving to excel, I created a heatmap to check which features caused the records to be abnormal."
   ]
  },
  {
   "cell_type": "code",
   "execution_count": null,
   "metadata": {
    "ExecuteTime": {
     "start_time": "2021-02-21T08:42:21.710Z"
    }
   },
   "outputs": [],
   "source": [
    "z_sc_100=data.loc[top_records,:]\n",
    "z_sc_100.head()\n",
    "z_sc_100['RECORD']=(z_sc_100.index + 1).astype(int)\n",
    "z_sc_100.set_index('RECORD',inplace=True)\n",
    "z_sc_100.head()\n",
    "z_sc_100_abs = z_sc_100.abs()\n",
    "data_heatmap = z_sc_100.abs().head(10)\n",
    "plt.rcParams['figure.figsize'] = (20,10)\n",
    "ax = sns.heatmap(data_heatmap, center=0, vmin=0, vmax=50, cmap='Reds')\n",
    "ax.xaxis.tick_top()\n",
    "ax.xaxis.set_label_position('top')\n",
    "plt.xticks(rotation=90)\n",
    "plt.savefig('heatmap.png')"
   ]
  },
  {
   "cell_type": "markdown",
   "metadata": {},
   "source": [
    "From the above dataframe, I realized a number of the properties flagged as fraud were either government owned, were parks with very little built up area compared to land area with high valuation which was probably why they were flagged as fraud by the algorithm.\n"
   ]
  },
  {
   "cell_type": "code",
   "execution_count": null,
   "metadata": {},
   "outputs": [],
   "source": []
  }
 ],
 "metadata": {
  "kernelspec": {
   "display_name": "Python 3",
   "language": "python",
   "name": "python3"
  },
  "language_info": {
   "codemirror_mode": {
    "name": "ipython",
    "version": 3
   },
   "file_extension": ".py",
   "mimetype": "text/x-python",
   "name": "python",
   "nbconvert_exporter": "python",
   "pygments_lexer": "ipython3",
   "version": "3.8.3"
  },
  "toc": {
   "base_numbering": 1,
   "nav_menu": {},
   "number_sections": true,
   "sideBar": true,
   "skip_h1_title": false,
   "title_cell": "Table of Contents",
   "title_sidebar": "Contents",
   "toc_cell": false,
   "toc_position": {
    "height": "calc(100% - 180px)",
    "left": "10px",
    "top": "150px",
    "width": "165px"
   },
   "toc_section_display": true,
   "toc_window_display": true
  },
  "varInspector": {
   "cols": {
    "lenName": 16,
    "lenType": 16,
    "lenVar": 40
   },
   "kernels_config": {
    "python": {
     "delete_cmd_postfix": "",
     "delete_cmd_prefix": "del ",
     "library": "var_list.py",
     "varRefreshCmd": "print(var_dic_list())"
    },
    "r": {
     "delete_cmd_postfix": ") ",
     "delete_cmd_prefix": "rm(",
     "library": "var_list.r",
     "varRefreshCmd": "cat(var_dic_list()) "
    }
   },
   "types_to_exclude": [
    "module",
    "function",
    "builtin_function_or_method",
    "instance",
    "_Feature"
   ],
   "window_display": false
  }
 },
 "nbformat": 4,
 "nbformat_minor": 4
}
